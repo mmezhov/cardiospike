{
 "cells": [
  {
   "cell_type": "code",
   "execution_count": 1,
   "id": "boring-house",
   "metadata": {},
   "outputs": [],
   "source": [
    "import pandas as pd\n",
    "import pickle\n",
    "import lightgbm as lgb\n",
    "import matplotlib.pyplot as plt\n",
    "import numpy as np\n",
    "\n",
    "from sklearn.preprocessing import StandardScaler\n",
    "from sklearn.model_selection import cross_validate, StratifiedKFold\n",
    "from sklearn.metrics import f1_score\n",
    "from scipy.stats import entropy"
   ]
  },
  {
   "cell_type": "code",
   "execution_count": 2,
   "id": "latter-arctic",
   "metadata": {},
   "outputs": [],
   "source": [
    "from scipy.fft import rfft, rfftfreq, irfft"
   ]
  },
  {
   "cell_type": "code",
   "execution_count": 3,
   "id": "strong-senior",
   "metadata": {},
   "outputs": [],
   "source": [
    "# Const\n",
    "RANDOM_STATE = 0"
   ]
  },
  {
   "cell_type": "markdown",
   "id": "studied-republican",
   "metadata": {},
   "source": [
    "# Полезные методы"
   ]
  },
  {
   "cell_type": "code",
   "execution_count": 4,
   "id": "unavailable-stone",
   "metadata": {},
   "outputs": [],
   "source": [
    "def make_XY(df):\n",
    "    \"\"\"\n",
    "    Подготовка признаков для обучения модели\n",
    "    df: dataset\n",
    "    return:\n",
    "    X: numpy array with features, values are scaled\n",
    "    y: numpy array of target labels\n",
    "    \"\"\"\n",
    "    X = df.drop(['y','id','time'], axis=1)\n",
    "    y = df.y.to_numpy()\n",
    "\n",
    "    scaler = StandardScaler().fit(X.to_numpy())\n",
    "    X = scaler.transform(X.to_numpy())\n",
    "\n",
    "    with open('scaler-isd-pipeline-10.pkl', 'wb') as f:\n",
    "        pickle.dump(scaler, f)\n",
    "        \n",
    "    print('scaler-isd-pipeline-10.pkl was saved in output directory')\n",
    "\n",
    "    return X, y\n",
    "\n",
    "\n",
    "def get_train_test_indexes(X,y):\n",
    "    \"\"\"\n",
    "    X,y: numpy arrays with features and target\n",
    "    return stratified indexes:\n",
    "        train_indexes: indexes for train data\n",
    "        test_indexes: indexes for test data\n",
    "    \"\"\"\n",
    "    skf = StratifiedKFold()\n",
    "    folds = dict()\n",
    "    for i, (train_indexes, test_indexes) in enumerate(skf.split(X,y)):\n",
    "        folds[i] = {\n",
    "            'train_indexes': train_indexes,\n",
    "            'test_indexes': test_indexes\n",
    "        }\n",
    "    return folds[0]['train_indexes'].tolist(), folds[0]['test_indexes'].tolist()\n",
    "\n",
    "\n",
    "def plot_RR(rr_ids, data):\n",
    "    \"\"\"\n",
    "    Рисует графики ритмограмм с разметкой аномальных участков\n",
    "    rr_ids: список идентификаторов ритмограмм\n",
    "    data: набор данных\n",
    "    \"\"\"\n",
    "    df = data.set_index('time').copy()\n",
    "    for rr_id in rr_ids:\n",
    "        fig = plt.figure(figsize=(20,5))\n",
    "        plt.title(f'R-R №{rr_id}')\n",
    "        plt.plot(df[df.id == rr_id].x, '-o', zorder=1)\n",
    "        df_anomaly = df[(df.id == rr_id)&(df.y == 1)].reset_index()\n",
    "        df_anomaly['time-diff'] = df_anomaly.time.diff()\n",
    "        split_indexes = df_anomaly[df_anomaly['time-diff'] > 1000].index\n",
    "        split_indexes = list(split_indexes)\n",
    "        split_indexes.append(0)\n",
    "        split_indexes.sort()\n",
    "        len_spl = len(split_indexes)\n",
    "        for i in range(len_spl):\n",
    "            if i == len_spl-1:\n",
    "                mask = (df_anomaly.index >= split_indexes[i])\n",
    "                plt.plot(df_anomaly[mask].time, df_anomaly[mask].x, '-o',\n",
    "                     label='аномальный участок', color='red', zorder=2)\n",
    "            else:\n",
    "                mask = (df_anomaly.index >= split_indexes[i])&(df_anomaly.index < split_indexes[i+1])\n",
    "                plt.plot(df_anomaly[mask].time, df_anomaly[mask].x, '-o',\n",
    "                         color='red', zorder=2)\n",
    "        plt.legend()\n",
    "        plt.xlabel('R-R timeline, ms')\n",
    "        plt.ylabel('R-R interval')\n",
    "        plt.show()\n",
    "        \n",
    "        \n",
    "def entropy1(labels, base=None):\n",
    "    _, counts = np.unique(labels, return_counts=True)\n",
    "    return entropy(counts, base=base)\n",
    "\n",
    "\n",
    "def make_dataset(data):\n",
    "    \"\"\"\n",
    "    Автоматизация подготовки датасета\n",
    "    \"\"\"\n",
    "    df = data.copy()\n",
    "    ids = df.id.unique()\n",
    "    for rr_id in ids:\n",
    "        mask = (df.id==rr_id) \n",
    "        \n",
    "        DURATION = df.loc[mask].time.index[-1]-df.loc[mask].time.index[0]\n",
    "        SAMPLE_RATE = len(df.loc[mask])/DURATION\n",
    "        N = int(SAMPLE_RATE * DURATION)\n",
    "        yf = rfft(df.loc[mask, 'x'])\n",
    "        for j in range(10):\n",
    "            yf[:j*2] = 0\n",
    "            irr = irfft(yf)\n",
    "            if len(df.loc[mask])-len(irr)==1:\n",
    "                irr = np.append(irr, np.nan)\n",
    "            df.loc[mask, f'fft_x_{j}'] = irr\n",
    "            df.fillna(method='ffill', inplace=True)\n",
    "            \n",
    "        df.loc[mask, 'entropy'] = df[mask].x.rolling(20).apply(entropy1).fillna(method='bfill')\n",
    "        df.loc[mask, 'x_diff'] = df[mask].x.diff()\n",
    "        df.fillna(method='bfill', inplace=True)\n",
    "        df.loc[mask, 'x_deviation_median'] = df[mask].x.median() - df[mask].x.values\n",
    "        df.loc[mask, 'sign'] = np.sign(df.loc[mask, 'x_deviation_median'])\n",
    "        df.loc[mask, 'sign_change'] = df.loc[mask, 'sign'].diff().fillna(method='bfill')\n",
    "        df.drop(columns=['sign'], inplace=True)\n",
    "        for i in range(1,8):\n",
    "            # добавим в признаки 6 следующих точки\n",
    "            df.loc[mask, f'x+{i}'] = df[mask].x.shift(-i)\n",
    "            # и 6 предыдущие точки\n",
    "            df.loc[mask, f'x-{i}'] = df[mask].x.shift(i)\n",
    "        df.loc[mask, 'x-(x+1)'] = df[mask].x.values - df.loc[mask, 'x+1'].values\n",
    "        df.loc[mask, 'x-(x+2)'] = df[mask].x.values - df.loc[mask, 'x+2'].values\n",
    "        df.loc[mask, 'x-(x-2)'] = df[mask].x.values - df.loc[mask, 'x-2'].values\n",
    "        df.loc[mask, 'x-(x+3)'] = df[mask].x.values - df.loc[mask, 'x+3'].values\n",
    "        df.loc[mask, 'x-(x-3)'] = df[mask].x.values - df.loc[mask, 'x-3'].values\n",
    "        df.loc[mask, 'x-(x+4)'] = df[mask].x.values - df.loc[mask, 'x+4'].values\n",
    "        df.loc[mask, 'x-(x-4)'] = df[mask].x.values - df.loc[mask, 'x-4'].values\n",
    "        df.loc[mask, 'x-(x+5)'] = df[mask].x.values - df.loc[mask, 'x+5'].values\n",
    "        df.loc[mask, 'x-(x-5)'] = df[mask].x.values - df.loc[mask, 'x-5'].values\n",
    "        df.loc[mask, 'x-(x+6)'] = df[mask].x.values - df.loc[mask, 'x+6'].values\n",
    "        df.loc[mask, 'x-(x-6)'] = df[mask].x.values - df.loc[mask, 'x-6'].values\n",
    "        df.loc[mask, 'x-(x+7)'] = df[mask].x.values - df.loc[mask, 'x+7'].values\n",
    "        df.loc[mask, 'x-(x-7)'] = df[mask].x.values - df.loc[mask, 'x-7'].values\n",
    "\n",
    "        df.fillna(method='bfill', inplace=True)\n",
    "        df.fillna(method='ffill', inplace=True)\n",
    "        \n",
    "        df.loc[mask, 'entropy_x_deviation_median'] = df.loc[mask,'x_deviation_median'].rolling(20).apply(entropy1).fillna(method='bfill')\n",
    "\n",
    "        df.loc[:,'x/(x-1)'] = df.x/df['x-1']\n",
    "        df.loc[:,'x/(x+1)'] = df.x/df['x+1']\n",
    "        df.loc[:,'x/(x-2)'] = df.x/df['x-2']\n",
    "        df.loc[:,'x/(x+2)'] = df.x/df['x+2']\n",
    "    return df"
   ]
  },
  {
   "cell_type": "markdown",
   "id": "emerging-cornell",
   "metadata": {},
   "source": [
    "# Данные"
   ]
  },
  {
   "cell_type": "code",
   "execution_count": 5,
   "id": "limiting-southwest",
   "metadata": {},
   "outputs": [],
   "source": [
    "data = pd.read_csv('../input/cardiospikecompetition/train.csv')\n",
    "\n",
    "index_to_drop = data[data.id==107].loc[17186:].index\n",
    "data.drop(index=index_to_drop, inplace=True)\n",
    "index_to_drop = data[data.id==108].loc[:19505].index\n",
    "data.drop(index=index_to_drop, inplace=True)\n",
    "index_to_drop = data[data.id==109].loc[19705:20351].index\n",
    "data.drop(index=index_to_drop, inplace=True)\n",
    "index_to_drop = data[data.id==127].loc[:24200].index\n",
    "data.drop(index=index_to_drop, inplace=True)\n",
    "  \n",
    "df = make_dataset(data)"
   ]
  },
  {
   "cell_type": "markdown",
   "id": "isolated-section",
   "metadata": {},
   "source": [
    "# X, y"
   ]
  },
  {
   "cell_type": "code",
   "execution_count": 6,
   "id": "trained-oliver",
   "metadata": {},
   "outputs": [
    {
     "name": "stdout",
     "output_type": "stream",
     "text": [
      "scaler-isd-pipeline-10.pkl was saved in output directory\n"
     ]
    }
   ],
   "source": [
    "# make X and y\n",
    "X,y = make_XY(df)"
   ]
  },
  {
   "cell_type": "markdown",
   "id": "outdoor-yield",
   "metadata": {},
   "source": [
    "# Обучение модели"
   ]
  },
  {
   "cell_type": "code",
   "execution_count": 7,
   "id": "alien-tuning",
   "metadata": {},
   "outputs": [
    {
     "data": {
      "text/plain": [
       "LGBMClassifier(learning_rate=0.01, n_estimators=3860, random_state=0)"
      ]
     },
     "execution_count": 7,
     "metadata": {},
     "output_type": "execute_result"
    }
   ],
   "source": [
    "model = lgb.LGBMClassifier(n_estimators=3860, learning_rate=0.01, random_state=RANDOM_STATE, n_jobs=-1)\n",
    "model.fit(X, y, verbose=False)"
   ]
  },
  {
   "cell_type": "markdown",
   "id": "auburn-literature",
   "metadata": {},
   "source": [
    "mean test_score = 0.7995275432084059"
   ]
  },
  {
   "cell_type": "code",
   "execution_count": 8,
   "id": "harmful-closure",
   "metadata": {},
   "outputs": [
    {
     "name": "stderr",
     "output_type": "stream",
     "text": [
      "[Parallel(n_jobs=-1)]: Using backend LokyBackend with 8 concurrent workers.\n",
      "[Parallel(n_jobs=-1)]: Done   2 out of   5 | elapsed:   46.0s remaining:  1.2min\n"
     ]
    },
    {
     "name": "stdout",
     "output_type": "stream",
     "text": [
      "test_score: [0.86304282 0.75462629 0.74954628 0.82267717 0.79586877]\n",
      "mean test_score = 0.7971522654968907\n"
     ]
    },
    {
     "name": "stderr",
     "output_type": "stream",
     "text": [
      "[Parallel(n_jobs=-1)]: Done   5 out of   5 | elapsed:   47.5s finished\n"
     ]
    }
   ],
   "source": [
    "cv_result = cross_validate(model, X, y, cv=StratifiedKFold(), scoring='f1', verbose=1, n_jobs=-1)\n",
    "\n",
    "print('test_score:', cv_result['test_score'])\n",
    "print('mean test_score =', cv_result['test_score'].mean())"
   ]
  },
  {
   "cell_type": "code",
   "execution_count": 9,
   "id": "applicable-cooperation",
   "metadata": {},
   "outputs": [
    {
     "data": {
      "image/png": "[encoded data removed]",
      "text/plain": [
       "<Figure size 720x720 with 1 Axes>"
      ]
     },
     "metadata": {
      "needs_background": "light"
     },
     "output_type": "display_data"
    }
   ],
   "source": [
    "importance = model.feature_importances_\n",
    "features = df.drop(['y','id','time'],axis=1).columns\n",
    "\n",
    "sorted_indexes = np.argsort(importance)\n",
    "fig = plt.figure(figsize=(10,10))\n",
    "plt.barh(y=features[sorted_indexes], width=importance[sorted_indexes])\n",
    "plt.title('Значимость призаков')\n",
    "plt.xlabel('Показатель значимости')\n",
    "plt.ylabel('Признак')\n",
    "plt.show()"
   ]
  },
  {
   "cell_type": "code",
   "execution_count": 10,
   "id": "romance-whale",
   "metadata": {},
   "outputs": [],
   "source": [
    "with open('model-isd-pipeline-10.pkl', 'wb') as f:\n",
    "    pickle.dump(model, f)"
   ]
  },
  {
   "cell_type": "markdown",
   "id": "infrared-offense",
   "metadata": {},
   "source": [
    "# Проверка на тестовых данных"
   ]
  },
  {
   "cell_type": "code",
   "execution_count": 11,
   "id": "upset-output",
   "metadata": {},
   "outputs": [],
   "source": [
    "test_data = pd.read_csv('../input/cardiospikecompetition/test.csv')"
   ]
  },
  {
   "cell_type": "code",
   "execution_count": 12,
   "id": "defensive-lincoln",
   "metadata": {},
   "outputs": [
    {
     "name": "stdout",
     "output_type": "stream",
     "text": [
      "<class 'pandas.core.frame.DataFrame'>\n",
      "RangeIndex: 15034 entries, 0 to 15033\n",
      "Data columns (total 49 columns):\n",
      " #   Column                      Non-Null Count  Dtype  \n",
      "---  ------                      --------------  -----  \n",
      " 0   id                          15034 non-null  int64  \n",
      " 1   time                        15034 non-null  int64  \n",
      " 2   x                           15034 non-null  int64  \n",
      " 3   fft_x_0                     15034 non-null  float64\n",
      " 4   fft_x_1                     15034 non-null  float64\n",
      " 5   fft_x_2                     15034 non-null  float64\n",
      " 6   fft_x_3                     15034 non-null  float64\n",
      " 7   fft_x_4                     15034 non-null  float64\n",
      " 8   fft_x_5                     15034 non-null  float64\n",
      " 9   fft_x_6                     15034 non-null  float64\n",
      " 10  fft_x_7                     15034 non-null  float64\n",
      " 11  fft_x_8                     15034 non-null  float64\n",
      " 12  fft_x_9                     15034 non-null  float64\n",
      " 13  entropy                     15034 non-null  float64\n",
      " 14  x_diff                      15034 non-null  float64\n",
      " 15  x_deviation_median          15034 non-null  float64\n",
      " 16  sign_change                 15034 non-null  float64\n",
      " 17  x+1                         15034 non-null  float64\n",
      " 18  x-1                         15034 non-null  float64\n",
      " 19  x+2                         15034 non-null  float64\n",
      " 20  x-2                         15034 non-null  float64\n",
      " 21  x+3                         15034 non-null  float64\n",
      " 22  x-3                         15034 non-null  float64\n",
      " 23  x+4                         15034 non-null  float64\n",
      " 24  x-4                         15034 non-null  float64\n",
      " 25  x+5                         15034 non-null  float64\n",
      " 26  x-5                         15034 non-null  float64\n",
      " 27  x+6                         15034 non-null  float64\n",
      " 28  x-6                         15034 non-null  float64\n",
      " 29  x+7                         15034 non-null  float64\n",
      " 30  x-7                         15034 non-null  float64\n",
      " 31  x-(x+1)                     15034 non-null  float64\n",
      " 32  x-(x+2)                     15034 non-null  float64\n",
      " 33  x-(x-2)                     15034 non-null  float64\n",
      " 34  x-(x+3)                     15034 non-null  float64\n",
      " 35  x-(x-3)                     15034 non-null  float64\n",
      " 36  x-(x+4)                     15034 non-null  float64\n",
      " 37  x-(x-4)                     15034 non-null  float64\n",
      " 38  x-(x+5)                     15034 non-null  float64\n",
      " 39  x-(x-5)                     15034 non-null  float64\n",
      " 40  x-(x+6)                     15034 non-null  float64\n",
      " 41  x-(x-6)                     15034 non-null  float64\n",
      " 42  x-(x+7)                     15034 non-null  float64\n",
      " 43  x-(x-7)                     15034 non-null  float64\n",
      " 44  entropy_x_deviation_median  15034 non-null  float64\n",
      " 45  x/(x-1)                     15034 non-null  float64\n",
      " 46  x/(x+1)                     15034 non-null  float64\n",
      " 47  x/(x-2)                     15034 non-null  float64\n",
      " 48  x/(x+2)                     15034 non-null  float64\n",
      "dtypes: float64(46), int64(3)\n",
      "memory usage: 5.6 MB\n"
     ]
    }
   ],
   "source": [
    "test_df = make_dataset(test_data)\n",
    "test_df.info()"
   ]
  },
  {
   "cell_type": "code",
   "execution_count": 13,
   "id": "systematic-vacation",
   "metadata": {},
   "outputs": [
    {
     "name": "stdout",
     "output_type": "stream",
     "text": [
      "(15034, 47)\n"
     ]
    }
   ],
   "source": [
    "with open('scaler-isd-pipeline-10.pkl', 'rb') as f:\n",
    "    scaler = pickle.load(f)\n",
    "    \n",
    "X_test = test_df.drop(['id','time'], axis=1).to_numpy()\n",
    "X_test = scaler.transform(X_test)\n",
    "\n",
    "print(X_test.shape)"
   ]
  },
  {
   "cell_type": "code",
   "execution_count": 14,
   "id": "twelve-royal",
   "metadata": {},
   "outputs": [
    {
     "data": {
      "image/png": "[encoded data removed]",
      "text/plain": [
       "<Figure size 432x288 with 1 Axes>"
      ]
     },
     "metadata": {
      "needs_background": "light"
     },
     "output_type": "display_data"
    }
   ],
   "source": [
    "y_pred = model.predict(X_test)\n",
    "plt.bar([0,1], [len(y_pred)-sum(y_pred), sum(y_pred)]);"
   ]
  },
  {
   "cell_type": "code",
   "execution_count": 15,
   "id": "affecting-convergence",
   "metadata": {},
   "outputs": [
    {
     "name": "stdout",
     "output_type": "stream",
     "text": [
      "<class 'pandas.core.frame.DataFrame'>\n",
      "RangeIndex: 15034 entries, 0 to 15033\n",
      "Data columns (total 4 columns):\n",
      " #   Column  Non-Null Count  Dtype\n",
      "---  ------  --------------  -----\n",
      " 0   id      15034 non-null  int64\n",
      " 1   time    15034 non-null  int64\n",
      " 2   x       15034 non-null  int64\n",
      " 3   y       15034 non-null  int64\n",
      "dtypes: int64(4)\n",
      "memory usage: 469.9 KB\n"
     ]
    }
   ],
   "source": [
    "# submit\n",
    "submit = test_data.copy()\n",
    "submit['y'] = y_pred\n",
    "submit.info()"
   ]
  },
  {
   "cell_type": "code",
   "execution_count": 16,
   "id": "moral-agreement",
   "metadata": {},
   "outputs": [
    {
     "data": {
      "text/html": [
       "<div>\n",
       "<style scoped>\n",
       "    .dataframe tbody tr th:only-of-type {\n",
       "        vertical-align: middle;\n",
       "    }\n",
       "\n",
       "    .dataframe tbody tr th {\n",
       "        vertical-align: top;\n",
       "    }\n",
       "\n",
       "    .dataframe thead th {\n",
       "        text-align: right;\n",
       "    }\n",
       "</style>\n",
       "<table border=\"1\" class=\"dataframe\">\n",
       "  <thead>\n",
       "    <tr style=\"text-align: right;\">\n",
       "      <th></th>\n",
       "      <th>id</th>\n",
       "      <th>time</th>\n",
       "      <th>x</th>\n",
       "      <th>y</th>\n",
       "    </tr>\n",
       "  </thead>\n",
       "  <tbody>\n",
       "    <tr>\n",
       "      <th>0</th>\n",
       "      <td>81</td>\n",
       "      <td>0</td>\n",
       "      <td>576</td>\n",
       "      <td>0</td>\n",
       "    </tr>\n",
       "    <tr>\n",
       "      <th>1</th>\n",
       "      <td>81</td>\n",
       "      <td>568</td>\n",
       "      <td>568</td>\n",
       "      <td>0</td>\n",
       "    </tr>\n",
       "    <tr>\n",
       "      <th>2</th>\n",
       "      <td>81</td>\n",
       "      <td>1140</td>\n",
       "      <td>572</td>\n",
       "      <td>0</td>\n",
       "    </tr>\n",
       "    <tr>\n",
       "      <th>3</th>\n",
       "      <td>81</td>\n",
       "      <td>1716</td>\n",
       "      <td>576</td>\n",
       "      <td>0</td>\n",
       "    </tr>\n",
       "    <tr>\n",
       "      <th>4</th>\n",
       "      <td>81</td>\n",
       "      <td>2284</td>\n",
       "      <td>568</td>\n",
       "      <td>0</td>\n",
       "    </tr>\n",
       "    <tr>\n",
       "      <th>...</th>\n",
       "      <td>...</td>\n",
       "      <td>...</td>\n",
       "      <td>...</td>\n",
       "      <td>...</td>\n",
       "    </tr>\n",
       "    <tr>\n",
       "      <th>15029</th>\n",
       "      <td>176</td>\n",
       "      <td>44332</td>\n",
       "      <td>568</td>\n",
       "      <td>1</td>\n",
       "    </tr>\n",
       "    <tr>\n",
       "      <th>15030</th>\n",
       "      <td>176</td>\n",
       "      <td>44968</td>\n",
       "      <td>636</td>\n",
       "      <td>1</td>\n",
       "    </tr>\n",
       "    <tr>\n",
       "      <th>15031</th>\n",
       "      <td>176</td>\n",
       "      <td>45596</td>\n",
       "      <td>628</td>\n",
       "      <td>0</td>\n",
       "    </tr>\n",
       "    <tr>\n",
       "      <th>15032</th>\n",
       "      <td>176</td>\n",
       "      <td>46904</td>\n",
       "      <td>1308</td>\n",
       "      <td>0</td>\n",
       "    </tr>\n",
       "    <tr>\n",
       "      <th>15033</th>\n",
       "      <td>176</td>\n",
       "      <td>48100</td>\n",
       "      <td>1196</td>\n",
       "      <td>0</td>\n",
       "    </tr>\n",
       "  </tbody>\n",
       "</table>\n",
       "<p>15034 rows × 4 columns</p>\n",
       "</div>"
      ],
      "text/plain": [
       "        id   time     x  y\n",
       "0       81      0   576  0\n",
       "1       81    568   568  0\n",
       "2       81   1140   572  0\n",
       "3       81   1716   576  0\n",
       "4       81   2284   568  0\n",
       "...    ...    ...   ... ..\n",
       "15029  176  44332   568  1\n",
       "15030  176  44968   636  1\n",
       "15031  176  45596   628  0\n",
       "15032  176  46904  1308  0\n",
       "15033  176  48100  1196  0\n",
       "\n",
       "[15034 rows x 4 columns]"
      ]
     },
     "execution_count": 16,
     "metadata": {},
     "output_type": "execute_result"
    }
   ],
   "source": [
    "submit"
   ]
  },
  {
   "cell_type": "code",
   "execution_count": 17,
   "id": "inside-oklahoma",
   "metadata": {},
   "outputs": [],
   "source": [
    "submit.to_csv('submit-isd-pipeline-10.csv', index=False)"
   ]
  },
  {
   "cell_type": "markdown",
   "id": "boxed-south",
   "metadata": {},
   "source": [
    "# Дополнительное для презентации"
   ]
  },
  {
   "cell_type": "code",
   "execution_count": 18,
   "id": "dense-techno",
   "metadata": {},
   "outputs": [
    {
     "name": "stdout",
     "output_type": "stream",
     "text": [
      "0: 47432\n",
      "1: 8961\n"
     ]
    }
   ],
   "source": [
    "print('0:', len(df)-sum(df.y))\n",
    "print('1:', sum(df.y))"
   ]
  },
  {
   "cell_type": "code",
   "execution_count": 19,
   "id": "specialized-coordinate",
   "metadata": {},
   "outputs": [
    {
     "name": "stdout",
     "output_type": "stream",
     "text": [
      "0: 84.10972993101981 %\n",
      "1: 15.890270068980193 %\n"
     ]
    }
   ],
   "source": [
    "print('0:', 100*(len(df)-sum(df.y))/len(df), '%')\n",
    "print('1:', 100*sum(df.y)/len(df), '%')"
   ]
  },
  {
   "cell_type": "code",
   "execution_count": 23,
   "id": "employed-bacteria",
   "metadata": {},
   "outputs": [
    {
     "data": {
      "text/plain": [
       "x                             0.012489\n",
       "fft_x_0                       0.014907\n",
       "fft_x_1                       0.006115\n",
       "fft_x_2                       0.002840\n",
       "fft_x_3                       0.000778\n",
       "fft_x_4                      -0.000053\n",
       "fft_x_5                      -0.000039\n",
       "fft_x_6                       0.000193\n",
       "fft_x_7                       0.000698\n",
       "fft_x_8                       0.000769\n",
       "fft_x_9                       0.000667\n",
       "entropy                      -0.235143\n",
       "x_diff                       -0.000870\n",
       "x_deviation_median           -0.019429\n",
       "sign_change                  -0.001503\n",
       "x+1                           0.015041\n",
       "x-1                           0.013826\n",
       "x+2                           0.017743\n",
       "x-2                           0.015331\n",
       "x+3                           0.017498\n",
       "x-3                           0.018359\n",
       "x+4                           0.015830\n",
       "x-4                           0.019996\n",
       "x+5                           0.015799\n",
       "x-5                           0.021487\n",
       "x+6                           0.016545\n",
       "x-6                           0.022047\n",
       "x+7                           0.016991\n",
       "x-7                           0.021346\n",
       "x-(x+1)                      -0.002990\n",
       "x-(x+2)                       0.001301\n",
       "x-(x-2)                      -0.001817\n",
       "x-(x+3)                      -0.000086\n",
       "x-(x-3)                      -0.004262\n",
       "x-(x+4)                      -0.002429\n",
       "x-(x-4)                      -0.005723\n",
       "x-(x+5)                      -0.001960\n",
       "x-(x-5)                      -0.006953\n",
       "x-(x+6)                      -0.003736\n",
       "x-(x-6)                      -0.007441\n",
       "x-(x+7)                       0.000717\n",
       "x-(x-7)                      -0.007081\n",
       "entropy_x_deviation_median   -0.235143\n",
       "x/(x-1)                      -0.045459\n",
       "x/(x+1)                      -0.050182\n",
       "x/(x-2)                      -0.048874\n",
       "x/(x+2)                      -0.051169\n",
       "dtype: float64"
      ]
     },
     "execution_count": 23,
     "metadata": {},
     "output_type": "execute_result"
    }
   ],
   "source": [
    "x_cols = df.drop(['id','time','y'],axis=1).columns\n",
    "corr = df[x_cols].corrwith(df.y)\n"
   ]
  }
 ],
 "metadata": {
  "kernelspec": {
   "display_name": "Python 3",
   "language": "python",
   "name": "python3"
  },
  "language_info": {
   "codemirror_mode": {
    "name": "ipython",
    "version": 3
   },
   "file_extension": ".py",
   "mimetype": "text/x-python",
   "name": "python",
   "nbconvert_exporter": "python",
   "pygments_lexer": "ipython3",
   "version": "3.6.9"
  }
 },
 "nbformat": 4,
 "nbformat_minor": 5
}
