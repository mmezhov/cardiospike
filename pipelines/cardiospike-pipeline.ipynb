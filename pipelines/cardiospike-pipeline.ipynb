{
 "cells": [
  {
   "cell_type": "markdown",
   "id": "psychological-founder",
   "metadata": {
    "papermill": {
     "duration": 0.021419,
     "end_time": "2021-06-18T18:34:58.061989",
     "exception": false,
     "start_time": "2021-06-18T18:34:58.040570",
     "status": "completed"
    },
    "tags": []
   },
   "source": [
    "# Refs\n",
    "- [EDA](https://www.kaggle.com/maximmezhov/cardiospike-eda)\n",
    "- [тетрадка с проверкой гипотезы-2](https://www.kaggle.com/maximmezhov/cardispike-hypothesis-2)"
   ]
  },
  {
   "cell_type": "code",
   "execution_count": 1,
   "id": "typical-vehicle",
   "metadata": {
    "_cell_guid": "b1076dfc-b9ad-4769-8c92-a6c4dae69d19",
    "_uuid": "8f2839f25d086af736a60e9eeb907d3b93b6e0e5",
    "execution": {
     "iopub.execute_input": "2021-06-18T18:34:58.116091Z",
     "iopub.status.busy": "2021-06-18T18:34:58.114294Z",
     "iopub.status.idle": "2021-06-18T18:35:00.361205Z",
     "shell.execute_reply": "2021-06-18T18:35:00.360294Z",
     "shell.execute_reply.started": "2021-06-18T17:43:59.385430Z"
    },
    "papermill": {
     "duration": 2.275429,
     "end_time": "2021-06-18T18:35:00.361383",
     "exception": false,
     "start_time": "2021-06-18T18:34:58.085954",
     "status": "completed"
    },
    "tags": []
   },
   "outputs": [
    {
     "data": {
      "text/html": [
       "<style type='text/css'>\n",
       ".datatable table.frame { margin-bottom: 0; }\n",
       ".datatable table.frame thead { border-bottom: none; }\n",
       ".datatable table.frame tr.coltypes td {  color: #FFFFFF;  line-height: 6px;  padding: 0 0.5em;}\n",
       ".datatable .bool    { background: #DDDD99; }\n",
       ".datatable .object  { background: #565656; }\n",
       ".datatable .int     { background: #5D9E5D; }\n",
       ".datatable .float   { background: #4040CC; }\n",
       ".datatable .str     { background: #CC4040; }\n",
       ".datatable .row_index {  background: var(--jp-border-color3);  border-right: 1px solid var(--jp-border-color0);  color: var(--jp-ui-font-color3);  font-size: 9px;}\n",
       ".datatable .frame tr.coltypes .row_index {  background: var(--jp-border-color0);}\n",
       ".datatable th:nth-child(2) { padding-left: 12px; }\n",
       ".datatable .hellipsis {  color: var(--jp-cell-editor-border-color);}\n",
       ".datatable .vellipsis {  background: var(--jp-layout-color0);  color: var(--jp-cell-editor-border-color);}\n",
       ".datatable .na {  color: var(--jp-cell-editor-border-color);  font-size: 80%;}\n",
       ".datatable .footer { font-size: 9px; }\n",
       ".datatable .frame_dimensions {  background: var(--jp-border-color3);  border-top: 1px solid var(--jp-border-color0);  color: var(--jp-ui-font-color3);  display: inline-block;  opacity: 0.6;  padding: 1px 10px 1px 5px;}\n",
       "</style>\n"
      ],
      "text/plain": [
       "<IPython.core.display.HTML object>"
      ]
     },
     "metadata": {},
     "output_type": "display_data"
    }
   ],
   "source": [
    "import pandas as pd\n",
    "import pickle\n",
    "import lightgbm as lgb\n",
    "import matplotlib.pyplot as plt\n",
    "import numpy as np\n",
    "\n",
    "from sklearn.preprocessing import StandardScaler\n",
    "from sklearn.model_selection import cross_validate, StratifiedKFold\n",
    "from sklearn.metrics import f1_score"
   ]
  },
  {
   "cell_type": "code",
   "execution_count": 2,
   "id": "second-vocabulary",
   "metadata": {
    "execution": {
     "iopub.execute_input": "2021-06-18T18:35:00.398703Z",
     "iopub.status.busy": "2021-06-18T18:35:00.397961Z",
     "iopub.status.idle": "2021-06-18T18:35:00.400775Z",
     "shell.execute_reply": "2021-06-18T18:35:00.400281Z",
     "shell.execute_reply.started": "2021-06-18T17:15:25.144485Z"
    },
    "papermill": {
     "duration": 0.022949,
     "end_time": "2021-06-18T18:35:00.400917",
     "exception": false,
     "start_time": "2021-06-18T18:35:00.377968",
     "status": "completed"
    },
    "tags": []
   },
   "outputs": [],
   "source": [
    "# Const\n",
    "RANDOM_STATE = 0"
   ]
  },
  {
   "cell_type": "markdown",
   "id": "statistical-albuquerque",
   "metadata": {
    "papermill": {
     "duration": 0.015292,
     "end_time": "2021-06-18T18:35:00.431904",
     "exception": false,
     "start_time": "2021-06-18T18:35:00.416612",
     "status": "completed"
    },
    "tags": []
   },
   "source": [
    "# Полезные методы"
   ]
  },
  {
   "cell_type": "code",
   "execution_count": 3,
   "id": "experimental-shape",
   "metadata": {
    "execution": {
     "iopub.execute_input": "2021-06-18T18:35:00.473414Z",
     "iopub.status.busy": "2021-06-18T18:35:00.472755Z",
     "iopub.status.idle": "2021-06-18T18:35:00.475705Z",
     "shell.execute_reply": "2021-06-18T18:35:00.475062Z",
     "shell.execute_reply.started": "2021-06-18T17:23:55.707725Z"
    },
    "papermill": {
     "duration": 0.028415,
     "end_time": "2021-06-18T18:35:00.475860",
     "exception": false,
     "start_time": "2021-06-18T18:35:00.447445",
     "status": "completed"
    },
    "tags": []
   },
   "outputs": [],
   "source": [
    "def make_XY(df):\n",
    "    \"\"\"\n",
    "    df: dataset\n",
    "    return:\n",
    "    X: numpy array with features, values are scaled\n",
    "    y: numpy array of target labels\n",
    "    \"\"\"\n",
    "    X = df.drop(['y','id','time'], axis=1).to_numpy()\n",
    "    y = df.y.to_numpy()\n",
    "\n",
    "    scaler = StandardScaler().fit(X)\n",
    "    X = scaler.transform(X)\n",
    "\n",
    "    with open('scaler.pkl', 'wb') as f:\n",
    "        pickle.dump(scaler, f)\n",
    "        \n",
    "    print('scaler.pkl was saved in output directory')\n",
    "\n",
    "    return X, y\n",
    "\n",
    "\n",
    "def get_train_test_indexes(X,y):\n",
    "    \"\"\"\n",
    "    X,y: numpy arrays with features and target\n",
    "    return stratified indexes:\n",
    "        train_indexes: indexes for train data\n",
    "        test_indexes: indexes for test data\n",
    "    \"\"\"\n",
    "    skf = StratifiedKFold()\n",
    "    folds = dict()\n",
    "    for i, (train_indexes, test_indexes) in enumerate(skf.split(X,y)):\n",
    "        folds[i] = {\n",
    "            'train_indexes': train_indexes,\n",
    "            'test_indexes': test_indexes\n",
    "        }\n",
    "    return folds[0]['train_indexes'].tolist(), folds[0]['test_indexes'].tolist()"
   ]
  },
  {
   "cell_type": "markdown",
   "id": "blind-ukraine",
   "metadata": {
    "papermill": {
     "duration": 0.015738,
     "end_time": "2021-06-18T18:35:00.507993",
     "exception": false,
     "start_time": "2021-06-18T18:35:00.492255",
     "status": "completed"
    },
    "tags": []
   },
   "source": [
    "# Подготовка датасета"
   ]
  },
  {
   "cell_type": "code",
   "execution_count": 4,
   "id": "loved-locator",
   "metadata": {
    "execution": {
     "iopub.execute_input": "2021-06-18T18:35:00.543080Z",
     "iopub.status.busy": "2021-06-18T18:35:00.542413Z",
     "iopub.status.idle": "2021-06-18T18:35:05.806591Z",
     "shell.execute_reply": "2021-06-18T18:35:05.806031Z",
     "shell.execute_reply.started": "2021-06-18T17:18:40.573481Z"
    },
    "papermill": {
     "duration": 5.282796,
     "end_time": "2021-06-18T18:35:05.806753",
     "exception": false,
     "start_time": "2021-06-18T18:35:00.523957",
     "status": "completed"
    },
    "tags": []
   },
   "outputs": [],
   "source": [
    "df = pd.read_csv('../input/cardiospikecompetition/train.csv')\n",
    "ids = df.id.unique()\n",
    "for rr_id in ids:\n",
    "    mask = (df.id==rr_id)\n",
    "    df.loc[mask, 'x_diff'] = df[mask].x.diff()\n",
    "    df.loc[mask, 'x_deviation_median'] = df[mask].x.median() - df[mask].x.values\n",
    "    for i in range(1,5):\n",
    "        # добавим в признаки 4 следующие точки\n",
    "        df.loc[mask, f'x+{i}'] = df[mask].x.shift(-i)\n",
    "        # и 4 предыдущие точки\n",
    "        df.loc[mask, f'x-{i}'] = df[mask].x.shift(i)\n",
    "    df.loc[mask, 'x-(x+1)'] = df[mask].x.values - df.loc[mask, 'x+1'].values\n",
    "#     df.loc[mask, 'x-(x-1)'] = df[mask].x.values - df.loc[mask, 'x-1'].values  # feature_importance = 0\n",
    "    df.loc[mask, 'x-(x+2)'] = df[mask].x.values - df.loc[mask, 'x+2'].values\n",
    "    df.loc[mask, 'x-(x-2)'] = df[mask].x.values - df.loc[mask, 'x-2'].values\n",
    "    df.loc[mask, 'x-(x+3)'] = df[mask].x.values - df.loc[mask, 'x+3'].values\n",
    "    df.loc[mask, 'x-(x-3)'] = df[mask].x.values - df.loc[mask, 'x-3'].values\n",
    "    df.loc[mask, 'x-(x+4)'] = df[mask].x.values - df.loc[mask, 'x+4'].values\n",
    "    df.loc[mask, 'x-(x-4)'] = df[mask].x.values - df.loc[mask, 'x-4'].values"
   ]
  },
  {
   "cell_type": "code",
   "execution_count": 5,
   "id": "regional-albania",
   "metadata": {
    "execution": {
     "iopub.execute_input": "2021-06-18T18:35:05.847803Z",
     "iopub.status.busy": "2021-06-18T18:35:05.846756Z",
     "iopub.status.idle": "2021-06-18T18:35:05.887858Z",
     "shell.execute_reply": "2021-06-18T18:35:05.886579Z",
     "shell.execute_reply.started": "2021-06-18T17:18:53.658460Z"
    },
    "papermill": {
     "duration": 0.065648,
     "end_time": "2021-06-18T18:35:05.888124",
     "exception": false,
     "start_time": "2021-06-18T18:35:05.822476",
     "status": "completed"
    },
    "tags": []
   },
   "outputs": [
    {
     "name": "stdout",
     "output_type": "stream",
     "text": [
      "TEST\n",
      "- всего ритмограмм в наборе данных 229 штук\n",
      "\n",
      "- в каждой ритмограмме первые и последние 4 строки \n",
      "будут с пропусками из-за отсутствия данных о прошлых и будущих точках для \n",
      "первых и последних 4 точек в радиограмме,\n",
      "следовательно строк с пропусками должно быть 1832 \n",
      "\n",
      "- финальный размер датасета должне быть 58655 \n",
      "\n",
      "смотрим, что получается по факту:\n",
      "df 60487\n",
      "df.dropna 58655\n",
      "разница 1832\n",
      "Итог: по размеру датасет соответствует ожидаемому, нужно ещё выбрать контрольный пример для оценки глазами\n",
      ":)\n"
     ]
    }
   ],
   "source": [
    "print('TEST')\n",
    "print('- всего ритмограмм в наборе данных', len(df.id.unique()), 'штук\\n')\n",
    "print('- в каждой ритмограмме первые и последние 4 строки \\n' \\\n",
    "       'будут с пропусками из-за отсутствия данных о прошлых и будущих точках для \\n' \\\n",
    "      'первых и последних 4 точек в радиограмме,\\n' \\\n",
    "      'следовательно строк с пропусками должно быть', len(df.id.unique())*8, '\\n')\n",
    "print('- финальный размер датасета должне быть', len(df)-len(df.id.unique())*8, '\\n')\n",
    "\n",
    "print('смотрим, что получается по факту:')\n",
    "print('df', len(df))\n",
    "print('df.dropna', len(df.dropna()))\n",
    "print('разница', len(df) - len(df.dropna()))\n",
    "if (len(df)-len(df.id.unique())*8 == len(df.dropna())):\n",
    "    print('Итог: по размеру датасет соответствует ожидаемому, ' \\\n",
    "          'нужно ещё выбрать контрольный пример для оценки глазами')\n",
    "    print(':)')\n",
    "else:\n",
    "    print('Итог: по размерности не сходится... ' \\\n",
    "          'надо проверить алгоритм добавления признаков')\n",
    "    print(':(')"
   ]
  },
  {
   "cell_type": "code",
   "execution_count": 6,
   "id": "structured-facing",
   "metadata": {
    "execution": {
     "iopub.execute_input": "2021-06-18T18:35:05.931513Z",
     "iopub.status.busy": "2021-06-18T18:35:05.930579Z",
     "iopub.status.idle": "2021-06-18T18:35:06.016366Z",
     "shell.execute_reply": "2021-06-18T18:35:06.015272Z",
     "shell.execute_reply.started": "2021-06-18T17:19:14.297597Z"
    },
    "papermill": {
     "duration": 0.110302,
     "end_time": "2021-06-18T18:35:06.016517",
     "exception": false,
     "start_time": "2021-06-18T18:35:05.906215",
     "status": "completed"
    },
    "tags": []
   },
   "outputs": [
    {
     "data": {
      "text/html": [
       "<div>\n",
       "<style scoped>\n",
       "    .dataframe tbody tr th:only-of-type {\n",
       "        vertical-align: middle;\n",
       "    }\n",
       "\n",
       "    .dataframe tbody tr th {\n",
       "        vertical-align: top;\n",
       "    }\n",
       "\n",
       "    .dataframe thead th {\n",
       "        text-align: right;\n",
       "    }\n",
       "</style>\n",
       "<table border=\"1\" class=\"dataframe\">\n",
       "  <thead>\n",
       "    <tr style=\"text-align: right;\">\n",
       "      <th></th>\n",
       "      <th>id</th>\n",
       "      <th>time</th>\n",
       "      <th>x</th>\n",
       "      <th>y</th>\n",
       "      <th>x_diff</th>\n",
       "      <th>x_deviation_median</th>\n",
       "      <th>x+1</th>\n",
       "      <th>x-1</th>\n",
       "      <th>x+2</th>\n",
       "      <th>x-2</th>\n",
       "      <th>...</th>\n",
       "      <th>x-3</th>\n",
       "      <th>x+4</th>\n",
       "      <th>x-4</th>\n",
       "      <th>x-(x+1)</th>\n",
       "      <th>x-(x+2)</th>\n",
       "      <th>x-(x-2)</th>\n",
       "      <th>x-(x+3)</th>\n",
       "      <th>x-(x-3)</th>\n",
       "      <th>x-(x+4)</th>\n",
       "      <th>x-(x-4)</th>\n",
       "    </tr>\n",
       "  </thead>\n",
       "  <tbody>\n",
       "    <tr>\n",
       "      <th>3108</th>\n",
       "      <td>13</td>\n",
       "      <td>0</td>\n",
       "      <td>632</td>\n",
       "      <td>0</td>\n",
       "      <td>NaN</td>\n",
       "      <td>-16.0</td>\n",
       "      <td>464.0</td>\n",
       "      <td>NaN</td>\n",
       "      <td>160.0</td>\n",
       "      <td>NaN</td>\n",
       "      <td>...</td>\n",
       "      <td>NaN</td>\n",
       "      <td>404.0</td>\n",
       "      <td>NaN</td>\n",
       "      <td>168.0</td>\n",
       "      <td>472.0</td>\n",
       "      <td>NaN</td>\n",
       "      <td>-208.0</td>\n",
       "      <td>NaN</td>\n",
       "      <td>228.0</td>\n",
       "      <td>NaN</td>\n",
       "    </tr>\n",
       "    <tr>\n",
       "      <th>3109</th>\n",
       "      <td>13</td>\n",
       "      <td>464</td>\n",
       "      <td>464</td>\n",
       "      <td>0</td>\n",
       "      <td>-168.0</td>\n",
       "      <td>152.0</td>\n",
       "      <td>160.0</td>\n",
       "      <td>632.0</td>\n",
       "      <td>840.0</td>\n",
       "      <td>NaN</td>\n",
       "      <td>...</td>\n",
       "      <td>NaN</td>\n",
       "      <td>1260.0</td>\n",
       "      <td>NaN</td>\n",
       "      <td>304.0</td>\n",
       "      <td>-376.0</td>\n",
       "      <td>NaN</td>\n",
       "      <td>60.0</td>\n",
       "      <td>NaN</td>\n",
       "      <td>-796.0</td>\n",
       "      <td>NaN</td>\n",
       "    </tr>\n",
       "    <tr>\n",
       "      <th>3110</th>\n",
       "      <td>13</td>\n",
       "      <td>624</td>\n",
       "      <td>160</td>\n",
       "      <td>0</td>\n",
       "      <td>-304.0</td>\n",
       "      <td>456.0</td>\n",
       "      <td>840.0</td>\n",
       "      <td>464.0</td>\n",
       "      <td>404.0</td>\n",
       "      <td>632.0</td>\n",
       "      <td>...</td>\n",
       "      <td>NaN</td>\n",
       "      <td>676.0</td>\n",
       "      <td>NaN</td>\n",
       "      <td>-680.0</td>\n",
       "      <td>-244.0</td>\n",
       "      <td>-472.0</td>\n",
       "      <td>-1100.0</td>\n",
       "      <td>NaN</td>\n",
       "      <td>-516.0</td>\n",
       "      <td>NaN</td>\n",
       "    </tr>\n",
       "    <tr>\n",
       "      <th>3111</th>\n",
       "      <td>13</td>\n",
       "      <td>1464</td>\n",
       "      <td>840</td>\n",
       "      <td>0</td>\n",
       "      <td>680.0</td>\n",
       "      <td>-224.0</td>\n",
       "      <td>404.0</td>\n",
       "      <td>160.0</td>\n",
       "      <td>1260.0</td>\n",
       "      <td>464.0</td>\n",
       "      <td>...</td>\n",
       "      <td>632.0</td>\n",
       "      <td>572.0</td>\n",
       "      <td>NaN</td>\n",
       "      <td>436.0</td>\n",
       "      <td>-420.0</td>\n",
       "      <td>376.0</td>\n",
       "      <td>164.0</td>\n",
       "      <td>208.0</td>\n",
       "      <td>268.0</td>\n",
       "      <td>NaN</td>\n",
       "    </tr>\n",
       "    <tr>\n",
       "      <th>3112</th>\n",
       "      <td>13</td>\n",
       "      <td>1868</td>\n",
       "      <td>404</td>\n",
       "      <td>0</td>\n",
       "      <td>-436.0</td>\n",
       "      <td>212.0</td>\n",
       "      <td>1260.0</td>\n",
       "      <td>840.0</td>\n",
       "      <td>676.0</td>\n",
       "      <td>160.0</td>\n",
       "      <td>...</td>\n",
       "      <td>464.0</td>\n",
       "      <td>628.0</td>\n",
       "      <td>632.0</td>\n",
       "      <td>-856.0</td>\n",
       "      <td>-272.0</td>\n",
       "      <td>244.0</td>\n",
       "      <td>-168.0</td>\n",
       "      <td>-60.0</td>\n",
       "      <td>-224.0</td>\n",
       "      <td>-228.0</td>\n",
       "    </tr>\n",
       "    <tr>\n",
       "      <th>3113</th>\n",
       "      <td>13</td>\n",
       "      <td>3128</td>\n",
       "      <td>1260</td>\n",
       "      <td>0</td>\n",
       "      <td>856.0</td>\n",
       "      <td>-644.0</td>\n",
       "      <td>676.0</td>\n",
       "      <td>404.0</td>\n",
       "      <td>572.0</td>\n",
       "      <td>840.0</td>\n",
       "      <td>...</td>\n",
       "      <td>160.0</td>\n",
       "      <td>628.0</td>\n",
       "      <td>464.0</td>\n",
       "      <td>584.0</td>\n",
       "      <td>688.0</td>\n",
       "      <td>420.0</td>\n",
       "      <td>632.0</td>\n",
       "      <td>1100.0</td>\n",
       "      <td>632.0</td>\n",
       "      <td>796.0</td>\n",
       "    </tr>\n",
       "    <tr>\n",
       "      <th>3114</th>\n",
       "      <td>13</td>\n",
       "      <td>3804</td>\n",
       "      <td>676</td>\n",
       "      <td>0</td>\n",
       "      <td>-584.0</td>\n",
       "      <td>-60.0</td>\n",
       "      <td>572.0</td>\n",
       "      <td>1260.0</td>\n",
       "      <td>628.0</td>\n",
       "      <td>404.0</td>\n",
       "      <td>...</td>\n",
       "      <td>840.0</td>\n",
       "      <td>636.0</td>\n",
       "      <td>160.0</td>\n",
       "      <td>104.0</td>\n",
       "      <td>48.0</td>\n",
       "      <td>272.0</td>\n",
       "      <td>48.0</td>\n",
       "      <td>-164.0</td>\n",
       "      <td>40.0</td>\n",
       "      <td>516.0</td>\n",
       "    </tr>\n",
       "    <tr>\n",
       "      <th>3115</th>\n",
       "      <td>13</td>\n",
       "      <td>4376</td>\n",
       "      <td>572</td>\n",
       "      <td>0</td>\n",
       "      <td>-104.0</td>\n",
       "      <td>44.0</td>\n",
       "      <td>628.0</td>\n",
       "      <td>676.0</td>\n",
       "      <td>628.0</td>\n",
       "      <td>1260.0</td>\n",
       "      <td>...</td>\n",
       "      <td>404.0</td>\n",
       "      <td>628.0</td>\n",
       "      <td>840.0</td>\n",
       "      <td>-56.0</td>\n",
       "      <td>-56.0</td>\n",
       "      <td>-688.0</td>\n",
       "      <td>-64.0</td>\n",
       "      <td>168.0</td>\n",
       "      <td>-56.0</td>\n",
       "      <td>-268.0</td>\n",
       "    </tr>\n",
       "    <tr>\n",
       "      <th>3116</th>\n",
       "      <td>13</td>\n",
       "      <td>5004</td>\n",
       "      <td>628</td>\n",
       "      <td>0</td>\n",
       "      <td>56.0</td>\n",
       "      <td>-12.0</td>\n",
       "      <td>628.0</td>\n",
       "      <td>572.0</td>\n",
       "      <td>636.0</td>\n",
       "      <td>676.0</td>\n",
       "      <td>...</td>\n",
       "      <td>1260.0</td>\n",
       "      <td>680.0</td>\n",
       "      <td>404.0</td>\n",
       "      <td>0.0</td>\n",
       "      <td>-8.0</td>\n",
       "      <td>-48.0</td>\n",
       "      <td>0.0</td>\n",
       "      <td>-632.0</td>\n",
       "      <td>-52.0</td>\n",
       "      <td>224.0</td>\n",
       "    </tr>\n",
       "    <tr>\n",
       "      <th>3117</th>\n",
       "      <td>13</td>\n",
       "      <td>5632</td>\n",
       "      <td>628</td>\n",
       "      <td>1</td>\n",
       "      <td>0.0</td>\n",
       "      <td>-12.0</td>\n",
       "      <td>636.0</td>\n",
       "      <td>628.0</td>\n",
       "      <td>628.0</td>\n",
       "      <td>572.0</td>\n",
       "      <td>...</td>\n",
       "      <td>676.0</td>\n",
       "      <td>584.0</td>\n",
       "      <td>1260.0</td>\n",
       "      <td>-8.0</td>\n",
       "      <td>0.0</td>\n",
       "      <td>56.0</td>\n",
       "      <td>-52.0</td>\n",
       "      <td>-48.0</td>\n",
       "      <td>44.0</td>\n",
       "      <td>-632.0</td>\n",
       "    </tr>\n",
       "  </tbody>\n",
       "</table>\n",
       "<p>10 rows × 21 columns</p>\n",
       "</div>"
      ],
      "text/plain": [
       "      id  time     x  y  x_diff  x_deviation_median     x+1     x-1     x+2  \\\n",
       "3108  13     0   632  0     NaN               -16.0   464.0     NaN   160.0   \n",
       "3109  13   464   464  0  -168.0               152.0   160.0   632.0   840.0   \n",
       "3110  13   624   160  0  -304.0               456.0   840.0   464.0   404.0   \n",
       "3111  13  1464   840  0   680.0              -224.0   404.0   160.0  1260.0   \n",
       "3112  13  1868   404  0  -436.0               212.0  1260.0   840.0   676.0   \n",
       "3113  13  3128  1260  0   856.0              -644.0   676.0   404.0   572.0   \n",
       "3114  13  3804   676  0  -584.0               -60.0   572.0  1260.0   628.0   \n",
       "3115  13  4376   572  0  -104.0                44.0   628.0   676.0   628.0   \n",
       "3116  13  5004   628  0    56.0               -12.0   628.0   572.0   636.0   \n",
       "3117  13  5632   628  1     0.0               -12.0   636.0   628.0   628.0   \n",
       "\n",
       "         x-2  ...     x-3     x+4     x-4  x-(x+1)  x-(x+2)  x-(x-2)  x-(x+3)  \\\n",
       "3108     NaN  ...     NaN   404.0     NaN    168.0    472.0      NaN   -208.0   \n",
       "3109     NaN  ...     NaN  1260.0     NaN    304.0   -376.0      NaN     60.0   \n",
       "3110   632.0  ...     NaN   676.0     NaN   -680.0   -244.0   -472.0  -1100.0   \n",
       "3111   464.0  ...   632.0   572.0     NaN    436.0   -420.0    376.0    164.0   \n",
       "3112   160.0  ...   464.0   628.0   632.0   -856.0   -272.0    244.0   -168.0   \n",
       "3113   840.0  ...   160.0   628.0   464.0    584.0    688.0    420.0    632.0   \n",
       "3114   404.0  ...   840.0   636.0   160.0    104.0     48.0    272.0     48.0   \n",
       "3115  1260.0  ...   404.0   628.0   840.0    -56.0    -56.0   -688.0    -64.0   \n",
       "3116   676.0  ...  1260.0   680.0   404.0      0.0     -8.0    -48.0      0.0   \n",
       "3117   572.0  ...   676.0   584.0  1260.0     -8.0      0.0     56.0    -52.0   \n",
       "\n",
       "      x-(x-3)  x-(x+4)  x-(x-4)  \n",
       "3108      NaN    228.0      NaN  \n",
       "3109      NaN   -796.0      NaN  \n",
       "3110      NaN   -516.0      NaN  \n",
       "3111    208.0    268.0      NaN  \n",
       "3112    -60.0   -224.0   -228.0  \n",
       "3113   1100.0    632.0    796.0  \n",
       "3114   -164.0     40.0    516.0  \n",
       "3115    168.0    -56.0   -268.0  \n",
       "3116   -632.0    -52.0    224.0  \n",
       "3117    -48.0     44.0   -632.0  \n",
       "\n",
       "[10 rows x 21 columns]"
      ]
     },
     "metadata": {},
     "output_type": "display_data"
    },
    {
     "data": {
      "text/html": [
       "<div>\n",
       "<style scoped>\n",
       "    .dataframe tbody tr th:only-of-type {\n",
       "        vertical-align: middle;\n",
       "    }\n",
       "\n",
       "    .dataframe tbody tr th {\n",
       "        vertical-align: top;\n",
       "    }\n",
       "\n",
       "    .dataframe thead th {\n",
       "        text-align: right;\n",
       "    }\n",
       "</style>\n",
       "<table border=\"1\" class=\"dataframe\">\n",
       "  <thead>\n",
       "    <tr style=\"text-align: right;\">\n",
       "      <th></th>\n",
       "      <th>id</th>\n",
       "      <th>time</th>\n",
       "      <th>x</th>\n",
       "      <th>y</th>\n",
       "      <th>x_diff</th>\n",
       "      <th>x_deviation_median</th>\n",
       "      <th>x+1</th>\n",
       "      <th>x-1</th>\n",
       "      <th>x+2</th>\n",
       "      <th>x-2</th>\n",
       "      <th>...</th>\n",
       "      <th>x-3</th>\n",
       "      <th>x+4</th>\n",
       "      <th>x-4</th>\n",
       "      <th>x-(x+1)</th>\n",
       "      <th>x-(x+2)</th>\n",
       "      <th>x-(x-2)</th>\n",
       "      <th>x-(x+3)</th>\n",
       "      <th>x-(x-3)</th>\n",
       "      <th>x-(x+4)</th>\n",
       "      <th>x-(x-4)</th>\n",
       "    </tr>\n",
       "  </thead>\n",
       "  <tbody>\n",
       "    <tr>\n",
       "      <th>3362</th>\n",
       "      <td>13</td>\n",
       "      <td>144540</td>\n",
       "      <td>396</td>\n",
       "      <td>0</td>\n",
       "      <td>-228.0</td>\n",
       "      <td>220.0</td>\n",
       "      <td>216.0</td>\n",
       "      <td>624.0</td>\n",
       "      <td>624.0</td>\n",
       "      <td>620.0</td>\n",
       "      <td>...</td>\n",
       "      <td>364.0</td>\n",
       "      <td>508.0</td>\n",
       "      <td>256.0</td>\n",
       "      <td>180.0</td>\n",
       "      <td>-228.0</td>\n",
       "      <td>-224.0</td>\n",
       "      <td>236.0</td>\n",
       "      <td>32.0</td>\n",
       "      <td>-112.0</td>\n",
       "      <td>140.0</td>\n",
       "    </tr>\n",
       "    <tr>\n",
       "      <th>3363</th>\n",
       "      <td>13</td>\n",
       "      <td>144756</td>\n",
       "      <td>216</td>\n",
       "      <td>0</td>\n",
       "      <td>-180.0</td>\n",
       "      <td>400.0</td>\n",
       "      <td>624.0</td>\n",
       "      <td>396.0</td>\n",
       "      <td>160.0</td>\n",
       "      <td>624.0</td>\n",
       "      <td>...</td>\n",
       "      <td>620.0</td>\n",
       "      <td>576.0</td>\n",
       "      <td>364.0</td>\n",
       "      <td>-408.0</td>\n",
       "      <td>56.0</td>\n",
       "      <td>-408.0</td>\n",
       "      <td>-292.0</td>\n",
       "      <td>-404.0</td>\n",
       "      <td>-360.0</td>\n",
       "      <td>-148.0</td>\n",
       "    </tr>\n",
       "    <tr>\n",
       "      <th>3364</th>\n",
       "      <td>13</td>\n",
       "      <td>145380</td>\n",
       "      <td>624</td>\n",
       "      <td>0</td>\n",
       "      <td>408.0</td>\n",
       "      <td>-8.0</td>\n",
       "      <td>160.0</td>\n",
       "      <td>216.0</td>\n",
       "      <td>508.0</td>\n",
       "      <td>396.0</td>\n",
       "      <td>...</td>\n",
       "      <td>624.0</td>\n",
       "      <td>616.0</td>\n",
       "      <td>620.0</td>\n",
       "      <td>464.0</td>\n",
       "      <td>116.0</td>\n",
       "      <td>228.0</td>\n",
       "      <td>48.0</td>\n",
       "      <td>0.0</td>\n",
       "      <td>8.0</td>\n",
       "      <td>4.0</td>\n",
       "    </tr>\n",
       "    <tr>\n",
       "      <th>3365</th>\n",
       "      <td>13</td>\n",
       "      <td>145540</td>\n",
       "      <td>160</td>\n",
       "      <td>0</td>\n",
       "      <td>-464.0</td>\n",
       "      <td>456.0</td>\n",
       "      <td>508.0</td>\n",
       "      <td>624.0</td>\n",
       "      <td>576.0</td>\n",
       "      <td>216.0</td>\n",
       "      <td>...</td>\n",
       "      <td>396.0</td>\n",
       "      <td>468.0</td>\n",
       "      <td>624.0</td>\n",
       "      <td>-348.0</td>\n",
       "      <td>-416.0</td>\n",
       "      <td>-56.0</td>\n",
       "      <td>-456.0</td>\n",
       "      <td>-236.0</td>\n",
       "      <td>-308.0</td>\n",
       "      <td>-464.0</td>\n",
       "    </tr>\n",
       "    <tr>\n",
       "      <th>3366</th>\n",
       "      <td>13</td>\n",
       "      <td>146048</td>\n",
       "      <td>508</td>\n",
       "      <td>0</td>\n",
       "      <td>348.0</td>\n",
       "      <td>108.0</td>\n",
       "      <td>576.0</td>\n",
       "      <td>160.0</td>\n",
       "      <td>616.0</td>\n",
       "      <td>624.0</td>\n",
       "      <td>...</td>\n",
       "      <td>216.0</td>\n",
       "      <td>440.0</td>\n",
       "      <td>396.0</td>\n",
       "      <td>-68.0</td>\n",
       "      <td>-108.0</td>\n",
       "      <td>-116.0</td>\n",
       "      <td>40.0</td>\n",
       "      <td>292.0</td>\n",
       "      <td>68.0</td>\n",
       "      <td>112.0</td>\n",
       "    </tr>\n",
       "    <tr>\n",
       "      <th>3367</th>\n",
       "      <td>13</td>\n",
       "      <td>146624</td>\n",
       "      <td>576</td>\n",
       "      <td>0</td>\n",
       "      <td>68.0</td>\n",
       "      <td>40.0</td>\n",
       "      <td>616.0</td>\n",
       "      <td>508.0</td>\n",
       "      <td>468.0</td>\n",
       "      <td>160.0</td>\n",
       "      <td>...</td>\n",
       "      <td>624.0</td>\n",
       "      <td>848.0</td>\n",
       "      <td>216.0</td>\n",
       "      <td>-40.0</td>\n",
       "      <td>108.0</td>\n",
       "      <td>416.0</td>\n",
       "      <td>136.0</td>\n",
       "      <td>-48.0</td>\n",
       "      <td>-272.0</td>\n",
       "      <td>360.0</td>\n",
       "    </tr>\n",
       "    <tr>\n",
       "      <th>3368</th>\n",
       "      <td>13</td>\n",
       "      <td>147240</td>\n",
       "      <td>616</td>\n",
       "      <td>0</td>\n",
       "      <td>40.0</td>\n",
       "      <td>0.0</td>\n",
       "      <td>468.0</td>\n",
       "      <td>576.0</td>\n",
       "      <td>440.0</td>\n",
       "      <td>508.0</td>\n",
       "      <td>...</td>\n",
       "      <td>160.0</td>\n",
       "      <td>NaN</td>\n",
       "      <td>624.0</td>\n",
       "      <td>148.0</td>\n",
       "      <td>176.0</td>\n",
       "      <td>108.0</td>\n",
       "      <td>-232.0</td>\n",
       "      <td>456.0</td>\n",
       "      <td>NaN</td>\n",
       "      <td>-8.0</td>\n",
       "    </tr>\n",
       "    <tr>\n",
       "      <th>3369</th>\n",
       "      <td>13</td>\n",
       "      <td>147708</td>\n",
       "      <td>468</td>\n",
       "      <td>0</td>\n",
       "      <td>-148.0</td>\n",
       "      <td>148.0</td>\n",
       "      <td>440.0</td>\n",
       "      <td>616.0</td>\n",
       "      <td>848.0</td>\n",
       "      <td>576.0</td>\n",
       "      <td>...</td>\n",
       "      <td>508.0</td>\n",
       "      <td>NaN</td>\n",
       "      <td>160.0</td>\n",
       "      <td>28.0</td>\n",
       "      <td>-380.0</td>\n",
       "      <td>-108.0</td>\n",
       "      <td>NaN</td>\n",
       "      <td>-40.0</td>\n",
       "      <td>NaN</td>\n",
       "      <td>308.0</td>\n",
       "    </tr>\n",
       "    <tr>\n",
       "      <th>3370</th>\n",
       "      <td>13</td>\n",
       "      <td>148148</td>\n",
       "      <td>440</td>\n",
       "      <td>0</td>\n",
       "      <td>-28.0</td>\n",
       "      <td>176.0</td>\n",
       "      <td>848.0</td>\n",
       "      <td>468.0</td>\n",
       "      <td>NaN</td>\n",
       "      <td>616.0</td>\n",
       "      <td>...</td>\n",
       "      <td>576.0</td>\n",
       "      <td>NaN</td>\n",
       "      <td>508.0</td>\n",
       "      <td>-408.0</td>\n",
       "      <td>NaN</td>\n",
       "      <td>-176.0</td>\n",
       "      <td>NaN</td>\n",
       "      <td>-136.0</td>\n",
       "      <td>NaN</td>\n",
       "      <td>-68.0</td>\n",
       "    </tr>\n",
       "    <tr>\n",
       "      <th>3371</th>\n",
       "      <td>13</td>\n",
       "      <td>148996</td>\n",
       "      <td>848</td>\n",
       "      <td>0</td>\n",
       "      <td>408.0</td>\n",
       "      <td>-232.0</td>\n",
       "      <td>NaN</td>\n",
       "      <td>440.0</td>\n",
       "      <td>NaN</td>\n",
       "      <td>468.0</td>\n",
       "      <td>...</td>\n",
       "      <td>616.0</td>\n",
       "      <td>NaN</td>\n",
       "      <td>576.0</td>\n",
       "      <td>NaN</td>\n",
       "      <td>NaN</td>\n",
       "      <td>380.0</td>\n",
       "      <td>NaN</td>\n",
       "      <td>232.0</td>\n",
       "      <td>NaN</td>\n",
       "      <td>272.0</td>\n",
       "    </tr>\n",
       "  </tbody>\n",
       "</table>\n",
       "<p>10 rows × 21 columns</p>\n",
       "</div>"
      ],
      "text/plain": [
       "      id    time    x  y  x_diff  x_deviation_median    x+1    x-1    x+2  \\\n",
       "3362  13  144540  396  0  -228.0               220.0  216.0  624.0  624.0   \n",
       "3363  13  144756  216  0  -180.0               400.0  624.0  396.0  160.0   \n",
       "3364  13  145380  624  0   408.0                -8.0  160.0  216.0  508.0   \n",
       "3365  13  145540  160  0  -464.0               456.0  508.0  624.0  576.0   \n",
       "3366  13  146048  508  0   348.0               108.0  576.0  160.0  616.0   \n",
       "3367  13  146624  576  0    68.0                40.0  616.0  508.0  468.0   \n",
       "3368  13  147240  616  0    40.0                 0.0  468.0  576.0  440.0   \n",
       "3369  13  147708  468  0  -148.0               148.0  440.0  616.0  848.0   \n",
       "3370  13  148148  440  0   -28.0               176.0  848.0  468.0    NaN   \n",
       "3371  13  148996  848  0   408.0              -232.0    NaN  440.0    NaN   \n",
       "\n",
       "        x-2  ...    x-3    x+4    x-4  x-(x+1)  x-(x+2)  x-(x-2)  x-(x+3)  \\\n",
       "3362  620.0  ...  364.0  508.0  256.0    180.0   -228.0   -224.0    236.0   \n",
       "3363  624.0  ...  620.0  576.0  364.0   -408.0     56.0   -408.0   -292.0   \n",
       "3364  396.0  ...  624.0  616.0  620.0    464.0    116.0    228.0     48.0   \n",
       "3365  216.0  ...  396.0  468.0  624.0   -348.0   -416.0    -56.0   -456.0   \n",
       "3366  624.0  ...  216.0  440.0  396.0    -68.0   -108.0   -116.0     40.0   \n",
       "3367  160.0  ...  624.0  848.0  216.0    -40.0    108.0    416.0    136.0   \n",
       "3368  508.0  ...  160.0    NaN  624.0    148.0    176.0    108.0   -232.0   \n",
       "3369  576.0  ...  508.0    NaN  160.0     28.0   -380.0   -108.0      NaN   \n",
       "3370  616.0  ...  576.0    NaN  508.0   -408.0      NaN   -176.0      NaN   \n",
       "3371  468.0  ...  616.0    NaN  576.0      NaN      NaN    380.0      NaN   \n",
       "\n",
       "      x-(x-3)  x-(x+4)  x-(x-4)  \n",
       "3362     32.0   -112.0    140.0  \n",
       "3363   -404.0   -360.0   -148.0  \n",
       "3364      0.0      8.0      4.0  \n",
       "3365   -236.0   -308.0   -464.0  \n",
       "3366    292.0     68.0    112.0  \n",
       "3367    -48.0   -272.0    360.0  \n",
       "3368    456.0      NaN     -8.0  \n",
       "3369    -40.0      NaN    308.0  \n",
       "3370   -136.0      NaN    -68.0  \n",
       "3371    232.0      NaN    272.0  \n",
       "\n",
       "[10 rows x 21 columns]"
      ]
     },
     "metadata": {},
     "output_type": "display_data"
    }
   ],
   "source": [
    "# контрольный пример для оценки глазами\n",
    "mask = (df.id==13)\n",
    "display(df[mask].head(10))\n",
    "display(df[mask].tail(10))"
   ]
  },
  {
   "cell_type": "markdown",
   "id": "gorgeous-spokesman",
   "metadata": {
    "papermill": {
     "duration": 0.017871,
     "end_time": "2021-06-18T18:35:06.052870",
     "exception": false,
     "start_time": "2021-06-18T18:35:06.034999",
     "status": "completed"
    },
    "tags": []
   },
   "source": [
    "> всё в порядке"
   ]
  },
  {
   "cell_type": "code",
   "execution_count": 7,
   "id": "arctic-oakland",
   "metadata": {
    "execution": {
     "iopub.execute_input": "2021-06-18T18:35:06.097752Z",
     "iopub.status.busy": "2021-06-18T18:35:06.096390Z",
     "iopub.status.idle": "2021-06-18T18:35:06.125902Z",
     "shell.execute_reply": "2021-06-18T18:35:06.126508Z",
     "shell.execute_reply.started": "2021-06-18T17:22:17.938124Z"
    },
    "papermill": {
     "duration": 0.0549,
     "end_time": "2021-06-18T18:35:06.126712",
     "exception": false,
     "start_time": "2021-06-18T18:35:06.071812",
     "status": "completed"
    },
    "tags": []
   },
   "outputs": [
    {
     "name": "stdout",
     "output_type": "stream",
     "text": [
      "<class 'pandas.core.frame.DataFrame'>\n",
      "Int64Index: 58655 entries, 4 to 60482\n",
      "Data columns (total 21 columns):\n",
      " #   Column              Non-Null Count  Dtype  \n",
      "---  ------              --------------  -----  \n",
      " 0   id                  58655 non-null  int64  \n",
      " 1   time                58655 non-null  int64  \n",
      " 2   x                   58655 non-null  int64  \n",
      " 3   y                   58655 non-null  int64  \n",
      " 4   x_diff              58655 non-null  float64\n",
      " 5   x_deviation_median  58655 non-null  float64\n",
      " 6   x+1                 58655 non-null  float64\n",
      " 7   x-1                 58655 non-null  float64\n",
      " 8   x+2                 58655 non-null  float64\n",
      " 9   x-2                 58655 non-null  float64\n",
      " 10  x+3                 58655 non-null  float64\n",
      " 11  x-3                 58655 non-null  float64\n",
      " 12  x+4                 58655 non-null  float64\n",
      " 13  x-4                 58655 non-null  float64\n",
      " 14  x-(x+1)             58655 non-null  float64\n",
      " 15  x-(x+2)             58655 non-null  float64\n",
      " 16  x-(x-2)             58655 non-null  float64\n",
      " 17  x-(x+3)             58655 non-null  float64\n",
      " 18  x-(x-3)             58655 non-null  float64\n",
      " 19  x-(x+4)             58655 non-null  float64\n",
      " 20  x-(x-4)             58655 non-null  float64\n",
      "dtypes: float64(17), int64(4)\n",
      "memory usage: 9.8 MB\n"
     ]
    }
   ],
   "source": [
    "df.dropna(inplace=True)\n",
    "df.info()"
   ]
  },
  {
   "cell_type": "code",
   "execution_count": 8,
   "id": "laden-shelter",
   "metadata": {
    "execution": {
     "iopub.execute_input": "2021-06-18T18:35:06.169559Z",
     "iopub.status.busy": "2021-06-18T18:35:06.168549Z",
     "iopub.status.idle": "2021-06-18T18:35:07.360699Z",
     "shell.execute_reply": "2021-06-18T18:35:07.360110Z",
     "shell.execute_reply.started": "2021-06-18T17:20:27.040986Z"
    },
    "papermill": {
     "duration": 1.214796,
     "end_time": "2021-06-18T18:35:07.360855",
     "exception": false,
     "start_time": "2021-06-18T18:35:06.146059",
     "status": "completed"
    },
    "tags": []
   },
   "outputs": [],
   "source": [
    "# сохраним датасет в с текущими признаками, предварительно удалив строки с пропусками\n",
    "with open('dataset.pkl', 'wb') as f:\n",
    "    pickle.dump(df, f)\n",
    "    \n",
    "df.to_csv('dataset.csv')"
   ]
  },
  {
   "cell_type": "markdown",
   "id": "proud-brief",
   "metadata": {
    "papermill": {
     "duration": 0.01835,
     "end_time": "2021-06-18T18:35:07.398365",
     "exception": false,
     "start_time": "2021-06-18T18:35:07.380015",
     "status": "completed"
    },
    "tags": []
   },
   "source": [
    "# X, y"
   ]
  },
  {
   "cell_type": "code",
   "execution_count": 9,
   "id": "inappropriate-clone",
   "metadata": {
    "execution": {
     "iopub.execute_input": "2021-06-18T18:35:07.446578Z",
     "iopub.status.busy": "2021-06-18T18:35:07.445126Z",
     "iopub.status.idle": "2021-06-18T18:35:07.518823Z",
     "shell.execute_reply": "2021-06-18T18:35:07.519837Z",
     "shell.execute_reply.started": "2021-06-18T17:21:31.349160Z"
    },
    "papermill": {
     "duration": 0.102986,
     "end_time": "2021-06-18T18:35:07.520062",
     "exception": false,
     "start_time": "2021-06-18T18:35:07.417076",
     "status": "completed"
    },
    "tags": []
   },
   "outputs": [
    {
     "name": "stdout",
     "output_type": "stream",
     "text": [
      "scaler.pkl was saved in output directory\n",
      "train (46924, 18) (46924,)\n",
      "test (11731, 18) (11731,)\n"
     ]
    }
   ],
   "source": [
    "# make X and y\n",
    "X,y = make_XY(df)\n",
    "\n",
    "# make train and test datasets\n",
    "train_indexes, test_indexes = get_train_test_indexes(X,y)\n",
    "X_train = X[train_indexes]\n",
    "X_test = X[test_indexes]\n",
    "y_train = y[train_indexes]\n",
    "y_test = y[test_indexes]\n",
    "\n",
    "print('train', X_train.shape, y_train.shape)\n",
    "print('test', X_test.shape, y_test.shape)"
   ]
  },
  {
   "cell_type": "markdown",
   "id": "indie-scope",
   "metadata": {
    "papermill": {
     "duration": 0.01949,
     "end_time": "2021-06-18T18:35:07.559393",
     "exception": false,
     "start_time": "2021-06-18T18:35:07.539903",
     "status": "completed"
    },
    "tags": []
   },
   "source": [
    "# Обучение и оценка"
   ]
  },
  {
   "cell_type": "code",
   "execution_count": 10,
   "id": "liberal-apparel",
   "metadata": {
    "execution": {
     "iopub.execute_input": "2021-06-18T18:35:07.604254Z",
     "iopub.status.busy": "2021-06-18T18:35:07.603290Z",
     "iopub.status.idle": "2021-06-18T18:35:27.746826Z",
     "shell.execute_reply": "2021-06-18T18:35:27.747334Z",
     "shell.execute_reply.started": "2021-06-18T17:26:36.327962Z"
    },
    "papermill": {
     "duration": 20.169182,
     "end_time": "2021-06-18T18:35:27.747529",
     "exception": false,
     "start_time": "2021-06-18T18:35:07.578347",
     "status": "completed"
    },
    "tags": []
   },
   "outputs": [
    {
     "name": "stdout",
     "output_type": "stream",
     "text": [
      "f1_micro = 0.9473190691330662\n",
      "f1_binary = 0.8072364316905803\n"
     ]
    },
    {
     "data": {
      "image/png": "[encoded data removed]",
      "text/plain": [
       "<Figure size 432x288 with 1 Axes>"
      ]
     },
     "metadata": {
      "needs_background": "light"
     },
     "output_type": "display_data"
    }
   ],
   "source": [
    "model = lgb.LGBMClassifier(n_estimators=3860, learning_rate=0.01, random_state=RANDOM_STATE, n_jobs=-1)\n",
    "model.fit(X_train, y_train, eval_set=(X_test, y_test), verbose=False)\n",
    "lgb.plot_metric(model);\n",
    "\n",
    "print('f1_micro =', 0.9473190691330662)\n",
    "print('f1_binary =', f1_score(y_test, model.predict(X_test)))"
   ]
  },
  {
   "cell_type": "markdown",
   "id": "vanilla-deputy",
   "metadata": {
    "papermill": {
     "duration": 0.021071,
     "end_time": "2021-06-18T18:35:27.791336",
     "exception": false,
     "start_time": "2021-06-18T18:35:27.770265",
     "status": "completed"
    },
    "tags": []
   },
   "source": [
    "попробуем параметры из [baseline-tuning](https://www.kaggle.com/maximmezhov/cardiospike-baseline-tuning#model-v3---best)"
   ]
  },
  {
   "cell_type": "code",
   "execution_count": 11,
   "id": "practical-thickness",
   "metadata": {
    "execution": {
     "iopub.execute_input": "2021-06-18T18:35:27.839647Z",
     "iopub.status.busy": "2021-06-18T18:35:27.838737Z",
     "iopub.status.idle": "2021-06-18T18:35:48.214596Z",
     "shell.execute_reply": "2021-06-18T18:35:48.213884Z",
     "shell.execute_reply.started": "2021-06-18T17:31:52.426144Z"
    },
    "papermill": {
     "duration": 20.402693,
     "end_time": "2021-06-18T18:35:48.214763",
     "exception": false,
     "start_time": "2021-06-18T18:35:27.812070",
     "status": "completed"
    },
    "tags": []
   },
   "outputs": [
    {
     "name": "stdout",
     "output_type": "stream",
     "text": [
      "f1_micro = 0.9473190691330662\n",
      "model f1 =  0.8072364316905803\n",
      "model2 f1 = 0.8012558869701726\n"
     ]
    },
    {
     "data": {
      "image/png": "[encoded data removed]",
      "text/plain": [
       "<Figure size 432x288 with 1 Axes>"
      ]
     },
     "metadata": {
      "needs_background": "light"
     },
     "output_type": "display_data"
    }
   ],
   "source": [
    "model2 = lgb.LGBMClassifier(n_estimators=2937, learning_rate=0.01, random_state=RANDOM_STATE, n_jobs=-1, \n",
    "                            max_depth=14, num_leaves=50)\n",
    "model2.fit(X_train, y_train, eval_set=(X_test, y_test), verbose=False)\n",
    "lgb.plot_metric(model2);\n",
    "\n",
    "print('f1_micro =', 0.9473190691330662)\n",
    "print('model f1 = ', 0.8072364316905803)\n",
    "print('model2 f1 =', f1_score(y_test, model2.predict(X_test)))"
   ]
  },
  {
   "cell_type": "markdown",
   "id": "smooth-above",
   "metadata": {
    "papermill": {
     "duration": 0.02425,
     "end_time": "2021-06-18T18:35:48.262861",
     "exception": false,
     "start_time": "2021-06-18T18:35:48.238611",
     "status": "completed"
    },
    "tags": []
   },
   "source": [
    "> стало похуже"
   ]
  },
  {
   "cell_type": "markdown",
   "id": "previous-rotation",
   "metadata": {
    "papermill": {
     "duration": 0.021455,
     "end_time": "2021-06-18T18:35:48.306881",
     "exception": false,
     "start_time": "2021-06-18T18:35:48.285426",
     "status": "completed"
    },
    "tags": []
   },
   "source": [
    "# Значимость признаков"
   ]
  },
  {
   "cell_type": "code",
   "execution_count": 12,
   "id": "improving-slovak",
   "metadata": {
    "execution": {
     "iopub.execute_input": "2021-06-18T18:35:48.358235Z",
     "iopub.status.busy": "2021-06-18T18:35:48.357100Z",
     "iopub.status.idle": "2021-06-18T18:35:48.604751Z",
     "shell.execute_reply": "2021-06-18T18:35:48.605378Z",
     "shell.execute_reply.started": "2021-06-18T17:46:28.336041Z"
    },
    "papermill": {
     "duration": 0.27674,
     "end_time": "2021-06-18T18:35:48.605546",
     "exception": false,
     "start_time": "2021-06-18T18:35:48.328806",
     "status": "completed"
    },
    "tags": []
   },
   "outputs": [
    {
     "data": {
      "image/png": "[encoded data removed]",
      "text/plain": [
       "<Figure size 720x504 with 1 Axes>"
      ]
     },
     "metadata": {
      "needs_background": "light"
     },
     "output_type": "display_data"
    }
   ],
   "source": [
    "importance = model.feature_importances_\n",
    "features = df.drop(['y','id','time'],axis=1).columns\n",
    "\n",
    "sorted_indexes = np.argsort(importance)\n",
    "fig = plt.figure(figsize=(10,7))\n",
    "plt.barh(y=features[sorted_indexes], width=importance[sorted_indexes])\n",
    "plt.title('Значимость призаков')\n",
    "plt.xlabel('Показатель значимости')\n",
    "plt.ylabel('Признак')\n",
    "plt.show()"
   ]
  }
 ],
 "metadata": {
  "kernelspec": {
   "display_name": "Python 3",
   "language": "python",
   "name": "python3"
  },
  "language_info": {
   "codemirror_mode": {
    "name": "ipython",
    "version": 3
   },
   "file_extension": ".py",
   "mimetype": "text/x-python",
   "name": "python",
   "nbconvert_exporter": "python",
   "pygments_lexer": "ipython3",
   "version": "3.7.10"
  },
  "papermill": {
   "default_parameters": {},
   "duration": 60.898517,
   "end_time": "2021-06-18T18:35:50.365729",
   "environment_variables": {},
   "exception": null,
   "input_path": "__notebook__.ipynb",
   "output_path": "__notebook__.ipynb",
   "parameters": {},
   "start_time": "2021-06-18T18:34:49.467212",
   "version": "2.3.3"
  }
 },
 "nbformat": 4,
 "nbformat_minor": 5
}
