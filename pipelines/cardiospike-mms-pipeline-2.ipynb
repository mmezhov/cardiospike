{
 "cells": [
  {
   "cell_type": "code",
   "execution_count": 6,
   "id": "actual-september",
   "metadata": {},
   "outputs": [],
   "source": [
    "import pandas as pd\n",
    "import pickle\n",
    "import lightgbm as lgb\n",
    "import matplotlib.pyplot as plt\n",
    "import numpy as np\n",
    "\n",
    "from sklearn.preprocessing import StandardScaler\n",
    "from sklearn.model_selection import cross_validate, StratifiedKFold\n",
    "from sklearn.metrics import f1_score\n",
    "from scipy.stats import entropy"
   ]
  },
  {
   "cell_type": "code",
   "execution_count": 2,
   "id": "crude-bearing",
   "metadata": {},
   "outputs": [
    {
     "name": "stdout",
     "output_type": "stream",
     "text": [
      "460 / 1155.6\n"
     ]
    }
   ],
   "source": [
    "# Const\n",
    "RANDOM_STATE = 0\n",
    "min_rr = 460\n",
    "max_rr = 963*1.2\n",
    "\n",
    "print(min_rr, '/', max_rr)"
   ]
  },
  {
   "cell_type": "markdown",
   "id": "sapphire-cooperative",
   "metadata": {},
   "source": [
    "# Полезные методы"
   ]
  },
  {
   "cell_type": "code",
   "execution_count": 30,
   "id": "instant-killer",
   "metadata": {},
   "outputs": [],
   "source": [
    "def make_XY(df):\n",
    "    \"\"\"\n",
    "    Подготовка признаков для обучения модели\n",
    "    df: dataset\n",
    "    return:\n",
    "    X: numpy array with features, values are scaled\n",
    "    y: numpy array of target labels\n",
    "    \"\"\"\n",
    "    X = df.drop(['y','id','time'], axis=1)\n",
    "    y = df.y.to_numpy()\n",
    "\n",
    "    scaler = StandardScaler().fit(X.to_numpy())\n",
    "    X = scaler.transform(X.to_numpy())\n",
    "\n",
    "    with open('scaler-mms-pipeline-2.pkl', 'wb') as f:\n",
    "        pickle.dump(scaler, f)\n",
    "        \n",
    "    print('scaler-mms-pipeline-2.pkl was saved in output directory')\n",
    "\n",
    "    return X, y\n",
    "\n",
    "\n",
    "def plot_RR(rr_ids, data):\n",
    "    \"\"\"\n",
    "    Рисует графики ритмограмм с разметкой аномальных участков\n",
    "    rr_ids: список идентификаторов ритмограмм\n",
    "    data: набор данных\n",
    "    \"\"\"\n",
    "    df = data.set_index('time').copy()\n",
    "    for rr_id in rr_ids:\n",
    "        fig = plt.figure(figsize=(20,5))\n",
    "        plt.title(f'R-R №{rr_id}')\n",
    "        plt.plot(df[df.id == rr_id].x, '-o', zorder=1)\n",
    "        df_anomaly = df[(df.id == rr_id)&(df.y == 1)].reset_index()\n",
    "        df_anomaly['time-diff'] = df_anomaly.time.diff()\n",
    "        split_indexes = df_anomaly[df_anomaly['time-diff'] > 1000].index\n",
    "        split_indexes = list(split_indexes)\n",
    "        split_indexes.append(0)\n",
    "        split_indexes.sort()\n",
    "        len_spl = len(split_indexes)\n",
    "        for i in range(len_spl):\n",
    "            if i == len_spl-1:\n",
    "                mask = (df_anomaly.index >= split_indexes[i])\n",
    "                plt.plot(df_anomaly[mask].time, df_anomaly[mask].x, '-o',\n",
    "                     label='аномальный участок', color='red', zorder=2)\n",
    "            else:\n",
    "                mask = (df_anomaly.index >= split_indexes[i])&(df_anomaly.index < split_indexes[i+1])\n",
    "                plt.plot(df_anomaly[mask].time, df_anomaly[mask].x, '-o',\n",
    "                         color='red', zorder=2)\n",
    "        plt.legend()\n",
    "        plt.xlabel('R-R timeline, ms')\n",
    "        plt.ylabel('R-R interval')\n",
    "        plt.show()\n",
    "        \n",
    "\n",
    "def entropy1(labels, base=None):\n",
    "    _, counts = np.unique(labels, return_counts=True)\n",
    "    return entropy(counts, base=base)\n",
    "\n",
    "\n",
    "def make_dataset(data):\n",
    "    \"\"\"\n",
    "    Автоматизация подготовки датасета\n",
    "    \"\"\"\n",
    "    df = data.copy()\n",
    "    ids = df.id.unique()\n",
    "    for rr_id in ids:\n",
    "        mask = (df.id==rr_id)\n",
    "        df.loc[mask, 'entropy'] = df[mask].x.rolling(20).apply(entropy1).fillna(method='bfill')\n",
    "        df.loc[mask, 'x_diff'] = df[mask].x.diff()\n",
    "        df.fillna(method='bfill', inplace=True)\n",
    "        df.loc[mask, 'x_deviation_median'] = df[mask].x.median() - df[mask].x.values\n",
    "        for i in range(1,5):\n",
    "            # добавим в признаки 4 следующие точки\n",
    "            df.loc[mask, f'x+{i}'] = df[mask].x.shift(-i)\n",
    "            # и 4 предыдущие точки\n",
    "            df.loc[mask, f'x-{i}'] = df[mask].x.shift(i)\n",
    "        df.loc[mask, 'x-(x+1)'] = df[mask].x.values - df.loc[mask, 'x+1'].values\n",
    "        df.loc[mask, 'x-(x+2)'] = df[mask].x.values - df.loc[mask, 'x+2'].values\n",
    "        df.loc[mask, 'x-(x-2)'] = df[mask].x.values - df.loc[mask, 'x-2'].values\n",
    "        df.loc[mask, 'x-(x+3)'] = df[mask].x.values - df.loc[mask, 'x+3'].values\n",
    "        df.loc[mask, 'x-(x-3)'] = df[mask].x.values - df.loc[mask, 'x-3'].values\n",
    "        df.loc[mask, 'x-(x+4)'] = df[mask].x.values - df.loc[mask, 'x+4'].values\n",
    "        df.loc[mask, 'x-(x-4)'] = df[mask].x.values - df.loc[mask, 'x-4'].values\n",
    "        df.fillna(method='bfill', inplace=True)\n",
    "        df.fillna(method='ffill', inplace=True)\n",
    "        \n",
    "    return df"
   ]
  },
  {
   "cell_type": "markdown",
   "id": "prepared-summary",
   "metadata": {
    "papermill": {
     "duration": 0.033326,
     "end_time": "2021-06-18T05:49:27.286691",
     "exception": false,
     "start_time": "2021-06-18T05:49:27.253365",
     "status": "completed"
    },
    "tags": []
   },
   "source": [
    "# Подготовка датасета для обучения"
   ]
  },
  {
   "cell_type": "code",
   "execution_count": 7,
   "id": "suburban-theorem",
   "metadata": {},
   "outputs": [],
   "source": [
    "df = pd.read_csv('../input/cardiospikecompetition/train.csv')\n",
    "ids = df.id.unique()\n",
    "for rr_id in ids:\n",
    "    mask = (df.id==rr_id)\n",
    "    df.loc[mask, 'entropy'] = df[mask].x.rolling(20).apply(entropy1).fillna(method='bfill')\n",
    "    df.loc[mask, 'x_diff'] = df[mask].x.diff()\n",
    "    df.fillna(method='bfill', inplace=True)\n",
    "    df.loc[mask, 'x_deviation_median'] = df[mask].x.median() - df[mask].x.values\n",
    "    for i in range(1,5):\n",
    "        # добавим в признаки 4 следующие точки\n",
    "        df.loc[mask, f'x+{i}'] = df[mask].x.shift(-i)\n",
    "        # и 4 предыдущие точки\n",
    "        df.loc[mask, f'x-{i}'] = df[mask].x.shift(i)\n",
    "    df.loc[mask, 'x-(x+1)'] = df[mask].x.values - df.loc[mask, 'x+1'].values\n",
    "    df.loc[mask, 'x-(x+2)'] = df[mask].x.values - df.loc[mask, 'x+2'].values\n",
    "    df.loc[mask, 'x-(x-2)'] = df[mask].x.values - df.loc[mask, 'x-2'].values\n",
    "    df.loc[mask, 'x-(x+3)'] = df[mask].x.values - df.loc[mask, 'x+3'].values\n",
    "    df.loc[mask, 'x-(x-3)'] = df[mask].x.values - df.loc[mask, 'x-3'].values\n",
    "    df.loc[mask, 'x-(x+4)'] = df[mask].x.values - df.loc[mask, 'x+4'].values\n",
    "    df.loc[mask, 'x-(x-4)'] = df[mask].x.values - df.loc[mask, 'x-4'].values\n",
    "    df.fillna(method='bfill', inplace=True)\n",
    "    df.fillna(method='ffill', inplace=True)"
   ]
  },
  {
   "cell_type": "code",
   "execution_count": 9,
   "id": "rocky-silver",
   "metadata": {
    "papermill": {
     "duration": 0.081006,
     "end_time": "2021-06-18T05:49:32.662954",
     "exception": false,
     "start_time": "2021-06-18T05:49:32.581948",
     "status": "completed"
    },
    "tags": []
   },
   "outputs": [
    {
     "name": "stdout",
     "output_type": "stream",
     "text": [
      "TEST\n",
      "Итог: по размеру датасет соответствует ожидаемому, нужно ещё выбрать контрольный пример для оценки глазами\n",
      ":)\n"
     ]
    }
   ],
   "source": [
    "print('TEST')\n",
    "if (len(df) == len(df.dropna())):\n",
    "    print('Итог: по размеру датасет соответствует ожидаемому, ' \\\n",
    "          'нужно ещё выбрать контрольный пример для оценки глазами')\n",
    "    print(':)')\n",
    "else:\n",
    "    print('Итог: по размерности не сходится... ' \\\n",
    "          'надо проверить алгоритм добавления признаков')\n",
    "    print(':(')"
   ]
  },
  {
   "cell_type": "markdown",
   "id": "sufficient-daniel",
   "metadata": {},
   "source": [
    "# Замена выбросов"
   ]
  },
  {
   "cell_type": "code",
   "execution_count": 10,
   "id": "ongoing-neighbor",
   "metadata": {},
   "outputs": [
    {
     "name": "stdout",
     "output_type": "stream",
     "text": [
      "количество выбрасов выше 1155.6 = 1015\n",
      "количество выбрасов ниже 460 = 10220\n"
     ]
    }
   ],
   "source": [
    "print(f'количество выбрасов выше {max_rr} =', len(df[df.x > max_rr]))\n",
    "print(f'количество выбрасов ниже {min_rr} =', len(df[df.x < min_rr]))"
   ]
  },
  {
   "cell_type": "code",
   "execution_count": 11,
   "id": "hungry-alexandria",
   "metadata": {},
   "outputs": [
    {
     "name": "stdout",
     "output_type": "stream",
     "text": [
      "количество NA после мьютирования = 11235\n",
      "выбросы замьютированы корректно\n"
     ]
    }
   ],
   "source": [
    "out_cnt = len(df[(df.x > max_rr)|(df.x < min_rr)].y)\n",
    "df.loc[df.x > max_rr, 'x'] = pd.NA\n",
    "df.loc[df.x < min_rr, 'x'] = pd.NA\n",
    "\n",
    "print('количество NA после мьютирования =', len(df[df.x.isna()]))\n",
    "if len(df[df.x.isna()]) == out_cnt:\n",
    "    print('выбросы замьютированы корректно')\n",
    "else:\n",
    "    print('мьютирование выбросов прошло некорректно...')"
   ]
  },
  {
   "cell_type": "code",
   "execution_count": 12,
   "id": "preliminary-shower",
   "metadata": {},
   "outputs": [],
   "source": [
    "# индексы, которые были выялены как выбросы\n",
    "out_ind = df[df.x.isna()].index"
   ]
  },
  {
   "cell_type": "code",
   "execution_count": 13,
   "id": "horizontal-review",
   "metadata": {},
   "outputs": [
    {
     "data": {
      "text/plain": [
       "47497    540\n",
       "47498    540\n",
       "Name: x, dtype: int64"
      ]
     },
     "metadata": {},
     "output_type": "display_data"
    },
    {
     "name": "stdout",
     "output_type": "stream",
     "text": [
      "\n",
      "Проверка прошла успешно! :)\n"
     ]
    }
   ],
   "source": [
    "# test\n",
    "df.x.ffill(inplace=True)\n",
    "# проверка на корректность мьютирования\n",
    "ind = np.random.randint(len(out_ind))\n",
    "display(df.loc[[out_ind[ind]-1, out_ind[ind]], 'x'])\n",
    "if df.loc[out_ind[ind]-1, 'x'] == df.loc[out_ind[ind], 'x']:\n",
    "    print('\\nПроверка прошла успешно! :)')\n",
    "else:\n",
    "    print('\\nДанные в соседних точках не совпадают... :(')"
   ]
  },
  {
   "cell_type": "code",
   "execution_count": 14,
   "id": "beneficial-sheep",
   "metadata": {},
   "outputs": [
    {
     "name": "stdout",
     "output_type": "stream",
     "text": [
      "<class 'pandas.core.frame.DataFrame'>\n",
      "RangeIndex: 60487 entries, 0 to 60486\n",
      "Data columns (total 22 columns):\n",
      " #   Column              Non-Null Count  Dtype  \n",
      "---  ------              --------------  -----  \n",
      " 0   id                  60487 non-null  int64  \n",
      " 1   time                60487 non-null  int64  \n",
      " 2   x                   60487 non-null  int64  \n",
      " 3   y                   60487 non-null  int64  \n",
      " 4   entropy             60487 non-null  float64\n",
      " 5   x_diff              60487 non-null  float64\n",
      " 6   x_deviation_median  60487 non-null  float64\n",
      " 7   x+1                 60487 non-null  float64\n",
      " 8   x-1                 60487 non-null  float64\n",
      " 9   x+2                 60487 non-null  float64\n",
      " 10  x-2                 60487 non-null  float64\n",
      " 11  x+3                 60487 non-null  float64\n",
      " 12  x-3                 60487 non-null  float64\n",
      " 13  x+4                 60487 non-null  float64\n",
      " 14  x-4                 60487 non-null  float64\n",
      " 15  x-(x+1)             60487 non-null  float64\n",
      " 16  x-(x+2)             60487 non-null  float64\n",
      " 17  x-(x-2)             60487 non-null  float64\n",
      " 18  x-(x+3)             60487 non-null  float64\n",
      " 19  x-(x-3)             60487 non-null  float64\n",
      " 20  x-(x+4)             60487 non-null  float64\n",
      " 21  x-(x-4)             60487 non-null  float64\n",
      "dtypes: float64(18), int64(4)\n",
      "memory usage: 10.2 MB\n"
     ]
    }
   ],
   "source": [
    "df.info()"
   ]
  },
  {
   "cell_type": "code",
   "execution_count": 15,
   "id": "living-formula",
   "metadata": {},
   "outputs": [],
   "source": [
    "# сохраним датасет в с текущими признаками, предварительно удалив строки с пропусками\n",
    "with open('dataset-mms-pipeline-2.pkl', 'wb') as f:\n",
    "    pickle.dump(df, f)\n",
    "    \n",
    "df.to_csv('dataset-mms-pipeline-2.csv')"
   ]
  },
  {
   "cell_type": "markdown",
   "id": "congressional-seventh",
   "metadata": {},
   "source": [
    "# Кросс-валидация"
   ]
  },
  {
   "cell_type": "code",
   "execution_count": 16,
   "id": "hungry-merchant",
   "metadata": {},
   "outputs": [
    {
     "name": "stdout",
     "output_type": "stream",
     "text": [
      "scaler-mms-pipeline-2.pkl was saved in output directory\n"
     ]
    }
   ],
   "source": [
    "# make X and y\n",
    "X,y = make_XY(df)"
   ]
  },
  {
   "cell_type": "code",
   "execution_count": 17,
   "id": "mysterious-liberty",
   "metadata": {},
   "outputs": [
    {
     "name": "stdout",
     "output_type": "stream",
     "text": [
      "test_score: [0.80877356 0.71485306 0.5607853  0.75297061 0.74190564]\n",
      "mean test_score = 0.7158576328153325\n",
      "current best mean test_score = 0.7161425084850291\n"
     ]
    }
   ],
   "source": [
    "model = lgb.LGBMClassifier(n_estimators=3860, learning_rate=0.01, random_state=RANDOM_STATE, n_jobs=-1)\n",
    "\n",
    "cv_result = cross_validate(model, X, y, cv=StratifiedKFold(), scoring='f1')\n",
    "\n",
    "print('test_score:', cv_result['test_score'])\n",
    "print('mean test_score =', cv_result['test_score'].mean())\n",
    "print('current best mean test_score = 0.7161425084850291')"
   ]
  },
  {
   "cell_type": "markdown",
   "id": "liked-reproduction",
   "metadata": {},
   "source": [
    "# Обучение модели"
   ]
  },
  {
   "cell_type": "code",
   "execution_count": 25,
   "id": "exotic-quality",
   "metadata": {},
   "outputs": [
    {
     "data": {
      "text/plain": [
       "LGBMClassifier(learning_rate=0.01, n_estimators=3860, random_state=0)"
      ]
     },
     "execution_count": 25,
     "metadata": {},
     "output_type": "execute_result"
    }
   ],
   "source": [
    "model = lgb.LGBMClassifier(n_estimators=3860, learning_rate=0.01, random_state=RANDOM_STATE, n_jobs=-1)\n",
    "model.fit(X,y,verbose=False)"
   ]
  },
  {
   "cell_type": "code",
   "execution_count": 26,
   "id": "mounted-aquatic",
   "metadata": {},
   "outputs": [],
   "source": [
    "with open('model-mms-pipeline-2.pkl', 'wb') as f:\n",
    "    pickle.dump(model, f)"
   ]
  },
  {
   "cell_type": "markdown",
   "id": "smart-punishment",
   "metadata": {},
   "source": [
    "# Проверка на тестовых данных"
   ]
  },
  {
   "cell_type": "code",
   "execution_count": 39,
   "id": "sharp-fruit",
   "metadata": {},
   "outputs": [
    {
     "name": "stdout",
     "output_type": "stream",
     "text": [
      "<class 'pandas.core.frame.DataFrame'>\n",
      "RangeIndex: 15034 entries, 0 to 15033\n",
      "Data columns (total 3 columns):\n",
      " #   Column  Non-Null Count  Dtype\n",
      "---  ------  --------------  -----\n",
      " 0   id      15034 non-null  int64\n",
      " 1   time    15034 non-null  int64\n",
      " 2   x       15034 non-null  int64\n",
      "dtypes: int64(3)\n",
      "memory usage: 352.5 KB\n"
     ]
    }
   ],
   "source": [
    "test_data = pd.read_csv('../input/cardiospikecompetition/test.csv')\n",
    "test_data.info()"
   ]
  },
  {
   "cell_type": "code",
   "execution_count": 40,
   "id": "resident-steel",
   "metadata": {},
   "outputs": [
    {
     "data": {
      "text/plain": [
       "array([ 81, 168, 243, 135,   9,  11, 157, 212, 166, 154, 227, 165,  37,\n",
       "       274, 211, 200, 183,  26, 175,  50, 141, 198, 114, 181, 171,  83,\n",
       "         8, 256, 249, 142, 210, 106, 248, 255,  28, 192,  18, 267, 105,\n",
       "        95,  94, 269,  56,  98, 184, 176])"
      ]
     },
     "execution_count": 40,
     "metadata": {},
     "output_type": "execute_result"
    }
   ],
   "source": [
    "test_data.id.unique()"
   ]
  },
  {
   "cell_type": "code",
   "execution_count": 41,
   "id": "emotional-fabric",
   "metadata": {},
   "outputs": [
    {
     "data": {
      "text/plain": [
       "46"
      ]
     },
     "execution_count": 41,
     "metadata": {},
     "output_type": "execute_result"
    }
   ],
   "source": [
    "len(test_data.id.unique())"
   ]
  },
  {
   "cell_type": "code",
   "execution_count": 42,
   "id": "endangered-browse",
   "metadata": {},
   "outputs": [
    {
     "name": "stdout",
     "output_type": "stream",
     "text": [
      "<class 'pandas.core.frame.DataFrame'>\n",
      "RangeIndex: 15034 entries, 0 to 15033\n",
      "Data columns (total 21 columns):\n",
      " #   Column              Non-Null Count  Dtype  \n",
      "---  ------              --------------  -----  \n",
      " 0   id                  15034 non-null  int64  \n",
      " 1   time                15034 non-null  int64  \n",
      " 2   x                   15034 non-null  int64  \n",
      " 3   entropy             15034 non-null  float64\n",
      " 4   x_diff              15034 non-null  float64\n",
      " 5   x_deviation_median  15034 non-null  float64\n",
      " 6   x+1                 15034 non-null  float64\n",
      " 7   x-1                 15034 non-null  float64\n",
      " 8   x+2                 15034 non-null  float64\n",
      " 9   x-2                 15034 non-null  float64\n",
      " 10  x+3                 15034 non-null  float64\n",
      " 11  x-3                 15034 non-null  float64\n",
      " 12  x+4                 15034 non-null  float64\n",
      " 13  x-4                 15034 non-null  float64\n",
      " 14  x-(x+1)             15034 non-null  float64\n",
      " 15  x-(x+2)             15034 non-null  float64\n",
      " 16  x-(x-2)             15034 non-null  float64\n",
      " 17  x-(x+3)             15034 non-null  float64\n",
      " 18  x-(x-3)             15034 non-null  float64\n",
      " 19  x-(x+4)             15034 non-null  float64\n",
      " 20  x-(x-4)             15034 non-null  float64\n",
      "dtypes: float64(18), int64(3)\n",
      "memory usage: 2.4 MB\n"
     ]
    }
   ],
   "source": [
    "test_df = make_dataset(test_data)\n",
    "test_df.info()"
   ]
  },
  {
   "cell_type": "code",
   "execution_count": 43,
   "id": "danish-hundred",
   "metadata": {},
   "outputs": [
    {
     "name": "stdout",
     "output_type": "stream",
     "text": [
      "(15034, 19)\n"
     ]
    }
   ],
   "source": [
    "with open('scaler-mms-pipeline-2.pkl', 'rb') as f:\n",
    "    scaler = pickle.load(f)\n",
    "    \n",
    "X_test = test_df.drop(['id','time'], axis=1).to_numpy()\n",
    "X_test = scaler.transform(X_test)\n",
    "\n",
    "print(X_test.shape)"
   ]
  },
  {
   "cell_type": "code",
   "execution_count": 44,
   "id": "practical-tender",
   "metadata": {},
   "outputs": [],
   "source": [
    "y_pred = model.predict(X_test)"
   ]
  },
  {
   "cell_type": "code",
   "execution_count": 45,
   "id": "wired-examination",
   "metadata": {},
   "outputs": [
    {
     "data": {
      "image/png": "[encoded data removed]",
      "text/plain": [
       "<Figure size 432x288 with 1 Axes>"
      ]
     },
     "metadata": {
      "needs_background": "light"
     },
     "output_type": "display_data"
    }
   ],
   "source": [
    "plt.plot(test_df.time, y_pred, 'o');"
   ]
  },
  {
   "cell_type": "code",
   "execution_count": 46,
   "id": "embedded-exception",
   "metadata": {},
   "outputs": [
    {
     "name": "stdout",
     "output_type": "stream",
     "text": [
      "<class 'pandas.core.frame.DataFrame'>\n",
      "RangeIndex: 15034 entries, 0 to 15033\n",
      "Data columns (total 4 columns):\n",
      " #   Column  Non-Null Count  Dtype\n",
      "---  ------  --------------  -----\n",
      " 0   id      15034 non-null  int64\n",
      " 1   time    15034 non-null  int64\n",
      " 2   x       15034 non-null  int64\n",
      " 3   y       15034 non-null  int64\n",
      "dtypes: int64(4)\n",
      "memory usage: 469.9 KB\n"
     ]
    }
   ],
   "source": [
    "# submit\n",
    "submit = test_data.copy()\n",
    "submit['y'] = y_pred\n",
    "submit.info()"
   ]
  },
  {
   "cell_type": "code",
   "execution_count": 47,
   "id": "personal-literature",
   "metadata": {},
   "outputs": [
    {
     "data": {
      "text/html": [
       "<div>\n",
       "<style scoped>\n",
       "    .dataframe tbody tr th:only-of-type {\n",
       "        vertical-align: middle;\n",
       "    }\n",
       "\n",
       "    .dataframe tbody tr th {\n",
       "        vertical-align: top;\n",
       "    }\n",
       "\n",
       "    .dataframe thead th {\n",
       "        text-align: right;\n",
       "    }\n",
       "</style>\n",
       "<table border=\"1\" class=\"dataframe\">\n",
       "  <thead>\n",
       "    <tr style=\"text-align: right;\">\n",
       "      <th></th>\n",
       "      <th>id</th>\n",
       "      <th>time</th>\n",
       "      <th>x</th>\n",
       "      <th>y</th>\n",
       "    </tr>\n",
       "  </thead>\n",
       "  <tbody>\n",
       "    <tr>\n",
       "      <th>0</th>\n",
       "      <td>81</td>\n",
       "      <td>0</td>\n",
       "      <td>576</td>\n",
       "      <td>0</td>\n",
       "    </tr>\n",
       "    <tr>\n",
       "      <th>1</th>\n",
       "      <td>81</td>\n",
       "      <td>568</td>\n",
       "      <td>568</td>\n",
       "      <td>0</td>\n",
       "    </tr>\n",
       "    <tr>\n",
       "      <th>2</th>\n",
       "      <td>81</td>\n",
       "      <td>1140</td>\n",
       "      <td>572</td>\n",
       "      <td>0</td>\n",
       "    </tr>\n",
       "    <tr>\n",
       "      <th>3</th>\n",
       "      <td>81</td>\n",
       "      <td>1716</td>\n",
       "      <td>576</td>\n",
       "      <td>0</td>\n",
       "    </tr>\n",
       "    <tr>\n",
       "      <th>4</th>\n",
       "      <td>81</td>\n",
       "      <td>2284</td>\n",
       "      <td>568</td>\n",
       "      <td>0</td>\n",
       "    </tr>\n",
       "    <tr>\n",
       "      <th>...</th>\n",
       "      <td>...</td>\n",
       "      <td>...</td>\n",
       "      <td>...</td>\n",
       "      <td>...</td>\n",
       "    </tr>\n",
       "    <tr>\n",
       "      <th>15029</th>\n",
       "      <td>176</td>\n",
       "      <td>44332</td>\n",
       "      <td>568</td>\n",
       "      <td>1</td>\n",
       "    </tr>\n",
       "    <tr>\n",
       "      <th>15030</th>\n",
       "      <td>176</td>\n",
       "      <td>44968</td>\n",
       "      <td>636</td>\n",
       "      <td>1</td>\n",
       "    </tr>\n",
       "    <tr>\n",
       "      <th>15031</th>\n",
       "      <td>176</td>\n",
       "      <td>45596</td>\n",
       "      <td>628</td>\n",
       "      <td>0</td>\n",
       "    </tr>\n",
       "    <tr>\n",
       "      <th>15032</th>\n",
       "      <td>176</td>\n",
       "      <td>46904</td>\n",
       "      <td>1308</td>\n",
       "      <td>0</td>\n",
       "    </tr>\n",
       "    <tr>\n",
       "      <th>15033</th>\n",
       "      <td>176</td>\n",
       "      <td>48100</td>\n",
       "      <td>1196</td>\n",
       "      <td>0</td>\n",
       "    </tr>\n",
       "  </tbody>\n",
       "</table>\n",
       "<p>15034 rows × 4 columns</p>\n",
       "</div>"
      ],
      "text/plain": [
       "        id   time     x  y\n",
       "0       81      0   576  0\n",
       "1       81    568   568  0\n",
       "2       81   1140   572  0\n",
       "3       81   1716   576  0\n",
       "4       81   2284   568  0\n",
       "...    ...    ...   ... ..\n",
       "15029  176  44332   568  1\n",
       "15030  176  44968   636  1\n",
       "15031  176  45596   628  0\n",
       "15032  176  46904  1308  0\n",
       "15033  176  48100  1196  0\n",
       "\n",
       "[15034 rows x 4 columns]"
      ]
     },
     "execution_count": 47,
     "metadata": {},
     "output_type": "execute_result"
    }
   ],
   "source": [
    "submit"
   ]
  },
  {
   "cell_type": "code",
   "execution_count": 48,
   "id": "monthly-manitoba",
   "metadata": {},
   "outputs": [],
   "source": [
    "submit.to_csv('submit-mms-pipeline-2.csv', index=False)"
   ]
  }
 ],
 "metadata": {
  "kernelspec": {
   "display_name": "Python 3",
   "language": "python",
   "name": "python3"
  },
  "language_info": {
   "codemirror_mode": {
    "name": "ipython",
    "version": 3
   },
   "file_extension": ".py",
   "mimetype": "text/x-python",
   "name": "python",
   "nbconvert_exporter": "python",
   "pygments_lexer": "ipython3",
   "version": "3.6.9"
  }
 },
 "nbformat": 4,
 "nbformat_minor": 5
}
