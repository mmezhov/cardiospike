{
 "cells": [
  {
   "cell_type": "markdown",
   "id": "thrown-buffalo",
   "metadata": {
    "_cell_guid": "b1076dfc-b9ad-4769-8c92-a6c4dae69d19",
    "_uuid": "8f2839f25d086af736a60e9eeb907d3b93b6e0e5",
    "papermill": {
     "duration": 0.01886,
     "end_time": "2021-06-16T12:34:12.933527",
     "exception": false,
     "start_time": "2021-06-16T12:34:12.914667",
     "status": "completed"
    },
    "tags": []
   },
   "source": [
    "[EDA](https://www.kaggle.com/maximmezhov/cardiospike-eda)  \n",
    "[Подготовка датасета](https://www.kaggle.com/maximmezhov/cardiospike-feature-development)"
   ]
  },
  {
   "cell_type": "code",
   "execution_count": 1,
   "id": "future-soviet",
   "metadata": {
    "execution": {
     "iopub.execute_input": "2021-06-16T12:34:12.973507Z",
     "iopub.status.busy": "2021-06-16T12:34:12.972360Z",
     "iopub.status.idle": "2021-06-16T12:34:14.548340Z",
     "shell.execute_reply": "2021-06-16T12:34:14.549195Z",
     "shell.execute_reply.started": "2021-06-16T11:25:19.166725Z"
    },
    "papermill": {
     "duration": 1.598516,
     "end_time": "2021-06-16T12:34:14.549645",
     "exception": false,
     "start_time": "2021-06-16T12:34:12.951129",
     "status": "completed"
    },
    "tags": []
   },
   "outputs": [
    {
     "data": {
      "text/html": [
       "<style type='text/css'>\n",
       ".datatable table.frame { margin-bottom: 0; }\n",
       ".datatable table.frame thead { border-bottom: none; }\n",
       ".datatable table.frame tr.coltypes td {  color: #FFFFFF;  line-height: 6px;  padding: 0 0.5em;}\n",
       ".datatable .bool    { background: #DDDD99; }\n",
       ".datatable .object  { background: #565656; }\n",
       ".datatable .int     { background: #5D9E5D; }\n",
       ".datatable .float   { background: #4040CC; }\n",
       ".datatable .str     { background: #CC4040; }\n",
       ".datatable .row_index {  background: var(--jp-border-color3);  border-right: 1px solid var(--jp-border-color0);  color: var(--jp-ui-font-color3);  font-size: 9px;}\n",
       ".datatable .frame tr.coltypes .row_index {  background: var(--jp-border-color0);}\n",
       ".datatable th:nth-child(2) { padding-left: 12px; }\n",
       ".datatable .hellipsis {  color: var(--jp-cell-editor-border-color);}\n",
       ".datatable .vellipsis {  background: var(--jp-layout-color0);  color: var(--jp-cell-editor-border-color);}\n",
       ".datatable .na {  color: var(--jp-cell-editor-border-color);  font-size: 80%;}\n",
       ".datatable .footer { font-size: 9px; }\n",
       ".datatable .frame_dimensions {  background: var(--jp-border-color3);  border-top: 1px solid var(--jp-border-color0);  color: var(--jp-ui-font-color3);  display: inline-block;  opacity: 0.6;  padding: 1px 10px 1px 5px;}\n",
       "</style>\n"
      ],
      "text/plain": [
       "<IPython.core.display.HTML object>"
      ]
     },
     "metadata": {},
     "output_type": "display_data"
    }
   ],
   "source": [
    "import pandas as pd\n",
    "import pickle\n",
    "import catboost\n",
    "import lightgbm\n",
    "\n",
    "from sklearn.preprocessing import StandardScaler\n",
    "from sklearn.model_selection import cross_validate, StratifiedKFold\n",
    "from sklearn.metrics import f1_score"
   ]
  },
  {
   "cell_type": "code",
   "execution_count": 2,
   "id": "prerequisite-sphere",
   "metadata": {
    "execution": {
     "iopub.execute_input": "2021-06-16T12:34:14.597356Z",
     "iopub.status.busy": "2021-06-16T12:34:14.596404Z",
     "iopub.status.idle": "2021-06-16T12:34:14.600714Z",
     "shell.execute_reply": "2021-06-16T12:34:14.601290Z",
     "shell.execute_reply.started": "2021-06-16T10:45:23.750021Z"
    },
    "papermill": {
     "duration": 0.02663,
     "end_time": "2021-06-16T12:34:14.601472",
     "exception": false,
     "start_time": "2021-06-16T12:34:14.574842",
     "status": "completed"
    },
    "tags": []
   },
   "outputs": [],
   "source": [
    "RANDOM_STATE = 0"
   ]
  },
  {
   "cell_type": "code",
   "execution_count": 3,
   "id": "controlled-proxy",
   "metadata": {
    "execution": {
     "iopub.execute_input": "2021-06-16T12:34:14.642128Z",
     "iopub.status.busy": "2021-06-16T12:34:14.641173Z",
     "iopub.status.idle": "2021-06-16T12:34:14.837577Z",
     "shell.execute_reply": "2021-06-16T12:34:14.836673Z",
     "shell.execute_reply.started": "2021-06-16T09:48:09.049827Z"
    },
    "papermill": {
     "duration": 0.2177,
     "end_time": "2021-06-16T12:34:14.837770",
     "exception": false,
     "start_time": "2021-06-16T12:34:14.620070",
     "status": "completed"
    },
    "tags": []
   },
   "outputs": [
    {
     "name": "stdout",
     "output_type": "stream",
     "text": [
      "<class 'pandas.core.frame.DataFrame'>\n",
      "Int64Index: 59113 entries, 3 to 60483\n",
      "Data columns (total 18 columns):\n",
      " #   Column              Non-Null Count  Dtype  \n",
      "---  ------              --------------  -----  \n",
      " 0   id                  59113 non-null  int64  \n",
      " 1   time                59113 non-null  int64  \n",
      " 2   x                   59113 non-null  int64  \n",
      " 3   y                   59113 non-null  int64  \n",
      " 4   x_diff              59113 non-null  float64\n",
      " 5   x_deviation_median  59113 non-null  float64\n",
      " 6   x+1                 59113 non-null  float64\n",
      " 7   x-1                 59113 non-null  float64\n",
      " 8   x+2                 59113 non-null  float64\n",
      " 9   x-2                 59113 non-null  float64\n",
      " 10  x+3                 59113 non-null  float64\n",
      " 11  x-3                 59113 non-null  float64\n",
      " 12  x-(x+1)             59113 non-null  float64\n",
      " 13  x-(x-1)             59113 non-null  float64\n",
      " 14  x-(x+2)             59113 non-null  float64\n",
      " 15  x-(x-2)             59113 non-null  float64\n",
      " 16  x-(x+3)             59113 non-null  float64\n",
      " 17  x-(x-3)             59113 non-null  float64\n",
      "dtypes: float64(14), int64(4)\n",
      "memory usage: 8.6 MB\n"
     ]
    }
   ],
   "source": [
    "with open('../input/cardiospike-feature-development/dataset_v1.pkl', 'rb') as f:\n",
    "    df = pickle.load(f)\n",
    "    \n",
    "df.info()"
   ]
  },
  {
   "cell_type": "code",
   "execution_count": 4,
   "id": "pursuant-cedar",
   "metadata": {
    "execution": {
     "iopub.execute_input": "2021-06-16T12:34:14.887864Z",
     "iopub.status.busy": "2021-06-16T12:34:14.886892Z",
     "iopub.status.idle": "2021-06-16T12:34:14.918460Z",
     "shell.execute_reply": "2021-06-16T12:34:14.918950Z",
     "shell.execute_reply.started": "2021-06-16T09:49:14.414084Z"
    },
    "papermill": {
     "duration": 0.061334,
     "end_time": "2021-06-16T12:34:14.919186",
     "exception": false,
     "start_time": "2021-06-16T12:34:14.857852",
     "status": "completed"
    },
    "tags": []
   },
   "outputs": [
    {
     "data": {
      "text/html": [
       "<div>\n",
       "<style scoped>\n",
       "    .dataframe tbody tr th:only-of-type {\n",
       "        vertical-align: middle;\n",
       "    }\n",
       "\n",
       "    .dataframe tbody tr th {\n",
       "        vertical-align: top;\n",
       "    }\n",
       "\n",
       "    .dataframe thead th {\n",
       "        text-align: right;\n",
       "    }\n",
       "</style>\n",
       "<table border=\"1\" class=\"dataframe\">\n",
       "  <thead>\n",
       "    <tr style=\"text-align: right;\">\n",
       "      <th></th>\n",
       "      <th>id</th>\n",
       "      <th>time</th>\n",
       "      <th>x</th>\n",
       "      <th>y</th>\n",
       "      <th>x_diff</th>\n",
       "      <th>x_deviation_median</th>\n",
       "      <th>x+1</th>\n",
       "      <th>x-1</th>\n",
       "      <th>x+2</th>\n",
       "      <th>x-2</th>\n",
       "      <th>x+3</th>\n",
       "      <th>x-3</th>\n",
       "      <th>x-(x+1)</th>\n",
       "      <th>x-(x-1)</th>\n",
       "      <th>x-(x+2)</th>\n",
       "      <th>x-(x-2)</th>\n",
       "      <th>x-(x+3)</th>\n",
       "      <th>x-(x-3)</th>\n",
       "    </tr>\n",
       "  </thead>\n",
       "  <tbody>\n",
       "    <tr>\n",
       "      <th>3</th>\n",
       "      <td>1</td>\n",
       "      <td>2392</td>\n",
       "      <td>820</td>\n",
       "      <td>0</td>\n",
       "      <td>28.0</td>\n",
       "      <td>-72.0</td>\n",
       "      <td>804.0</td>\n",
       "      <td>792.0</td>\n",
       "      <td>828.0</td>\n",
       "      <td>780.0</td>\n",
       "      <td>916.0</td>\n",
       "      <td>800.0</td>\n",
       "      <td>16.0</td>\n",
       "      <td>28.0</td>\n",
       "      <td>-8.0</td>\n",
       "      <td>40.0</td>\n",
       "      <td>-96.0</td>\n",
       "      <td>20.0</td>\n",
       "    </tr>\n",
       "    <tr>\n",
       "      <th>4</th>\n",
       "      <td>1</td>\n",
       "      <td>3196</td>\n",
       "      <td>804</td>\n",
       "      <td>0</td>\n",
       "      <td>-16.0</td>\n",
       "      <td>-56.0</td>\n",
       "      <td>828.0</td>\n",
       "      <td>820.0</td>\n",
       "      <td>916.0</td>\n",
       "      <td>792.0</td>\n",
       "      <td>960.0</td>\n",
       "      <td>780.0</td>\n",
       "      <td>-24.0</td>\n",
       "      <td>-16.0</td>\n",
       "      <td>-112.0</td>\n",
       "      <td>12.0</td>\n",
       "      <td>-156.0</td>\n",
       "      <td>24.0</td>\n",
       "    </tr>\n",
       "    <tr>\n",
       "      <th>5</th>\n",
       "      <td>1</td>\n",
       "      <td>4024</td>\n",
       "      <td>828</td>\n",
       "      <td>0</td>\n",
       "      <td>24.0</td>\n",
       "      <td>-80.0</td>\n",
       "      <td>916.0</td>\n",
       "      <td>804.0</td>\n",
       "      <td>960.0</td>\n",
       "      <td>820.0</td>\n",
       "      <td>956.0</td>\n",
       "      <td>792.0</td>\n",
       "      <td>-88.0</td>\n",
       "      <td>24.0</td>\n",
       "      <td>-132.0</td>\n",
       "      <td>8.0</td>\n",
       "      <td>-128.0</td>\n",
       "      <td>36.0</td>\n",
       "    </tr>\n",
       "    <tr>\n",
       "      <th>6</th>\n",
       "      <td>1</td>\n",
       "      <td>4940</td>\n",
       "      <td>916</td>\n",
       "      <td>0</td>\n",
       "      <td>88.0</td>\n",
       "      <td>-168.0</td>\n",
       "      <td>960.0</td>\n",
       "      <td>828.0</td>\n",
       "      <td>956.0</td>\n",
       "      <td>804.0</td>\n",
       "      <td>928.0</td>\n",
       "      <td>820.0</td>\n",
       "      <td>-44.0</td>\n",
       "      <td>88.0</td>\n",
       "      <td>-40.0</td>\n",
       "      <td>112.0</td>\n",
       "      <td>-12.0</td>\n",
       "      <td>96.0</td>\n",
       "    </tr>\n",
       "    <tr>\n",
       "      <th>7</th>\n",
       "      <td>1</td>\n",
       "      <td>5900</td>\n",
       "      <td>960</td>\n",
       "      <td>0</td>\n",
       "      <td>44.0</td>\n",
       "      <td>-212.0</td>\n",
       "      <td>956.0</td>\n",
       "      <td>916.0</td>\n",
       "      <td>928.0</td>\n",
       "      <td>828.0</td>\n",
       "      <td>836.0</td>\n",
       "      <td>804.0</td>\n",
       "      <td>4.0</td>\n",
       "      <td>44.0</td>\n",
       "      <td>32.0</td>\n",
       "      <td>132.0</td>\n",
       "      <td>124.0</td>\n",
       "      <td>156.0</td>\n",
       "    </tr>\n",
       "  </tbody>\n",
       "</table>\n",
       "</div>"
      ],
      "text/plain": [
       "   id  time    x  y  x_diff  x_deviation_median    x+1    x-1    x+2    x-2  \\\n",
       "3   1  2392  820  0    28.0               -72.0  804.0  792.0  828.0  780.0   \n",
       "4   1  3196  804  0   -16.0               -56.0  828.0  820.0  916.0  792.0   \n",
       "5   1  4024  828  0    24.0               -80.0  916.0  804.0  960.0  820.0   \n",
       "6   1  4940  916  0    88.0              -168.0  960.0  828.0  956.0  804.0   \n",
       "7   1  5900  960  0    44.0              -212.0  956.0  916.0  928.0  828.0   \n",
       "\n",
       "     x+3    x-3  x-(x+1)  x-(x-1)  x-(x+2)  x-(x-2)  x-(x+3)  x-(x-3)  \n",
       "3  916.0  800.0     16.0     28.0     -8.0     40.0    -96.0     20.0  \n",
       "4  960.0  780.0    -24.0    -16.0   -112.0     12.0   -156.0     24.0  \n",
       "5  956.0  792.0    -88.0     24.0   -132.0      8.0   -128.0     36.0  \n",
       "6  928.0  820.0    -44.0     88.0    -40.0    112.0    -12.0     96.0  \n",
       "7  836.0  804.0      4.0     44.0     32.0    132.0    124.0    156.0  "
      ]
     },
     "execution_count": 4,
     "metadata": {},
     "output_type": "execute_result"
    }
   ],
   "source": [
    "df.head()"
   ]
  },
  {
   "cell_type": "markdown",
   "id": "comparable-brush",
   "metadata": {
    "papermill": {
     "duration": 0.019243,
     "end_time": "2021-06-16T12:34:14.958065",
     "exception": false,
     "start_time": "2021-06-16T12:34:14.938822",
     "status": "completed"
    },
    "tags": []
   },
   "source": [
    "# X, y"
   ]
  },
  {
   "cell_type": "code",
   "execution_count": 5,
   "id": "forced-teacher",
   "metadata": {
    "execution": {
     "iopub.execute_input": "2021-06-16T12:34:15.018873Z",
     "iopub.status.busy": "2021-06-16T12:34:15.015218Z",
     "iopub.status.idle": "2021-06-16T12:34:15.074370Z",
     "shell.execute_reply": "2021-06-16T12:34:15.073628Z",
     "shell.execute_reply.started": "2021-06-16T11:28:04.807280Z"
    },
    "papermill": {
     "duration": 0.096971,
     "end_time": "2021-06-16T12:34:15.074539",
     "exception": false,
     "start_time": "2021-06-16T12:34:14.977568",
     "status": "completed"
    },
    "tags": []
   },
   "outputs": [
    {
     "data": {
      "text/html": [
       "<div>\n",
       "<style scoped>\n",
       "    .dataframe tbody tr th:only-of-type {\n",
       "        vertical-align: middle;\n",
       "    }\n",
       "\n",
       "    .dataframe tbody tr th {\n",
       "        vertical-align: top;\n",
       "    }\n",
       "\n",
       "    .dataframe thead th {\n",
       "        text-align: right;\n",
       "    }\n",
       "</style>\n",
       "<table border=\"1\" class=\"dataframe\">\n",
       "  <thead>\n",
       "    <tr style=\"text-align: right;\">\n",
       "      <th></th>\n",
       "      <th>x</th>\n",
       "      <th>x_diff</th>\n",
       "      <th>x_deviation_median</th>\n",
       "      <th>x+1</th>\n",
       "      <th>x-1</th>\n",
       "      <th>x+2</th>\n",
       "      <th>x-2</th>\n",
       "      <th>x+3</th>\n",
       "      <th>x-3</th>\n",
       "      <th>x-(x+1)</th>\n",
       "      <th>x-(x-1)</th>\n",
       "      <th>x-(x+2)</th>\n",
       "      <th>x-(x-2)</th>\n",
       "      <th>x-(x+3)</th>\n",
       "      <th>x-(x-3)</th>\n",
       "    </tr>\n",
       "  </thead>\n",
       "  <tbody>\n",
       "    <tr>\n",
       "      <th>3</th>\n",
       "      <td>820</td>\n",
       "      <td>28.0</td>\n",
       "      <td>-72.0</td>\n",
       "      <td>804.0</td>\n",
       "      <td>792.0</td>\n",
       "      <td>828.0</td>\n",
       "      <td>780.0</td>\n",
       "      <td>916.0</td>\n",
       "      <td>800.0</td>\n",
       "      <td>16.0</td>\n",
       "      <td>28.0</td>\n",
       "      <td>-8.0</td>\n",
       "      <td>40.0</td>\n",
       "      <td>-96.0</td>\n",
       "      <td>20.0</td>\n",
       "    </tr>\n",
       "    <tr>\n",
       "      <th>4</th>\n",
       "      <td>804</td>\n",
       "      <td>-16.0</td>\n",
       "      <td>-56.0</td>\n",
       "      <td>828.0</td>\n",
       "      <td>820.0</td>\n",
       "      <td>916.0</td>\n",
       "      <td>792.0</td>\n",
       "      <td>960.0</td>\n",
       "      <td>780.0</td>\n",
       "      <td>-24.0</td>\n",
       "      <td>-16.0</td>\n",
       "      <td>-112.0</td>\n",
       "      <td>12.0</td>\n",
       "      <td>-156.0</td>\n",
       "      <td>24.0</td>\n",
       "    </tr>\n",
       "    <tr>\n",
       "      <th>5</th>\n",
       "      <td>828</td>\n",
       "      <td>24.0</td>\n",
       "      <td>-80.0</td>\n",
       "      <td>916.0</td>\n",
       "      <td>804.0</td>\n",
       "      <td>960.0</td>\n",
       "      <td>820.0</td>\n",
       "      <td>956.0</td>\n",
       "      <td>792.0</td>\n",
       "      <td>-88.0</td>\n",
       "      <td>24.0</td>\n",
       "      <td>-132.0</td>\n",
       "      <td>8.0</td>\n",
       "      <td>-128.0</td>\n",
       "      <td>36.0</td>\n",
       "    </tr>\n",
       "    <tr>\n",
       "      <th>6</th>\n",
       "      <td>916</td>\n",
       "      <td>88.0</td>\n",
       "      <td>-168.0</td>\n",
       "      <td>960.0</td>\n",
       "      <td>828.0</td>\n",
       "      <td>956.0</td>\n",
       "      <td>804.0</td>\n",
       "      <td>928.0</td>\n",
       "      <td>820.0</td>\n",
       "      <td>-44.0</td>\n",
       "      <td>88.0</td>\n",
       "      <td>-40.0</td>\n",
       "      <td>112.0</td>\n",
       "      <td>-12.0</td>\n",
       "      <td>96.0</td>\n",
       "    </tr>\n",
       "    <tr>\n",
       "      <th>7</th>\n",
       "      <td>960</td>\n",
       "      <td>44.0</td>\n",
       "      <td>-212.0</td>\n",
       "      <td>956.0</td>\n",
       "      <td>916.0</td>\n",
       "      <td>928.0</td>\n",
       "      <td>828.0</td>\n",
       "      <td>836.0</td>\n",
       "      <td>804.0</td>\n",
       "      <td>4.0</td>\n",
       "      <td>44.0</td>\n",
       "      <td>32.0</td>\n",
       "      <td>132.0</td>\n",
       "      <td>124.0</td>\n",
       "      <td>156.0</td>\n",
       "    </tr>\n",
       "  </tbody>\n",
       "</table>\n",
       "</div>"
      ],
      "text/plain": [
       "     x  x_diff  x_deviation_median    x+1    x-1    x+2    x-2    x+3    x-3  \\\n",
       "3  820    28.0               -72.0  804.0  792.0  828.0  780.0  916.0  800.0   \n",
       "4  804   -16.0               -56.0  828.0  820.0  916.0  792.0  960.0  780.0   \n",
       "5  828    24.0               -80.0  916.0  804.0  960.0  820.0  956.0  792.0   \n",
       "6  916    88.0              -168.0  960.0  828.0  956.0  804.0  928.0  820.0   \n",
       "7  960    44.0              -212.0  956.0  916.0  928.0  828.0  836.0  804.0   \n",
       "\n",
       "   x-(x+1)  x-(x-1)  x-(x+2)  x-(x-2)  x-(x+3)  x-(x-3)  \n",
       "3     16.0     28.0     -8.0     40.0    -96.0     20.0  \n",
       "4    -24.0    -16.0   -112.0     12.0   -156.0     24.0  \n",
       "5    -88.0     24.0   -132.0      8.0   -128.0     36.0  \n",
       "6    -44.0     88.0    -40.0    112.0    -12.0     96.0  \n",
       "7      4.0     44.0     32.0    132.0    124.0    156.0  "
      ]
     },
     "metadata": {},
     "output_type": "display_data"
    },
    {
     "name": "stdout",
     "output_type": "stream",
     "text": [
      "(59113, 15) (59113,)\n"
     ]
    }
   ],
   "source": [
    "X = df.drop(['y','id','time'], axis=1)\n",
    "y = df.y.to_numpy()\n",
    "\n",
    "display(X.head())\n",
    "\n",
    "scaler = StandardScaler().fit(X.to_numpy())\n",
    "X = scaler.transform(X.to_numpy())\n",
    "\n",
    "with open('scaler.pkl', 'wb') as f:\n",
    "    pickle.dump(scaler, f)\n",
    "    \n",
    "print(X.shape, y.shape)"
   ]
  },
  {
   "cell_type": "markdown",
   "id": "organized-cancer",
   "metadata": {
    "papermill": {
     "duration": 0.020975,
     "end_time": "2021-06-16T12:34:15.117104",
     "exception": false,
     "start_time": "2021-06-16T12:34:15.096129",
     "status": "completed"
    },
    "tags": []
   },
   "source": [
    "# Cross validation"
   ]
  },
  {
   "cell_type": "code",
   "execution_count": 6,
   "id": "congressional-wedding",
   "metadata": {
    "execution": {
     "iopub.execute_input": "2021-06-16T12:34:15.170113Z",
     "iopub.status.busy": "2021-06-16T12:34:15.169437Z",
     "iopub.status.idle": "2021-06-16T12:35:55.768389Z",
     "shell.execute_reply": "2021-06-16T12:35:55.769137Z",
     "shell.execute_reply.started": "2021-06-16T11:28:04.869491Z"
    },
    "papermill": {
     "duration": 100.631093,
     "end_time": "2021-06-16T12:35:55.769436",
     "exception": false,
     "start_time": "2021-06-16T12:34:15.138343",
     "status": "completed"
    },
    "tags": []
   },
   "outputs": [
    {
     "name": "stdout",
     "output_type": "stream",
     "text": [
      "CPU times: user 5min 28s, sys: 29.4 s, total: 5min 57s\n",
      "Wall time: 1min 40s\n"
     ]
    }
   ],
   "source": [
    "%%time\n",
    "\n",
    "ctbclf = catboost.CatBoostClassifier(random_seed=RANDOM_STATE, thread_count=-1, verbose=False)\n",
    "\n",
    "lgbmclf = lightgbm.LGBMClassifier(random_state=RANDOM_STATE, n_jobs=-1)\n",
    "\n",
    "ctbclf_cv_result = cross_validate(ctbclf, X, y, \n",
    "                                  cv=StratifiedKFold(), \n",
    "                                  scoring='f1_micro')\n",
    "lgbmclf_cv_result = cross_validate(lgbmclf, X, y, \n",
    "                                  cv=StratifiedKFold(), \n",
    "                                  scoring='f1_micro')"
   ]
  },
  {
   "cell_type": "code",
   "execution_count": 7,
   "id": "touched-penetration",
   "metadata": {
    "execution": {
     "iopub.execute_input": "2021-06-16T12:35:55.817951Z",
     "iopub.status.busy": "2021-06-16T12:35:55.817305Z",
     "iopub.status.idle": "2021-06-16T12:35:55.821079Z",
     "shell.execute_reply": "2021-06-16T12:35:55.821651Z",
     "shell.execute_reply.started": "2021-06-16T11:29:24.854194Z"
    },
    "papermill": {
     "duration": 0.030987,
     "end_time": "2021-06-16T12:35:55.821867",
     "exception": false,
     "start_time": "2021-06-16T12:35:55.790880",
     "status": "completed"
    },
    "tags": []
   },
   "outputs": [
    {
     "data": {
      "text/plain": [
       "{'fit_time': array([19.32502937, 19.32384658, 19.19536757, 19.69464016, 19.37877464]),\n",
       " 'score_time': array([0.10964727, 0.11728406, 0.10881972, 0.13802886, 0.10937262]),\n",
       " 'test_score': array([0.92954411, 0.87668105, 0.8334602 , 0.91515818, 0.91913382])}"
      ]
     },
     "execution_count": 7,
     "metadata": {},
     "output_type": "execute_result"
    }
   ],
   "source": [
    "ctbclf_cv_result"
   ]
  },
  {
   "cell_type": "code",
   "execution_count": 8,
   "id": "fifty-jumping",
   "metadata": {
    "execution": {
     "iopub.execute_input": "2021-06-16T12:35:55.871446Z",
     "iopub.status.busy": "2021-06-16T12:35:55.870480Z",
     "iopub.status.idle": "2021-06-16T12:35:55.875932Z",
     "shell.execute_reply": "2021-06-16T12:35:55.875394Z",
     "shell.execute_reply.started": "2021-06-16T11:29:24.861794Z"
    },
    "papermill": {
     "duration": 0.032525,
     "end_time": "2021-06-16T12:35:55.876081",
     "exception": false,
     "start_time": "2021-06-16T12:35:55.843556",
     "status": "completed"
    },
    "tags": []
   },
   "outputs": [
    {
     "data": {
      "text/plain": [
       "{'fit_time': array([0.55582929, 0.52296495, 0.54055262, 0.50968671, 0.73108768]),\n",
       " 'score_time': array([0.03818607, 0.03611779, 0.03948426, 0.03519583, 0.03641653]),\n",
       " 'test_score': array([0.93030534, 0.88065635, 0.83329104, 0.91380477, 0.92023346])}"
      ]
     },
     "execution_count": 8,
     "metadata": {},
     "output_type": "execute_result"
    }
   ],
   "source": [
    "lgbmclf_cv_result"
   ]
  },
  {
   "cell_type": "code",
   "execution_count": 9,
   "id": "living-threat",
   "metadata": {
    "execution": {
     "iopub.execute_input": "2021-06-16T12:35:55.926473Z",
     "iopub.status.busy": "2021-06-16T12:35:55.925756Z",
     "iopub.status.idle": "2021-06-16T12:35:55.932644Z",
     "shell.execute_reply": "2021-06-16T12:35:55.931694Z",
     "shell.execute_reply.started": "2021-06-16T11:29:24.877609Z"
    },
    "papermill": {
     "duration": 0.035057,
     "end_time": "2021-06-16T12:35:55.932823",
     "exception": false,
     "start_time": "2021-06-16T12:35:55.897766",
     "status": "completed"
    },
    "tags": []
   },
   "outputs": [
    {
     "name": "stdout",
     "output_type": "stream",
     "text": [
      "catboost mean score 0.89\n",
      "lgbm mean score 0.9\n"
     ]
    }
   ],
   "source": [
    "print('catboost mean score', round(ctbclf_cv_result['test_score'].mean(), 2))\n",
    "print('lgbm mean score', round(lgbmclf_cv_result['test_score'].mean(), 2))"
   ]
  },
  {
   "cell_type": "markdown",
   "id": "olympic-consultation",
   "metadata": {
    "papermill": {
     "duration": 0.021402,
     "end_time": "2021-06-16T12:35:55.977074",
     "exception": false,
     "start_time": "2021-06-16T12:35:55.955672",
     "status": "completed"
    },
    "tags": []
   },
   "source": [
    "> классификатор lightGBM даёт лучше результат, чем от catboost на данном датасете  \n",
    "> при использовании первых 20% данных для теста, а остальное для обучения - максимальный скор"
   ]
  },
  {
   "cell_type": "markdown",
   "id": "attached-edward",
   "metadata": {
    "papermill": {
     "duration": 0.021427,
     "end_time": "2021-06-16T12:35:56.021063",
     "exception": false,
     "start_time": "2021-06-16T12:35:55.999636",
     "status": "completed"
    },
    "tags": []
   },
   "source": [
    "# LGBM"
   ]
  },
  {
   "cell_type": "code",
   "execution_count": 10,
   "id": "unable-malta",
   "metadata": {
    "execution": {
     "iopub.execute_input": "2021-06-16T12:35:56.070717Z",
     "iopub.status.busy": "2021-06-16T12:35:56.070056Z",
     "iopub.status.idle": "2021-06-16T12:35:56.075771Z",
     "shell.execute_reply": "2021-06-16T12:35:56.074816Z",
     "shell.execute_reply.started": "2021-06-16T11:49:17.261082Z"
    },
    "papermill": {
     "duration": 0.033185,
     "end_time": "2021-06-16T12:35:56.075995",
     "exception": false,
     "start_time": "2021-06-16T12:35:56.042810",
     "status": "completed"
    },
    "tags": []
   },
   "outputs": [
    {
     "name": "stdout",
     "output_type": "stream",
     "text": [
      "fold # 0 f1 = 0.93\n",
      "fold # 1 f1 = 0.88\n",
      "fold # 2 f1 = 0.83\n",
      "fold # 3 f1 = 0.91\n",
      "fold # 4 f1 = 0.92\n"
     ]
    }
   ],
   "source": [
    "for fold, f1 in enumerate(lgbmclf_cv_result['test_score']):\n",
    "    print('fold #', fold, 'f1 =', round(f1,2))"
   ]
  },
  {
   "cell_type": "code",
   "execution_count": 11,
   "id": "bibliographic-backing",
   "metadata": {
    "execution": {
     "iopub.execute_input": "2021-06-16T12:35:56.128618Z",
     "iopub.status.busy": "2021-06-16T12:35:56.127214Z",
     "iopub.status.idle": "2021-06-16T12:35:56.149418Z",
     "shell.execute_reply": "2021-06-16T12:35:56.148826Z",
     "shell.execute_reply.started": "2021-06-16T11:42:42.200393Z"
    },
    "papermill": {
     "duration": 0.051209,
     "end_time": "2021-06-16T12:35:56.149574",
     "exception": false,
     "start_time": "2021-06-16T12:35:56.098365",
     "status": "completed"
    },
    "tags": []
   },
   "outputs": [
    {
     "name": "stdout",
     "output_type": "stream",
     "text": [
      "0 TRAIN: [11208 11209 11210 ... 59110 59111 59112] TEST: [    0     1     2 ... 12235 12236 12237]\n",
      "1 TRAIN: [    0     1     2 ... 59110 59111 59112] TEST: [11208 11209 11210 ... 24730 24731 24732]\n",
      "2 TRAIN: [    0     1     2 ... 59110 59111 59112] TEST: [15862 15863 15864 ... 35671 35672 35673]\n",
      "3 TRAIN: [    0     1     2 ... 59110 59111 59112] TEST: [32643 32644 32654 ... 49387 49388 50179]\n",
      "4 TRAIN: [    0     1     2 ... 49387 49388 50179] TEST: [47235 47236 47237 ... 59110 59111 59112]\n",
      "\n",
      " folds:\n"
     ]
    },
    {
     "data": {
      "text/plain": [
       "{0: {'train_index': array([11208, 11209, 11210, ..., 59110, 59111, 59112]),\n",
       "  'test_index': array([    0,     1,     2, ..., 12235, 12236, 12237])},\n",
       " 1: {'train_index': array([    0,     1,     2, ..., 59110, 59111, 59112]),\n",
       "  'test_index': array([11208, 11209, 11210, ..., 24730, 24731, 24732])},\n",
       " 2: {'train_index': array([    0,     1,     2, ..., 59110, 59111, 59112]),\n",
       "  'test_index': array([15862, 15863, 15864, ..., 35671, 35672, 35673])},\n",
       " 3: {'train_index': array([    0,     1,     2, ..., 59110, 59111, 59112]),\n",
       "  'test_index': array([32643, 32644, 32654, ..., 49387, 49388, 50179])},\n",
       " 4: {'train_index': array([    0,     1,     2, ..., 49387, 49388, 50179]),\n",
       "  'test_index': array([47235, 47236, 47237, ..., 59110, 59111, 59112])}}"
      ]
     },
     "execution_count": 11,
     "metadata": {},
     "output_type": "execute_result"
    }
   ],
   "source": [
    "skf = StratifiedKFold()\n",
    "folds = dict()\n",
    "for i, (train_index, test_index) in enumerate(skf.split(X,y)):\n",
    "    print(i, \"TRAIN:\", train_index, \"TEST:\", test_index)\n",
    "    folds[i] = {\n",
    "        'train_index': train_index,\n",
    "        'test_index': test_index\n",
    "    }\n",
    "\n",
    "print('\\n folds:')\n",
    "folds"
   ]
  },
  {
   "cell_type": "code",
   "execution_count": 12,
   "id": "communist-exception",
   "metadata": {
    "execution": {
     "iopub.execute_input": "2021-06-16T12:35:56.201055Z",
     "iopub.status.busy": "2021-06-16T12:35:56.200080Z",
     "iopub.status.idle": "2021-06-16T12:35:56.204854Z",
     "shell.execute_reply": "2021-06-16T12:35:56.204377Z",
     "shell.execute_reply.started": "2021-06-16T11:43:43.208544Z"
    },
    "papermill": {
     "duration": 0.032959,
     "end_time": "2021-06-16T12:35:56.205007",
     "exception": false,
     "start_time": "2021-06-16T12:35:56.172048",
     "status": "completed"
    },
    "tags": []
   },
   "outputs": [
    {
     "data": {
      "text/plain": [
       "array([11208, 11209, 11210, ..., 59110, 59111, 59112])"
      ]
     },
     "execution_count": 12,
     "metadata": {},
     "output_type": "execute_result"
    }
   ],
   "source": [
    "folds[0]['train_index']"
   ]
  },
  {
   "cell_type": "code",
   "execution_count": 13,
   "id": "insured-metabolism",
   "metadata": {
    "execution": {
     "iopub.execute_input": "2021-06-16T12:35:56.268120Z",
     "iopub.status.busy": "2021-06-16T12:35:56.267495Z",
     "iopub.status.idle": "2021-06-16T12:35:56.276549Z",
     "shell.execute_reply": "2021-06-16T12:35:56.275894Z",
     "shell.execute_reply.started": "2021-06-16T11:44:23.308659Z"
    },
    "papermill": {
     "duration": 0.048955,
     "end_time": "2021-06-16T12:35:56.276693",
     "exception": false,
     "start_time": "2021-06-16T12:35:56.227738",
     "status": "completed"
    },
    "tags": []
   },
   "outputs": [
    {
     "data": {
      "text/plain": [
       "array([[-3.07239920e-01, -1.21837086e-02, -1.59141549e-02, ...,\n",
       "        -2.35476598e-02,  1.40118300e-01,  1.21527784e-02],\n",
       "       [-2.79589717e-01,  2.34229344e-02, -4.54603830e-02, ...,\n",
       "         1.14623038e-02,  1.17874239e-02,  4.91973789e-04],\n",
       "       [-1.27513601e-01,  1.30242864e-01, -2.07964638e-01, ...,\n",
       "         1.51502159e-01,  1.51784743e-01,  1.40421629e-01],\n",
       "       ...,\n",
       "       [-3.90190529e-01, -2.97036853e-01,  2.50001898e-01, ...,\n",
       "        -1.63587514e-01, -1.39876339e-01, -1.39437681e-01],\n",
       "       [-2.24289311e-01,  1.42111745e-01,  7.27245295e-02, ...,\n",
       "        -1.51917527e-01, -1.15454626e-02, -2.28296354e-02],\n",
       "       [-2.24289311e-01, -3.14827626e-04,  7.27245295e-02, ...,\n",
       "         1.39832171e-01,  1.20980660e-04, -1.51098486e-01]])"
      ]
     },
     "execution_count": 13,
     "metadata": {},
     "output_type": "execute_result"
    }
   ],
   "source": [
    "X[folds[0]['train_index'].tolist()]"
   ]
  },
  {
   "cell_type": "code",
   "execution_count": 14,
   "id": "distinguished-rouge",
   "metadata": {
    "execution": {
     "iopub.execute_input": "2021-06-16T12:35:56.342872Z",
     "iopub.status.busy": "2021-06-16T12:35:56.342246Z",
     "iopub.status.idle": "2021-06-16T12:35:56.370364Z",
     "shell.execute_reply": "2021-06-16T12:35:56.369617Z",
     "shell.execute_reply.started": "2021-06-16T11:46:57.018066Z"
    },
    "papermill": {
     "duration": 0.070411,
     "end_time": "2021-06-16T12:35:56.370518",
     "exception": false,
     "start_time": "2021-06-16T12:35:56.300107",
     "status": "completed"
    },
    "tags": []
   },
   "outputs": [
    {
     "name": "stdout",
     "output_type": "stream",
     "text": [
      "train: (47290, 15) (47290,)\n",
      "test: (11823, 15) (11823,)\n"
     ]
    }
   ],
   "source": [
    "X_train = X[folds[0]['train_index'].tolist()]\n",
    "X_test = X[folds[0]['test_index'].tolist()]\n",
    "y_train = y[folds[0]['train_index'].tolist()]\n",
    "y_test = y[folds[0]['test_index'].tolist()]\n",
    "\n",
    "print('train:', X_train.shape, y_train.shape)\n",
    "print('test:', X_test.shape, y_test.shape)"
   ]
  },
  {
   "cell_type": "code",
   "execution_count": 15,
   "id": "combined-hardwood",
   "metadata": {
    "execution": {
     "iopub.execute_input": "2021-06-16T12:35:56.424586Z",
     "iopub.status.busy": "2021-06-16T12:35:56.423486Z",
     "iopub.status.idle": "2021-06-16T12:35:58.348202Z",
     "shell.execute_reply": "2021-06-16T12:35:58.347624Z",
     "shell.execute_reply.started": "2021-06-16T12:27:51.547263Z"
    },
    "papermill": {
     "duration": 1.954413,
     "end_time": "2021-06-16T12:35:58.348370",
     "exception": false,
     "start_time": "2021-06-16T12:35:56.393957",
     "status": "completed"
    },
    "tags": []
   },
   "outputs": [
    {
     "data": {
      "image/png": "[encoded data removed]",
      "text/plain": [
       "<Figure size 432x288 with 1 Axes>"
      ]
     },
     "metadata": {
      "needs_background": "light"
     },
     "output_type": "display_data"
    }
   ],
   "source": [
    "lgbmclf = lightgbm.LGBMClassifier(random_state=RANDOM_STATE, n_jobs=-1, \n",
    "                                  n_estimators=500)\n",
    "lgbmclf.fit(X_train, y_train, \n",
    "            eval_set=(X_test,y_test), eval_metric='f1_micro', verbose=False, early_stopping_rounds=100)\n",
    "lightgbm.plot_metric(lgbmclf);"
   ]
  },
  {
   "cell_type": "code",
   "execution_count": 16,
   "id": "fuzzy-blame",
   "metadata": {
    "execution": {
     "iopub.execute_input": "2021-06-16T12:35:58.403740Z",
     "iopub.status.busy": "2021-06-16T12:35:58.402977Z",
     "iopub.status.idle": "2021-06-16T12:35:58.407027Z",
     "shell.execute_reply": "2021-06-16T12:35:58.406404Z",
     "shell.execute_reply.started": "2021-06-16T12:27:59.107037Z"
    },
    "papermill": {
     "duration": 0.033888,
     "end_time": "2021-06-16T12:35:58.407194",
     "exception": false,
     "start_time": "2021-06-16T12:35:58.373306",
     "status": "completed"
    },
    "tags": []
   },
   "outputs": [
    {
     "name": "stdout",
     "output_type": "stream",
     "text": [
      "268\n"
     ]
    }
   ],
   "source": [
    "print(lgbmclf.best_iteration_)"
   ]
  },
  {
   "cell_type": "code",
   "execution_count": 17,
   "id": "matched-declaration",
   "metadata": {
    "execution": {
     "iopub.execute_input": "2021-06-16T12:35:58.462413Z",
     "iopub.status.busy": "2021-06-16T12:35:58.461714Z",
     "iopub.status.idle": "2021-06-16T12:35:59.597359Z",
     "shell.execute_reply": "2021-06-16T12:35:59.598062Z",
     "shell.execute_reply.started": "2021-06-16T12:29:46.769750Z"
    },
    "papermill": {
     "duration": 1.166219,
     "end_time": "2021-06-16T12:35:59.598327",
     "exception": false,
     "start_time": "2021-06-16T12:35:58.432108",
     "status": "completed"
    },
    "tags": []
   },
   "outputs": [
    {
     "data": {
      "text/plain": [
       "LGBMClassifier(n_estimators=268, random_state=0)"
      ]
     },
     "execution_count": 17,
     "metadata": {},
     "output_type": "execute_result"
    }
   ],
   "source": [
    "lgbmclf = lightgbm.LGBMClassifier(random_state=RANDOM_STATE, n_jobs=-1, n_estimators=268)\n",
    "lgbmclf.fit(X_train, y_train, verbose=False)"
   ]
  },
  {
   "cell_type": "code",
   "execution_count": 18,
   "id": "hawaiian-consistency",
   "metadata": {
    "execution": {
     "iopub.execute_input": "2021-06-16T12:35:59.656639Z",
     "iopub.status.busy": "2021-06-16T12:35:59.655905Z",
     "iopub.status.idle": "2021-06-16T12:35:59.735617Z",
     "shell.execute_reply": "2021-06-16T12:35:59.736137Z",
     "shell.execute_reply.started": "2021-06-16T12:31:34.237002Z"
    },
    "papermill": {
     "duration": 0.110805,
     "end_time": "2021-06-16T12:35:59.736384",
     "exception": false,
     "start_time": "2021-06-16T12:35:59.625579",
     "status": "completed"
    },
    "tags": []
   },
   "outputs": [
    {
     "data": {
      "text/plain": [
       "0.9299670134483634"
      ]
     },
     "execution_count": 18,
     "metadata": {},
     "output_type": "execute_result"
    }
   ],
   "source": [
    "y_pred = lgbmclf.predict(X_test)\n",
    "f1_score(y_test, y_pred, average='micro')"
   ]
  }
 ],
 "metadata": {
  "kernelspec": {
   "display_name": "Python 3",
   "language": "python",
   "name": "python3"
  },
  "language_info": {
   "codemirror_mode": {
    "name": "ipython",
    "version": 3
   },
   "file_extension": ".py",
   "mimetype": "text/x-python",
   "name": "python",
   "nbconvert_exporter": "python",
   "pygments_lexer": "ipython3",
   "version": "3.7.9"
  },
  "papermill": {
   "default_parameters": {},
   "duration": 114.288841,
   "end_time": "2021-06-16T12:36:00.474748",
   "environment_variables": {},
   "exception": null,
   "input_path": "__notebook__.ipynb",
   "output_path": "__notebook__.ipynb",
   "parameters": {},
   "start_time": "2021-06-16T12:34:06.185907",
   "version": "2.3.2"
  }
 },
 "nbformat": 4,
 "nbformat_minor": 5
}
