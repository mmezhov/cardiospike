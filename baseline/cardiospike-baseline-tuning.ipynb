{
 "cells": [
  {
   "cell_type": "markdown",
   "id": "athletic-choir",
   "metadata": {
    "papermill": {
     "duration": 0.020077,
     "end_time": "2021-06-17T15:15:41.859058",
     "exception": false,
     "start_time": "2021-06-17T15:15:41.838981",
     "status": "completed"
    },
    "tags": []
   },
   "source": [
    "# Связанные тетрадки\n",
    "- [EDA](https://www.kaggle.com/maximmezhov/cardiospike-eda)  \n",
    "- [Подготовка датасета](https://www.kaggle.com/maximmezhov/cardiospike-feature-development)  \n",
    "- [baseline](https://www.kaggle.com/maximmezhov/cardiospike-baseline)"
   ]
  },
  {
   "cell_type": "code",
   "execution_count": 1,
   "id": "engaging-gibson",
   "metadata": {
    "execution": {
     "iopub.execute_input": "2021-06-17T15:15:41.905638Z",
     "iopub.status.busy": "2021-06-17T15:15:41.905020Z",
     "iopub.status.idle": "2021-06-17T15:15:44.009790Z",
     "shell.execute_reply": "2021-06-17T15:15:44.007874Z",
     "shell.execute_reply.started": "2021-06-17T13:38:53.674563Z"
    },
    "papermill": {
     "duration": 2.132017,
     "end_time": "2021-06-17T15:15:44.010067",
     "exception": false,
     "start_time": "2021-06-17T15:15:41.878050",
     "status": "completed"
    },
    "tags": []
   },
   "outputs": [
    {
     "data": {
      "text/html": [
       "<style type='text/css'>\n",
       ".datatable table.frame { margin-bottom: 0; }\n",
       ".datatable table.frame thead { border-bottom: none; }\n",
       ".datatable table.frame tr.coltypes td {  color: #FFFFFF;  line-height: 6px;  padding: 0 0.5em;}\n",
       ".datatable .bool    { background: #DDDD99; }\n",
       ".datatable .object  { background: #565656; }\n",
       ".datatable .int     { background: #5D9E5D; }\n",
       ".datatable .float   { background: #4040CC; }\n",
       ".datatable .str     { background: #CC4040; }\n",
       ".datatable .row_index {  background: var(--jp-border-color3);  border-right: 1px solid var(--jp-border-color0);  color: var(--jp-ui-font-color3);  font-size: 9px;}\n",
       ".datatable .frame tr.coltypes .row_index {  background: var(--jp-border-color0);}\n",
       ".datatable th:nth-child(2) { padding-left: 12px; }\n",
       ".datatable .hellipsis {  color: var(--jp-cell-editor-border-color);}\n",
       ".datatable .vellipsis {  background: var(--jp-layout-color0);  color: var(--jp-cell-editor-border-color);}\n",
       ".datatable .na {  color: var(--jp-cell-editor-border-color);  font-size: 80%;}\n",
       ".datatable .footer { font-size: 9px; }\n",
       ".datatable .frame_dimensions {  background: var(--jp-border-color3);  border-top: 1px solid var(--jp-border-color0);  color: var(--jp-ui-font-color3);  display: inline-block;  opacity: 0.6;  padding: 1px 10px 1px 5px;}\n",
       "</style>\n"
      ],
      "text/plain": [
       "<IPython.core.display.HTML object>"
      ]
     },
     "metadata": {},
     "output_type": "display_data"
    }
   ],
   "source": [
    "import pandas as pd\n",
    "import lightgbm\n",
    "import pickle\n",
    "import matplotlib.pyplot as plt\n",
    "import numpy as np\n",
    "\n",
    "from sklearn.preprocessing import StandardScaler\n",
    "from sklearn.model_selection import StratifiedKFold, GridSearchCV, StratifiedKFold\n",
    "from sklearn.metrics import f1_score"
   ]
  },
  {
   "cell_type": "code",
   "execution_count": 2,
   "id": "eleven-percentage",
   "metadata": {
    "execution": {
     "iopub.execute_input": "2021-06-17T15:15:44.069614Z",
     "iopub.status.busy": "2021-06-17T15:15:44.068994Z",
     "iopub.status.idle": "2021-06-17T15:15:44.075258Z",
     "shell.execute_reply": "2021-06-17T15:15:44.074307Z",
     "shell.execute_reply.started": "2021-06-17T13:38:56.274816Z"
    },
    "papermill": {
     "duration": 0.036048,
     "end_time": "2021-06-17T15:15:44.075501",
     "exception": false,
     "start_time": "2021-06-17T15:15:44.039453",
     "status": "completed"
    },
    "tags": []
   },
   "outputs": [],
   "source": [
    "# Const\n",
    "RANDOM_STATE = 0"
   ]
  },
  {
   "cell_type": "code",
   "execution_count": 3,
   "id": "forward-robinson",
   "metadata": {
    "execution": {
     "iopub.execute_input": "2021-06-17T15:15:44.128660Z",
     "iopub.status.busy": "2021-06-17T15:15:44.128001Z",
     "iopub.status.idle": "2021-06-17T15:15:44.129961Z",
     "shell.execute_reply": "2021-06-17T15:15:44.130479Z",
     "shell.execute_reply.started": "2021-06-17T13:39:33.375704Z"
    },
    "papermill": {
     "duration": 0.031583,
     "end_time": "2021-06-17T15:15:44.130684",
     "exception": false,
     "start_time": "2021-06-17T15:15:44.099101",
     "status": "completed"
    },
    "tags": []
   },
   "outputs": [],
   "source": [
    "def make_XY(df):\n",
    "    \"\"\"\n",
    "    df: dataset\n",
    "    return:\n",
    "    X: numpy array with features, values are scaled\n",
    "    y: numpy array of target labels\n",
    "    \"\"\"\n",
    "    X = df.drop(['y','id','time'], axis=1)\n",
    "    y = df.y.to_numpy()\n",
    "\n",
    "    scaler = StandardScaler().fit(X.to_numpy())\n",
    "    X = scaler.transform(X.to_numpy())\n",
    "\n",
    "    with open('scaler.pkl', 'wb') as f:\n",
    "        pickle.dump(scaler, f)\n",
    "        \n",
    "    print('scaler.pkl was saved in output directory')\n",
    "\n",
    "    return X, y\n",
    "\n",
    "\n",
    "def make_XY_v2(df):\n",
    "    \"\"\"\n",
    "    Feature 'x-(x-1)' excluded.\n",
    "    df: dataset\n",
    "    return:\n",
    "    X: numpy array with features, values are scaled\n",
    "    y: numpy array of target labels\n",
    "    \"\"\"\n",
    "    X = df.drop(['y','id','time', 'x-(x-1)'], axis=1)\n",
    "    y = df.y.to_numpy()\n",
    "\n",
    "    scaler = StandardScaler().fit(X.to_numpy())\n",
    "    X = scaler.transform(X.to_numpy())\n",
    "\n",
    "    with open('scaler_v2.pkl', 'wb') as f:\n",
    "        pickle.dump(scaler, f)\n",
    "        \n",
    "    print('scaler_v2.pkl was saved in output directory')\n",
    "\n",
    "    return X, y\n",
    "\n",
    "\n",
    "def get_train_test_indexes(X,y):\n",
    "    \"\"\"\n",
    "    X,y: numpy arrays with features and target\n",
    "    return stratified indexes:\n",
    "        train_indexes: indexes for train data\n",
    "        test_indexes: indexes for test data\n",
    "    \"\"\"\n",
    "    skf = StratifiedKFold()\n",
    "    folds = dict()\n",
    "    for i, (train_indexes, test_indexes) in enumerate(skf.split(X,y)):\n",
    "        folds[i] = {\n",
    "            'train_indexes': train_indexes,\n",
    "            'test_indexes': test_indexes\n",
    "        }\n",
    "    return folds[0]['train_indexes'].tolist(), folds[0]['test_indexes'].tolist()"
   ]
  },
  {
   "cell_type": "markdown",
   "id": "studied-moldova",
   "metadata": {
    "papermill": {
     "duration": 0.019393,
     "end_time": "2021-06-17T15:15:44.170210",
     "exception": false,
     "start_time": "2021-06-17T15:15:44.150817",
     "status": "completed"
    },
    "tags": []
   },
   "source": [
    "# Pipeline"
   ]
  },
  {
   "cell_type": "code",
   "execution_count": 4,
   "id": "center-conditioning",
   "metadata": {
    "execution": {
     "iopub.execute_input": "2021-06-17T15:15:44.213110Z",
     "iopub.status.busy": "2021-06-17T15:15:44.212500Z",
     "iopub.status.idle": "2021-06-17T15:15:44.421916Z",
     "shell.execute_reply": "2021-06-17T15:15:44.422361Z"
    },
    "papermill": {
     "duration": 0.232274,
     "end_time": "2021-06-17T15:15:44.422530",
     "exception": false,
     "start_time": "2021-06-17T15:15:44.190256",
     "status": "completed"
    },
    "tags": []
   },
   "outputs": [
    {
     "name": "stdout",
     "output_type": "stream",
     "text": [
      "scaler.pkl was saved in output directory\n",
      "train (47290, 15) (47290,)\n",
      "test (11823, 15) (11823,)\n"
     ]
    }
   ],
   "source": [
    "# load data\n",
    "with open('../input/cardiospike-feature-development/dataset_v1.pkl', 'rb') as f:\n",
    "    df = pickle.load(f)\n",
    "    \n",
    "# make X and y\n",
    "X, y = make_XY(df)\n",
    "\n",
    "# make train and test datasets\n",
    "train_indexes, test_indexes = get_train_test_indexes(X,y)\n",
    "X_train = X[train_indexes]\n",
    "X_test = X[test_indexes]\n",
    "y_train = y[train_indexes]\n",
    "y_test = y[test_indexes]\n",
    "\n",
    "print('train', X_train.shape, y_train.shape)\n",
    "print('test', X_test.shape, y_test.shape)"
   ]
  },
  {
   "cell_type": "code",
   "execution_count": 5,
   "id": "hearing-criticism",
   "metadata": {
    "execution": {
     "iopub.execute_input": "2021-06-17T15:15:44.467911Z",
     "iopub.status.busy": "2021-06-17T15:15:44.467263Z",
     "iopub.status.idle": "2021-06-17T15:16:13.100843Z",
     "shell.execute_reply": "2021-06-17T15:16:13.100343Z"
    },
    "papermill": {
     "duration": 28.658645,
     "end_time": "2021-06-17T15:16:13.100988",
     "exception": false,
     "start_time": "2021-06-17T15:15:44.442343",
     "status": "completed"
    },
    "tags": []
   },
   "outputs": [
    {
     "data": {
      "text/plain": [
       "GridSearchCV(cv=StratifiedKFold(n_splits=5, random_state=None, shuffle=False),\n",
       "             estimator=LGBMClassifier(n_estimators=400, random_state=0),\n",
       "             param_grid={'learning_rate': [0.001, 0.01, 0.1]},\n",
       "             scoring='f1_micro', verbose=False)"
      ]
     },
     "execution_count": 5,
     "metadata": {},
     "output_type": "execute_result"
    }
   ],
   "source": [
    "model = lightgbm.LGBMClassifier(n_estimators=400, random_state=RANDOM_STATE, n_jobs=-1)\n",
    "\n",
    "# first params search\n",
    "param_grid = {\n",
    "    'learning_rate': [0.001, 0.01, 0.1]\n",
    "}\n",
    "gscv = GridSearchCV(model, param_grid, scoring='f1_micro', cv=StratifiedKFold(), verbose=False)\n",
    "gscv.fit(X, y)"
   ]
  },
  {
   "cell_type": "code",
   "execution_count": 6,
   "id": "premier-october",
   "metadata": {
    "execution": {
     "iopub.execute_input": "2021-06-17T15:16:13.146272Z",
     "iopub.status.busy": "2021-06-17T15:16:13.145685Z",
     "iopub.status.idle": "2021-06-17T15:16:13.147899Z",
     "shell.execute_reply": "2021-06-17T15:16:13.148340Z"
    },
    "papermill": {
     "duration": 0.027065,
     "end_time": "2021-06-17T15:16:13.148498",
     "exception": false,
     "start_time": "2021-06-17T15:16:13.121433",
     "status": "completed"
    },
    "tags": []
   },
   "outputs": [
    {
     "name": "stdout",
     "output_type": "stream",
     "text": [
      "{'learning_rate': 0.01}\n",
      "0.8968084210239532\n"
     ]
    }
   ],
   "source": [
    "# estimate result\n",
    "print(gscv.best_params_)\n",
    "print(gscv.best_score_)"
   ]
  },
  {
   "cell_type": "code",
   "execution_count": 7,
   "id": "enormous-characteristic",
   "metadata": {
    "execution": {
     "iopub.execute_input": "2021-06-17T15:16:13.192342Z",
     "iopub.status.busy": "2021-06-17T15:16:13.191775Z",
     "iopub.status.idle": "2021-06-17T15:16:13.196114Z",
     "shell.execute_reply": "2021-06-17T15:16:13.196549Z"
    },
    "papermill": {
     "duration": 0.027544,
     "end_time": "2021-06-17T15:16:13.196701",
     "exception": false,
     "start_time": "2021-06-17T15:16:13.169157",
     "status": "completed"
    },
    "tags": []
   },
   "outputs": [
    {
     "data": {
      "text/plain": [
       "LGBMClassifier(learning_rate=0.01, n_estimators=400, random_state=0)"
      ]
     },
     "execution_count": 7,
     "metadata": {},
     "output_type": "execute_result"
    }
   ],
   "source": [
    "gscv.best_estimator_"
   ]
  },
  {
   "cell_type": "code",
   "execution_count": 8,
   "id": "adjacent-aerospace",
   "metadata": {
    "execution": {
     "iopub.execute_input": "2021-06-17T15:16:13.240823Z",
     "iopub.status.busy": "2021-06-17T15:16:13.240235Z",
     "iopub.status.idle": "2021-06-17T15:16:13.247027Z",
     "shell.execute_reply": "2021-06-17T15:16:13.247481Z"
    },
    "papermill": {
     "duration": 0.03021,
     "end_time": "2021-06-17T15:16:13.247640",
     "exception": false,
     "start_time": "2021-06-17T15:16:13.217430",
     "status": "completed"
    },
    "tags": []
   },
   "outputs": [
    {
     "data": {
      "text/plain": [
       "{'mean_fit_time': array([1.70466771, 1.81367054, 1.43129458]),\n",
       " 'std_fit_time': array([0.02804763, 0.23246451, 0.04296861]),\n",
       " 'mean_score_time': array([0.09054651, 0.16926827, 0.10398812]),\n",
       " 'std_score_time': array([0.00987924, 0.02406173, 0.00221005]),\n",
       " 'param_learning_rate': masked_array(data=[0.001, 0.01, 0.1],\n",
       "              mask=[False, False, False],\n",
       "        fill_value='?',\n",
       "             dtype=object),\n",
       " 'params': [{'learning_rate': 0.001},\n",
       "  {'learning_rate': 0.01},\n",
       "  {'learning_rate': 0.1}],\n",
       " 'split0_test_score': array([0.84868477, 0.92819081, 0.93022076]),\n",
       " 'split1_test_score': array([0.84868477, 0.89199019, 0.87659646]),\n",
       " 'split2_test_score': array([0.84860019, 0.83405227, 0.83286814]),\n",
       " 'split3_test_score': array([0.84867197, 0.91245136, 0.91363559]),\n",
       " 'split4_test_score': array([0.84867197, 0.91735747, 0.91981052]),\n",
       " 'mean_test_score': array([0.84866273, 0.89680842, 0.8946263 ]),\n",
       " 'std_test_score': array([3.17920198e-05, 3.35063258e-02, 3.57818646e-02]),\n",
       " 'rank_test_score': array([3, 1, 2], dtype=int32)}"
      ]
     },
     "execution_count": 8,
     "metadata": {},
     "output_type": "execute_result"
    }
   ],
   "source": [
    "gscv.cv_results_"
   ]
  },
  {
   "cell_type": "code",
   "execution_count": 9,
   "id": "rolled-bouquet",
   "metadata": {
    "execution": {
     "iopub.execute_input": "2021-06-17T15:16:13.292801Z",
     "iopub.status.busy": "2021-06-17T15:16:13.292231Z",
     "iopub.status.idle": "2021-06-17T15:16:54.655191Z",
     "shell.execute_reply": "2021-06-17T15:16:54.654496Z"
    },
    "papermill": {
     "duration": 41.386573,
     "end_time": "2021-06-17T15:16:54.655391",
     "exception": false,
     "start_time": "2021-06-17T15:16:13.268818",
     "status": "completed"
    },
    "tags": []
   },
   "outputs": [
    {
     "name": "stdout",
     "output_type": "stream",
     "text": [
      "defaultdict(<class 'collections.OrderedDict'>, {'valid_0': OrderedDict([('binary_logloss', 0.21137944013417437)])})\n"
     ]
    },
    {
     "data": {
      "image/png": "[encoded data removed]",
      "text/plain": [
       "<Figure size 432x288 with 1 Axes>"
      ]
     },
     "metadata": {
      "needs_background": "light"
     },
     "output_type": "display_data"
    }
   ],
   "source": [
    "model = lightgbm.LGBMClassifier(n_estimators=10000, random_state=RANDOM_STATE, n_jobs=-1, learning_rate=0.01)\n",
    "model.fit(X_train, y_train, eval_set=(X_test, y_test), eval_metric='f1_micro', verbose=False)\n",
    "lightgbm.plot_metric(model);\n",
    "print(model.best_score_)"
   ]
  },
  {
   "cell_type": "code",
   "execution_count": 10,
   "id": "variable-visibility",
   "metadata": {
    "execution": {
     "iopub.execute_input": "2021-06-17T15:16:54.705061Z",
     "iopub.status.busy": "2021-06-17T15:16:54.704506Z",
     "iopub.status.idle": "2021-06-17T15:17:16.541009Z",
     "shell.execute_reply": "2021-06-17T15:17:16.541489Z"
    },
    "papermill": {
     "duration": 21.862699,
     "end_time": "2021-06-17T15:17:16.541644",
     "exception": false,
     "start_time": "2021-06-17T15:16:54.678945",
     "status": "completed"
    },
    "tags": []
   },
   "outputs": [
    {
     "name": "stdout",
     "output_type": "stream",
     "text": [
      "defaultdict(<class 'collections.OrderedDict'>, {'valid_0': OrderedDict([('binary_logloss', 0.2046890843231054)])})\n"
     ]
    },
    {
     "data": {
      "image/png": "[encoded data removed]",
      "text/plain": [
       "<Figure size 432x288 with 1 Axes>"
      ]
     },
     "metadata": {
      "needs_background": "light"
     },
     "output_type": "display_data"
    }
   ],
   "source": [
    "model = lightgbm.LGBMClassifier(n_estimators=5000, random_state=RANDOM_STATE, n_jobs=-1, learning_rate=0.01)\n",
    "model.fit(X_train, y_train, eval_set=(X_test, y_test), eval_metric='f1_micro', verbose=False)\n",
    "lightgbm.plot_metric(model);\n",
    "print(model.best_score_)"
   ]
  },
  {
   "cell_type": "code",
   "execution_count": 11,
   "id": "hispanic-facing",
   "metadata": {
    "execution": {
     "iopub.execute_input": "2021-06-17T15:17:16.591378Z",
     "iopub.status.busy": "2021-06-17T15:17:16.590507Z",
     "iopub.status.idle": "2021-06-17T15:17:29.694974Z",
     "shell.execute_reply": "2021-06-17T15:17:29.695379Z"
    },
    "papermill": {
     "duration": 13.130737,
     "end_time": "2021-06-17T15:17:29.695554",
     "exception": false,
     "start_time": "2021-06-17T15:17:16.564817",
     "status": "completed"
    },
    "tags": []
   },
   "outputs": [
    {
     "name": "stdout",
     "output_type": "stream",
     "text": [
      "defaultdict(<class 'collections.OrderedDict'>, {'valid_0': OrderedDict([('binary_logloss', 0.2051069153295308)])})\n",
      "2937\n"
     ]
    },
    {
     "data": {
      "image/png": "[encoded data removed]",
      "text/plain": [
       "<Figure size 432x288 with 1 Axes>"
      ]
     },
     "metadata": {
      "needs_background": "light"
     },
     "output_type": "display_data"
    }
   ],
   "source": [
    "model = lightgbm.LGBMClassifier(n_estimators=6000, \n",
    "                                random_state=RANDOM_STATE, n_jobs=-1, \n",
    "                                learning_rate=0.01)\n",
    "model.fit(X_train, y_train, \n",
    "          eval_set=(X_test, y_test), eval_metric='f1_micro', \n",
    "          verbose=False, early_stopping_rounds=200)\n",
    "lightgbm.plot_metric(model);\n",
    "print(model.best_score_)\n",
    "print(model.best_iteration_)"
   ]
  },
  {
   "cell_type": "code",
   "execution_count": 12,
   "id": "curious-hobby",
   "metadata": {
    "execution": {
     "iopub.execute_input": "2021-06-17T15:17:29.759727Z",
     "iopub.status.busy": "2021-06-17T15:17:29.758687Z",
     "iopub.status.idle": "2021-06-17T15:17:30.861732Z",
     "shell.execute_reply": "2021-06-17T15:17:30.861145Z"
    },
    "papermill": {
     "duration": 1.141966,
     "end_time": "2021-06-17T15:17:30.861897",
     "exception": false,
     "start_time": "2021-06-17T15:17:29.719931",
     "status": "completed"
    },
    "tags": []
   },
   "outputs": [
    {
     "name": "stdout",
     "output_type": "stream",
     "text": [
      "baseline score = 0.9299670134483634\n",
      "current score = 0.9314894696777468\n"
     ]
    }
   ],
   "source": [
    "y_pred = model.predict(X_test)\n",
    "print('baseline score =', 0.9299670134483634)\n",
    "print('current score =', f1_score(y_test, y_pred, average='micro'))"
   ]
  },
  {
   "cell_type": "code",
   "execution_count": 13,
   "id": "smoking-royal",
   "metadata": {
    "execution": {
     "iopub.execute_input": "2021-06-17T15:17:30.916489Z",
     "iopub.status.busy": "2021-06-17T15:17:30.915912Z",
     "iopub.status.idle": "2021-06-17T15:17:30.919307Z",
     "shell.execute_reply": "2021-06-17T15:17:30.919693Z"
    },
    "papermill": {
     "duration": 0.0331,
     "end_time": "2021-06-17T15:17:30.919851",
     "exception": false,
     "start_time": "2021-06-17T15:17:30.886751",
     "status": "completed"
    },
    "tags": []
   },
   "outputs": [
    {
     "data": {
      "text/plain": [
       "<bound method LGBMModel.get_params of LGBMClassifier(learning_rate=0.01, n_estimators=6000, random_state=0)>"
      ]
     },
     "execution_count": 13,
     "metadata": {},
     "output_type": "execute_result"
    }
   ],
   "source": [
    "model.get_params"
   ]
  },
  {
   "cell_type": "code",
   "execution_count": 14,
   "id": "radical-render",
   "metadata": {
    "execution": {
     "iopub.execute_input": "2021-06-17T15:17:30.974314Z",
     "iopub.status.busy": "2021-06-17T15:17:30.973726Z",
     "iopub.status.idle": "2021-06-17T15:17:30.976019Z",
     "shell.execute_reply": "2021-06-17T15:17:30.976459Z"
    },
    "papermill": {
     "duration": 0.031719,
     "end_time": "2021-06-17T15:17:30.976615",
     "exception": false,
     "start_time": "2021-06-17T15:17:30.944896",
     "status": "completed"
    },
    "tags": []
   },
   "outputs": [
    {
     "name": "stdout",
     "output_type": "stream",
     "text": [
      "2937\n"
     ]
    }
   ],
   "source": [
    "print(model.best_iteration_)"
   ]
  },
  {
   "cell_type": "code",
   "execution_count": 15,
   "id": "prescription-rebate",
   "metadata": {
    "execution": {
     "iopub.execute_input": "2021-06-17T15:17:31.030197Z",
     "iopub.status.busy": "2021-06-17T15:17:31.029603Z",
     "iopub.status.idle": "2021-06-17T15:17:31.363760Z",
     "shell.execute_reply": "2021-06-17T15:17:31.363217Z"
    },
    "papermill": {
     "duration": 0.361971,
     "end_time": "2021-06-17T15:17:31.363922",
     "exception": false,
     "start_time": "2021-06-17T15:17:31.001951",
     "status": "completed"
    },
    "tags": []
   },
   "outputs": [],
   "source": [
    "# save model\n",
    "with open('model.pkl', 'wb') as f:\n",
    "    pickle.dump(model, f)"
   ]
  },
  {
   "cell_type": "code",
   "execution_count": 16,
   "id": "amber-clarity",
   "metadata": {
    "execution": {
     "iopub.execute_input": "2021-06-17T15:17:31.421621Z",
     "iopub.status.busy": "2021-06-17T15:17:31.421023Z",
     "iopub.status.idle": "2021-06-17T15:17:43.824671Z",
     "shell.execute_reply": "2021-06-17T15:17:43.825322Z"
    },
    "papermill": {
     "duration": 12.434961,
     "end_time": "2021-06-17T15:17:43.825571",
     "exception": false,
     "start_time": "2021-06-17T15:17:31.390610",
     "status": "completed"
    },
    "tags": []
   },
   "outputs": [
    {
     "name": "stdout",
     "output_type": "stream",
     "text": [
      "model score = 0.9314894696777468\n",
      "model with n_estimators=2937 score = 0.9314894696777468\n"
     ]
    }
   ],
   "source": [
    "model_v2 = lightgbm.LGBMClassifier(n_estimators=2937, \n",
    "                                random_state=RANDOM_STATE, n_jobs=-1, \n",
    "                                learning_rate=0.01)\n",
    "model_v2.fit(X_train, y_train, verbose=False)\n",
    "\n",
    "y_pred = model_v2.predict(X_test)\n",
    "print('model score =', 0.9314894696777468)\n",
    "print('model with n_estimators=2937 score =', f1_score(y_test, y_pred, average='micro'))"
   ]
  },
  {
   "cell_type": "code",
   "execution_count": 17,
   "id": "phantom-belgium",
   "metadata": {
    "execution": {
     "iopub.execute_input": "2021-06-17T15:17:43.883878Z",
     "iopub.status.busy": "2021-06-17T15:17:43.882954Z",
     "iopub.status.idle": "2021-06-17T15:17:44.064748Z",
     "shell.execute_reply": "2021-06-17T15:17:44.064231Z"
    },
    "papermill": {
     "duration": 0.212715,
     "end_time": "2021-06-17T15:17:44.064884",
     "exception": false,
     "start_time": "2021-06-17T15:17:43.852169",
     "status": "completed"
    },
    "tags": []
   },
   "outputs": [
    {
     "data": {
      "image/png": "[encoded data removed]",
      "text/plain": [
       "<Figure size 1080x504 with 1 Axes>"
      ]
     },
     "metadata": {
      "needs_background": "light"
     },
     "output_type": "display_data"
    }
   ],
   "source": [
    "importance = model.feature_importances_\n",
    "features = df.drop(['y','id','time'],axis=1).columns\n",
    "\n",
    "sorted_indexes = np.argsort(importance)\n",
    "fig = plt.figure(figsize=(15,7))\n",
    "plt.barh(y=features[sorted_indexes], width=importance[sorted_indexes]);"
   ]
  },
  {
   "cell_type": "markdown",
   "id": "significant-classic",
   "metadata": {
    "papermill": {
     "duration": 0.026483,
     "end_time": "2021-06-17T15:17:44.118053",
     "exception": false,
     "start_time": "2021-06-17T15:17:44.091570",
     "status": "completed"
    },
    "tags": []
   },
   "source": [
    "# model v2\n",
    "'x-(x-1)' excluded from fearutes"
   ]
  },
  {
   "cell_type": "code",
   "execution_count": 18,
   "id": "dangerous-bennett",
   "metadata": {
    "execution": {
     "iopub.execute_input": "2021-06-17T15:17:44.176272Z",
     "iopub.status.busy": "2021-06-17T15:17:44.175694Z",
     "iopub.status.idle": "2021-06-17T15:17:44.226981Z",
     "shell.execute_reply": "2021-06-17T15:17:44.227410Z",
     "shell.execute_reply.started": "2021-06-17T13:40:59.545187Z"
    },
    "papermill": {
     "duration": 0.083144,
     "end_time": "2021-06-17T15:17:44.227579",
     "exception": false,
     "start_time": "2021-06-17T15:17:44.144435",
     "status": "completed"
    },
    "tags": []
   },
   "outputs": [
    {
     "name": "stdout",
     "output_type": "stream",
     "text": [
      "scaler_v2.pkl was saved in output directory\n",
      "train (47290, 14) (47290,)\n",
      "test (11823, 14) (11823,)\n"
     ]
    }
   ],
   "source": [
    "# load data\n",
    "with open('../input/cardiospike-feature-development/dataset_v1.pkl', 'rb') as f:\n",
    "    df = pickle.load(f)\n",
    "    \n",
    "# make X and y\n",
    "X,y = make_XY_v2(df)\n",
    "\n",
    "# make train and test datasets\n",
    "train_indexes, test_indexes = get_train_test_indexes(X,y)\n",
    "X_train = X[train_indexes]\n",
    "X_test = X[test_indexes]\n",
    "y_train = y[train_indexes]\n",
    "y_test = y[test_indexes]\n",
    "\n",
    "print('train', X_train.shape, y_train.shape)\n",
    "print('test', X_test.shape, y_test.shape)"
   ]
  },
  {
   "cell_type": "code",
   "execution_count": 19,
   "id": "alien-healing",
   "metadata": {
    "execution": {
     "iopub.execute_input": "2021-06-17T15:17:44.286094Z",
     "iopub.status.busy": "2021-06-17T15:17:44.285546Z",
     "iopub.status.idle": "2021-06-17T15:17:56.050121Z",
     "shell.execute_reply": "2021-06-17T15:17:56.050871Z",
     "shell.execute_reply.started": "2021-06-17T13:43:59.709368Z"
    },
    "papermill": {
     "duration": 11.796717,
     "end_time": "2021-06-17T15:17:56.051116",
     "exception": false,
     "start_time": "2021-06-17T15:17:44.254399",
     "status": "completed"
    },
    "tags": []
   },
   "outputs": [
    {
     "name": "stdout",
     "output_type": "stream",
     "text": [
      "model score = 0.9314894696777468\n",
      "model_v2 without x-(x-1) score = 0.9314894696777468\n"
     ]
    }
   ],
   "source": [
    "model_v2 = lightgbm.LGBMClassifier(n_estimators=2937,\n",
    "                                   random_state=RANDOM_STATE, n_jobs=-1,\n",
    "                                   learning_rate=0.01)\n",
    "model_v2.fit(X_train, y_train, verbose=False)\n",
    "\n",
    "y_pred = model_v2.predict(X_test)\n",
    "print('model score =', 0.9314894696777468)\n",
    "print('model_v2 without x-(x-1) score =', f1_score(y_test, y_pred, average='micro'))"
   ]
  },
  {
   "cell_type": "code",
   "execution_count": 20,
   "id": "severe-advocate",
   "metadata": {
    "execution": {
     "iopub.execute_input": "2021-06-17T15:17:56.128550Z",
     "iopub.status.busy": "2021-06-17T15:17:56.127935Z",
     "iopub.status.idle": "2021-06-17T15:17:56.303619Z",
     "shell.execute_reply": "2021-06-17T15:17:56.304099Z",
     "shell.execute_reply.started": "2021-06-17T13:46:03.815113Z"
    },
    "papermill": {
     "duration": 0.213197,
     "end_time": "2021-06-17T15:17:56.304257",
     "exception": false,
     "start_time": "2021-06-17T15:17:56.091060",
     "status": "completed"
    },
    "tags": []
   },
   "outputs": [
    {
     "data": {
      "image/png": "[encoded data removed]",
      "text/plain": [
       "<Figure size 1080x504 with 1 Axes>"
      ]
     },
     "metadata": {
      "needs_background": "light"
     },
     "output_type": "display_data"
    }
   ],
   "source": [
    "importance = model_v2.feature_importances_\n",
    "features = df.drop(['y','id','time', 'x-(x-1)'],axis=1).columns\n",
    "\n",
    "sorted_indexes = np.argsort(importance)\n",
    "fig = plt.figure(figsize=(15,7))\n",
    "plt.barh(y=features[sorted_indexes], width=importance[sorted_indexes]);"
   ]
  },
  {
   "cell_type": "markdown",
   "id": "professional-signal",
   "metadata": {
    "papermill": {
     "duration": 0.027627,
     "end_time": "2021-06-17T15:17:56.359596",
     "exception": false,
     "start_time": "2021-06-17T15:17:56.331969",
     "status": "completed"
    },
    "tags": []
   },
   "source": [
    "# model v3 - best"
   ]
  },
  {
   "cell_type": "code",
   "execution_count": 21,
   "id": "integrated-horizon",
   "metadata": {
    "execution": {
     "iopub.execute_input": "2021-06-17T15:17:56.422138Z",
     "iopub.status.busy": "2021-06-17T15:17:56.421562Z",
     "iopub.status.idle": "2021-06-17T15:17:56.473125Z",
     "shell.execute_reply": "2021-06-17T15:17:56.473961Z",
     "shell.execute_reply.started": "2021-06-17T14:15:34.275859Z"
    },
    "papermill": {
     "duration": 0.086566,
     "end_time": "2021-06-17T15:17:56.474213",
     "exception": false,
     "start_time": "2021-06-17T15:17:56.387647",
     "status": "completed"
    },
    "tags": []
   },
   "outputs": [
    {
     "name": "stdout",
     "output_type": "stream",
     "text": [
      "scaler_v2.pkl was saved in output directory\n",
      "train (47290, 14) (47290,)\n",
      "test (11823, 14) (11823,)\n"
     ]
    }
   ],
   "source": [
    "# load data\n",
    "with open('../input/cardiospike-feature-development/dataset_v1.pkl', 'rb') as f:\n",
    "    df = pickle.load(f)\n",
    "    \n",
    "# make X and y\n",
    "X,y = make_XY_v2(df)\n",
    "\n",
    "# make train and test datasets\n",
    "train_indexes, test_indexes = get_train_test_indexes(X,y)\n",
    "X_train = X[train_indexes]\n",
    "X_test = X[test_indexes]\n",
    "y_train = y[train_indexes]\n",
    "y_test = y[test_indexes]\n",
    "\n",
    "print('train', X_train.shape, y_train.shape)\n",
    "print('test', X_test.shape, y_test.shape)"
   ]
  },
  {
   "cell_type": "code",
   "execution_count": 22,
   "id": "unsigned-worship",
   "metadata": {
    "execution": {
     "iopub.execute_input": "2021-06-17T15:17:56.537768Z",
     "iopub.status.busy": "2021-06-17T15:17:56.536998Z",
     "iopub.status.idle": "2021-06-17T15:26:02.127516Z",
     "shell.execute_reply": "2021-06-17T15:26:02.128026Z",
     "shell.execute_reply.started": "2021-06-17T14:15:42.885058Z"
    },
    "papermill": {
     "duration": 485.625241,
     "end_time": "2021-06-17T15:26:02.128231",
     "exception": false,
     "start_time": "2021-06-17T15:17:56.502990",
     "status": "completed"
    },
    "tags": []
   },
   "outputs": [
    {
     "name": "stdout",
     "output_type": "stream",
     "text": [
      "{'max_depth': 14, 'num_leaves': 50}\n",
      "0.8954214115715402\n"
     ]
    }
   ],
   "source": [
    "param_grid = {\n",
    "    'num_leaves': [10, 50, 80],  # 31 is default\n",
    "    'max_depth': [-1, 7, 14]  # -1 is default\n",
    "}\n",
    "model_v3 = lightgbm.LGBMClassifier(n_estimators=2937,\n",
    "                                   random_state=RANDOM_STATE, n_jobs=-1,\n",
    "                                   learning_rate=0.01)\n",
    "gscv = GridSearchCV(model_v3, param_grid, scoring='f1_micro', \n",
    "                    n_jobs=-1, cv=StratifiedKFold(), verbose=False)\n",
    "gscv.fit(X,y)\n",
    "\n",
    "# estimate result\n",
    "print(gscv.best_params_)\n",
    "print(gscv.best_score_)"
   ]
  },
  {
   "cell_type": "code",
   "execution_count": 23,
   "id": "disciplinary-assistant",
   "metadata": {
    "execution": {
     "iopub.execute_input": "2021-06-17T15:26:02.192364Z",
     "iopub.status.busy": "2021-06-17T15:26:02.191513Z",
     "iopub.status.idle": "2021-06-17T15:34:33.275449Z",
     "shell.execute_reply": "2021-06-17T15:34:33.275919Z",
     "shell.execute_reply.started": "2021-06-17T14:45:17.548701Z"
    },
    "papermill": {
     "duration": 511.118738,
     "end_time": "2021-06-17T15:34:33.276089",
     "exception": false,
     "start_time": "2021-06-17T15:26:02.157351",
     "status": "completed"
    },
    "tags": []
   },
   "outputs": [
    {
     "name": "stdout",
     "output_type": "stream",
     "text": [
      "{'max_depth': 14, 'num_leaves': 50}\n",
      "0.8954214115715402\n"
     ]
    }
   ],
   "source": [
    "param_grid = {\n",
    "    'num_leaves': [40, 50, 60],  # 31 is default\n",
    "    'max_depth': [10, 14, 20]  # -1 is default\n",
    "}\n",
    "model_v3 = lightgbm.LGBMClassifier(n_estimators=2937,\n",
    "                                   random_state=RANDOM_STATE, n_jobs=-1,\n",
    "                                   learning_rate=0.01)\n",
    "gscv = GridSearchCV(model_v3, param_grid, scoring='f1_micro', \n",
    "                    n_jobs=-1, cv=StratifiedKFold(), verbose=False)\n",
    "gscv.fit(X,y)\n",
    "\n",
    "# estimate result\n",
    "print(gscv.best_params_)\n",
    "print(gscv.best_score_)"
   ]
  },
  {
   "cell_type": "code",
   "execution_count": 24,
   "id": "unlike-bhutan",
   "metadata": {
    "execution": {
     "iopub.execute_input": "2021-06-17T15:34:33.339906Z",
     "iopub.status.busy": "2021-06-17T15:34:33.339051Z",
     "iopub.status.idle": "2021-06-17T15:38:11.894395Z",
     "shell.execute_reply": "2021-06-17T15:38:11.894855Z",
     "shell.execute_reply.started": "2021-06-17T14:56:07.997049Z"
    },
    "papermill": {
     "duration": 218.590319,
     "end_time": "2021-06-17T15:38:11.895026",
     "exception": false,
     "start_time": "2021-06-17T15:34:33.304707",
     "status": "completed"
    },
    "tags": []
   },
   "outputs": [
    {
     "name": "stdout",
     "output_type": "stream",
     "text": [
      "{'max_depth': 14, 'num_leaves': 50}\n",
      "0.8954214115715402\n"
     ]
    }
   ],
   "source": [
    "# замиксуем лучшие пары параметров\n",
    "param_grid = {\n",
    "    'num_leaves': [31, 50],\n",
    "    'max_depth': [-1, 14]\n",
    "}\n",
    "model_v3 = lightgbm.LGBMClassifier(n_estimators=2937,\n",
    "                                   random_state=RANDOM_STATE, n_jobs=-1,\n",
    "                                   learning_rate=0.01)\n",
    "gscv = GridSearchCV(model_v3, param_grid, scoring='f1_micro', \n",
    "                    n_jobs=-1, cv=StratifiedKFold(), verbose=False)\n",
    "gscv.fit(X,y)\n",
    "\n",
    "# estimate result\n",
    "print(gscv.best_params_)\n",
    "print(gscv.best_score_)"
   ]
  },
  {
   "cell_type": "markdown",
   "id": "played-spirit",
   "metadata": {
    "papermill": {
     "duration": 0.028475,
     "end_time": "2021-06-17T15:38:11.952140",
     "exception": false,
     "start_time": "2021-06-17T15:38:11.923665",
     "status": "completed"
    },
    "tags": []
   },
   "source": [
    "> побеждают `{'max_depth': 14, 'num_leaves': 50}`"
   ]
  },
  {
   "cell_type": "code",
   "execution_count": 25,
   "id": "honest-proceeding",
   "metadata": {
    "execution": {
     "iopub.execute_input": "2021-06-17T15:38:12.022244Z",
     "iopub.status.busy": "2021-06-17T15:38:12.021611Z",
     "iopub.status.idle": "2021-06-17T15:38:26.811622Z",
     "shell.execute_reply": "2021-06-17T15:38:26.810976Z",
     "shell.execute_reply.started": "2021-06-17T15:08:16.514697Z"
    },
    "papermill": {
     "duration": 14.825208,
     "end_time": "2021-06-17T15:38:26.811754",
     "exception": false,
     "start_time": "2021-06-17T15:38:11.986546",
     "status": "completed"
    },
    "tags": []
   },
   "outputs": [
    {
     "name": "stdout",
     "output_type": "stream",
     "text": [
      "previous best score = 0.9314894696777468\n",
      "model_v3 score = 0.9318277932842765\n"
     ]
    }
   ],
   "source": [
    "model_v3 = lightgbm.LGBMClassifier(n_estimators=2937,\n",
    "                                   random_state=RANDOM_STATE, n_jobs=-1,\n",
    "                                   learning_rate=0.01, max_depth=14, num_leaves=50)\n",
    "model_v3.fit(X_train, y_train, verbose=False)\n",
    "\n",
    "y_pred = model_v3.predict(X_test)\n",
    "print('previous best score =', 0.9314894696777468)\n",
    "print('model_v3 score =', f1_score(y_test, y_pred, average='micro'))"
   ]
  },
  {
   "cell_type": "code",
   "execution_count": 26,
   "id": "civil-manor",
   "metadata": {
    "execution": {
     "iopub.execute_input": "2021-06-17T15:38:26.875940Z",
     "iopub.status.busy": "2021-06-17T15:38:26.875364Z",
     "iopub.status.idle": "2021-06-17T15:38:27.070482Z",
     "shell.execute_reply": "2021-06-17T15:38:27.071015Z",
     "shell.execute_reply.started": "2021-06-17T15:09:35.053582Z"
    },
    "papermill": {
     "duration": 0.229723,
     "end_time": "2021-06-17T15:38:27.071171",
     "exception": false,
     "start_time": "2021-06-17T15:38:26.841448",
     "status": "completed"
    },
    "tags": []
   },
   "outputs": [
    {
     "data": {
      "image/png": "[encoded data removed]",
      "text/plain": [
       "<Figure size 1080x504 with 1 Axes>"
      ]
     },
     "metadata": {
      "needs_background": "light"
     },
     "output_type": "display_data"
    }
   ],
   "source": [
    "importance = model_v3.feature_importances_\n",
    "features = df.drop(['y','id','time', 'x-(x-1)'],axis=1).columns\n",
    "\n",
    "sorted_indexes = np.argsort(importance)\n",
    "fig = plt.figure(figsize=(15,7))\n",
    "plt.barh(y=features[sorted_indexes], width=importance[sorted_indexes]);"
   ]
  },
  {
   "cell_type": "code",
   "execution_count": 27,
   "id": "nearby-settlement",
   "metadata": {
    "execution": {
     "iopub.execute_input": "2021-06-17T15:38:27.135444Z",
     "iopub.status.busy": "2021-06-17T15:38:27.134549Z",
     "iopub.status.idle": "2021-06-17T15:38:27.625415Z",
     "shell.execute_reply": "2021-06-17T15:38:27.624371Z",
     "shell.execute_reply.started": "2021-06-17T15:09:01.113688Z"
    },
    "papermill": {
     "duration": 0.524537,
     "end_time": "2021-06-17T15:38:27.625567",
     "exception": false,
     "start_time": "2021-06-17T15:38:27.101030",
     "status": "completed"
    },
    "tags": []
   },
   "outputs": [],
   "source": [
    "# save model\n",
    "with open('model_v3.pkl', 'wb') as f:\n",
    "    pickle.dump(model_v3, f)"
   ]
  },
  {
   "cell_type": "markdown",
   "id": "respected-eugene",
   "metadata": {
    "papermill": {
     "duration": 0.029595,
     "end_time": "2021-06-17T15:38:27.685126",
     "exception": false,
     "start_time": "2021-06-17T15:38:27.655531",
     "status": "completed"
    },
    "tags": []
   },
   "source": [
    "# model v4"
   ]
  },
  {
   "cell_type": "code",
   "execution_count": 28,
   "id": "alive-thong",
   "metadata": {
    "execution": {
     "iopub.execute_input": "2021-06-17T15:38:27.751161Z",
     "iopub.status.busy": "2021-06-17T15:38:27.750559Z",
     "iopub.status.idle": "2021-06-17T15:38:27.807415Z",
     "shell.execute_reply": "2021-06-17T15:38:27.806935Z",
     "shell.execute_reply.started": "2021-06-17T15:10:50.141869Z"
    },
    "papermill": {
     "duration": 0.092208,
     "end_time": "2021-06-17T15:38:27.807552",
     "exception": false,
     "start_time": "2021-06-17T15:38:27.715344",
     "status": "completed"
    },
    "tags": []
   },
   "outputs": [
    {
     "name": "stdout",
     "output_type": "stream",
     "text": [
      "scaler.pkl was saved in output directory\n",
      "train (47290, 15) (47290,)\n",
      "test (11823, 15) (11823,)\n"
     ]
    }
   ],
   "source": [
    "# load data\n",
    "with open('../input/cardiospike-feature-development/dataset_v1.pkl', 'rb') as f:\n",
    "    df = pickle.load(f)\n",
    "    \n",
    "# make X and y\n",
    "X,y = make_XY(df)\n",
    "\n",
    "# make train and test datasets\n",
    "train_indexes, test_indexes = get_train_test_indexes(X,y)\n",
    "X_train = X[train_indexes]\n",
    "X_test = X[test_indexes]\n",
    "y_train = y[train_indexes]\n",
    "y_test = y[test_indexes]\n",
    "\n",
    "print('train', X_train.shape, y_train.shape)\n",
    "print('test', X_test.shape, y_test.shape)"
   ]
  },
  {
   "cell_type": "code",
   "execution_count": 29,
   "id": "fallen-novel",
   "metadata": {
    "execution": {
     "iopub.execute_input": "2021-06-17T15:38:27.873054Z",
     "iopub.status.busy": "2021-06-17T15:38:27.872452Z",
     "iopub.status.idle": "2021-06-17T15:38:43.232993Z",
     "shell.execute_reply": "2021-06-17T15:38:43.233495Z",
     "shell.execute_reply.started": "2021-06-17T15:11:29.003520Z"
    },
    "papermill": {
     "duration": 15.395692,
     "end_time": "2021-06-17T15:38:43.233663",
     "exception": false,
     "start_time": "2021-06-17T15:38:27.837971",
     "status": "completed"
    },
    "tags": []
   },
   "outputs": [
    {
     "name": "stdout",
     "output_type": "stream",
     "text": [
      "previous best score = 0.9318277932842765\n",
      "model_v4 score = 0.9318277932842765\n"
     ]
    }
   ],
   "source": [
    "model_v4 = lightgbm.LGBMClassifier(n_estimators=2937,\n",
    "                                   random_state=RANDOM_STATE, n_jobs=-1,\n",
    "                                   learning_rate=0.01, max_depth=14, num_leaves=50)\n",
    "model_v4.fit(X_train, y_train, verbose=False)\n",
    "\n",
    "y_pred = model_v4.predict(X_test)\n",
    "print('previous best score =', 0.9318277932842765)\n",
    "print('model_v4 score =', f1_score(y_test, y_pred, average='micro'))"
   ]
  },
  {
   "cell_type": "code",
   "execution_count": 30,
   "id": "violent-battle",
   "metadata": {
    "execution": {
     "iopub.execute_input": "2021-06-17T15:38:43.299743Z",
     "iopub.status.busy": "2021-06-17T15:38:43.298804Z",
     "iopub.status.idle": "2021-06-17T15:38:43.488423Z",
     "shell.execute_reply": "2021-06-17T15:38:43.487903Z",
     "shell.execute_reply.started": "2021-06-17T15:12:09.533450Z"
    },
    "papermill": {
     "duration": 0.22482,
     "end_time": "2021-06-17T15:38:43.488556",
     "exception": false,
     "start_time": "2021-06-17T15:38:43.263736",
     "status": "completed"
    },
    "tags": []
   },
   "outputs": [
    {
     "data": {
      "image/png": "[encoded data removed]",
      "text/plain": [
       "<Figure size 1080x504 with 1 Axes>"
      ]
     },
     "metadata": {
      "needs_background": "light"
     },
     "output_type": "display_data"
    }
   ],
   "source": [
    "importance = model_v4.feature_importances_\n",
    "features = df.drop(['y','id','time'],axis=1).columns\n",
    "\n",
    "sorted_indexes = np.argsort(importance)\n",
    "fig = plt.figure(figsize=(15,7))\n",
    "plt.barh(y=features[sorted_indexes], width=importance[sorted_indexes]);"
   ]
  }
 ],
 "metadata": {
  "kernelspec": {
   "display_name": "Python 3",
   "language": "python",
   "name": "python3"
  },
  "language_info": {
   "codemirror_mode": {
    "name": "ipython",
    "version": 3
   },
   "file_extension": ".py",
   "mimetype": "text/x-python",
   "name": "python",
   "nbconvert_exporter": "python",
   "pygments_lexer": "ipython3",
   "version": "3.7.10"
  },
  "papermill": {
   "default_parameters": {},
   "duration": 1389.95077,
   "end_time": "2021-06-17T15:38:44.430702",
   "environment_variables": {},
   "exception": null,
   "input_path": "__notebook__.ipynb",
   "output_path": "__notebook__.ipynb",
   "parameters": {},
   "start_time": "2021-06-17T15:15:34.479932",
   "version": "2.3.3"
  }
 },
 "nbformat": 4,
 "nbformat_minor": 5
}
