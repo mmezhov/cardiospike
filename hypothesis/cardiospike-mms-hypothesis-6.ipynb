{
 "cells": [
  {
   "cell_type": "markdown",
   "id": "capable-shopping",
   "metadata": {},
   "source": [
    "# Гипотеза\n",
    "\n",
    "Поиск более оптимальных параметров с помощью библиотеки `ray` позволит улучшить качество модели.  \n",
    "Текущее максимальное значение метрики на тестовых данных `f1=0.77`  \n",
    "Пока лучшее на кросс-валидации `mean test_score = 0.7161425084850291`"
   ]
  },
  {
   "cell_type": "markdown",
   "id": "particular-current",
   "metadata": {},
   "source": [
    ">**итог**  \n",
    "> подобранные параметры качество не улучшили...  \n",
    "> нужно попробовать подобрать меньший learning_rate и n_estimators"
   ]
  },
  {
   "cell_type": "code",
   "execution_count": 2,
   "id": "norman-marks",
   "metadata": {},
   "outputs": [],
   "source": [
    "import pandas as pd\n",
    "import pickle\n",
    "import lightgbm as lgb\n",
    "import matplotlib.pyplot as plt\n",
    "import numpy as np\n",
    "\n",
    "from sklearn.model_selection import cross_validate, StratifiedKFold\n",
    "from sklearn.metrics import f1_score\n",
    "from ray import tune"
   ]
  },
  {
   "cell_type": "code",
   "execution_count": 3,
   "id": "illegal-subdivision",
   "metadata": {},
   "outputs": [
    {
     "name": "stdout",
     "output_type": "stream",
     "text": [
      "460 / 1155.6\n"
     ]
    }
   ],
   "source": [
    "# Const\n",
    "RANDOM_STATE = 0\n",
    "min_rr = 460\n",
    "max_rr = 963*1.2\n",
    "\n",
    "print(min_rr, '/', max_rr)"
   ]
  },
  {
   "cell_type": "markdown",
   "id": "binary-husband",
   "metadata": {},
   "source": [
    "# Полезные методы"
   ]
  },
  {
   "cell_type": "code",
   "execution_count": 9,
   "id": "documentary-clark",
   "metadata": {},
   "outputs": [],
   "source": [
    "def make_XY(df, scaler):\n",
    "    \"\"\"\n",
    "    Подготовка признаков для обучения модели\n",
    "    df: dataset\n",
    "    return:\n",
    "    X: numpy array with features, values are scaled\n",
    "    y: numpy array of target labels\n",
    "    \"\"\"\n",
    "    y = df.y.to_numpy()\n",
    "    X = scaler.transform(df.drop(['y','id','time'], axis=1).to_numpy())\n",
    "\n",
    "    return X, y\n",
    "\n",
    "\n",
    "def get_train_test_indexes(X,y):\n",
    "    \"\"\"\n",
    "    X,y: numpy arrays with features and target\n",
    "    return stratified indexes:\n",
    "        train_indexes: indexes for train data\n",
    "        test_indexes: indexes for test data\n",
    "    \"\"\"\n",
    "    skf = StratifiedKFold()\n",
    "    folds = dict()\n",
    "    for i, (train_indexes, test_indexes) in enumerate(skf.split(X,y)):\n",
    "        folds[i] = {\n",
    "            'train_indexes': train_indexes,\n",
    "            'test_indexes': test_indexes\n",
    "        }\n",
    "    return folds[0]['train_indexes'].tolist(), folds[0]['test_indexes'].tolist()\n",
    "\n",
    "\n",
    "def plot_RR(rr_ids, data):\n",
    "    \"\"\"\n",
    "    Рисует графики ритмограмм с разметкой аномальных участков\n",
    "    rr_ids: список идентификаторов ритмограмм\n",
    "    data: набор данных\n",
    "    \"\"\"\n",
    "    df = data.set_index('time').copy()\n",
    "    for rr_id in rr_ids:\n",
    "        fig = plt.figure(figsize=(20,5))\n",
    "        plt.title(f'R-R №{rr_id}')\n",
    "        plt.plot(df[df.id == rr_id].x, '-o', zorder=1)\n",
    "        df_anomaly = df[(df.id == rr_id)&(df.y == 1)].reset_index()\n",
    "        df_anomaly['time-diff'] = df_anomaly.time.diff()\n",
    "        split_indexes = df_anomaly[df_anomaly['time-diff'] > 1000].index\n",
    "        split_indexes = list(split_indexes)\n",
    "        split_indexes.append(0)\n",
    "        split_indexes.sort()\n",
    "        len_spl = len(split_indexes)\n",
    "        for i in range(len_spl):\n",
    "            if i == len_spl-1:\n",
    "                mask = (df_anomaly.index >= split_indexes[i])\n",
    "                plt.plot(df_anomaly[mask].time, df_anomaly[mask].x, '-o',\n",
    "                     label='аномальный участок', color='red', zorder=2)\n",
    "            else:\n",
    "                mask = (df_anomaly.index >= split_indexes[i])&(df_anomaly.index < split_indexes[i+1])\n",
    "                plt.plot(df_anomaly[mask].time, df_anomaly[mask].x, '-o',\n",
    "                         color='red', zorder=2)\n",
    "        plt.legend()\n",
    "        plt.xlabel('R-R timeline, ms')\n",
    "        plt.ylabel('R-R interval')\n",
    "        plt.show()\n",
    "        \n",
    "        \n",
    "def entropy1(labels, base=None):\n",
    "    _, counts = np.unique(labels, return_counts=True)\n",
    "    return entropy(counts, base=base)\n",
    "\n",
    "\n",
    "def make_dataset(data):\n",
    "    \"\"\"\n",
    "    Автоматизация подготовки датасета\n",
    "    \"\"\"\n",
    "    df = data.copy()\n",
    "    ids = df.id.unique()\n",
    "    for rr_id in ids:\n",
    "        mask = (df.id==rr_id)\n",
    "        df.loc[mask, 'entropy'] = df[mask].x.rolling(20).apply(entropy1).fillna(method='bfill')\n",
    "        df.loc[mask, 'x_diff'] = df[mask].x.diff()\n",
    "        df.fillna(method='bfill', inplace=True)\n",
    "        df.loc[mask, 'x_deviation_median'] = df[mask].x.median() - df[mask].x.values\n",
    "        for i in range(1,5):\n",
    "            # добавим в признаки 4 следующие точки\n",
    "            df.loc[mask, f'x+{i}'] = df[mask].x.shift(-i)\n",
    "            # и 4 предыдущие точки\n",
    "            df.loc[mask, f'x-{i}'] = df[mask].x.shift(i)\n",
    "        df.loc[mask, 'x-(x+1)'] = df[mask].x.values - df.loc[mask, 'x+1'].values\n",
    "        df.loc[mask, 'x-(x+2)'] = df[mask].x.values - df.loc[mask, 'x+2'].values\n",
    "        df.loc[mask, 'x-(x-2)'] = df[mask].x.values - df.loc[mask, 'x-2'].values\n",
    "        df.loc[mask, 'x-(x+3)'] = df[mask].x.values - df.loc[mask, 'x+3'].values\n",
    "        df.loc[mask, 'x-(x-3)'] = df[mask].x.values - df.loc[mask, 'x-3'].values\n",
    "        df.loc[mask, 'x-(x+4)'] = df[mask].x.values - df.loc[mask, 'x+4'].values\n",
    "        df.loc[mask, 'x-(x-4)'] = df[mask].x.values - df.loc[mask, 'x-4'].values\n",
    "        df.fillna(method='bfill', inplace=True)\n",
    "        df.fillna(method='ffill', inplace=True)\n",
    "        \n",
    "    return df"
   ]
  },
  {
   "cell_type": "markdown",
   "id": "serious-force",
   "metadata": {},
   "source": [
    "# Данные"
   ]
  },
  {
   "cell_type": "code",
   "execution_count": 5,
   "id": "protected-reminder",
   "metadata": {},
   "outputs": [
    {
     "name": "stdout",
     "output_type": "stream",
     "text": [
      "(60487, 19) (60487,)\n",
      "(48389, 19) (48389,)\n",
      "(12098, 19) (12098,)\n"
     ]
    }
   ],
   "source": [
    "with open('../pipelines/dataset-mms-pipeline-2.pkl', 'rb') as f:\n",
    "    df = pickle.load(f)\n",
    "with open('../pipelines/scaler-mms-pipeline-2.pkl', 'rb') as f:\n",
    "    scaler = pickle.load(f)\n",
    "    \n",
    "X,y = make_XY(df, scaler)\n",
    "print(X.shape, y.shape)\n",
    "\n",
    "train_indexes, test_indexes = get_train_test_indexes(X,y)\n",
    "X_train = X[train_indexes] \n",
    "y_train = y[train_indexes]\n",
    "X_test = X[test_indexes]\n",
    "y_test = y[test_indexes]\n",
    "\n",
    "print(X_train.shape, y_train.shape)\n",
    "print(X_test.shape, y_test.shape)"
   ]
  },
  {
   "cell_type": "markdown",
   "id": "useful-conference",
   "metadata": {},
   "source": [
    "# Поиск лучших гиперпараметров"
   ]
  },
  {
   "cell_type": "markdown",
   "id": "associate-specification",
   "metadata": {},
   "source": [
    "config = {\n",
    "    \"max_depth\": tune.randint(2, 30),\n",
    "    \"n_estimators\": tune.randint(3, 1000),\n",
    "    \"gamma\": tune.uniform(0.0, 1.0),\n",
    "    \"learning_rate\": tune.uniform(0.0, 1.0),\n",
    "    'reg_lambda': tune.randint(1, 100),\n",
    "    'reg_alpha': tune.randint(1, 100),\n",
    "    'subsample': tune.uniform(0.1, 1.0),\n",
    "    'random_state': 0,\n",
    "    'n_jobs': -1,    \n",
    "}"
   ]
  },
  {
   "cell_type": "code",
   "execution_count": 6,
   "id": "partial-addition",
   "metadata": {},
   "outputs": [],
   "source": [
    "config = {\n",
    "    \"max_depth\": tune.randint(-1, 100),\n",
    "    'num_leaves': tune.randint(1, 100),\n",
    "    \"n_estimators\": 3860,\n",
    "    \"learning_rate\": 0.01,\n",
    "    'random_state': 0,\n",
    "    'n_jobs': -1,    \n",
    "}"
   ]
  },
  {
   "cell_type": "code",
   "execution_count": 7,
   "id": "direct-reflection",
   "metadata": {},
   "outputs": [],
   "source": [
    "def find_optimal_hyperparameters(config):\n",
    "    model = lgb.LGBMClassifier(**config)\n",
    "    model.fit(X_train, y_train)\n",
    "    y_pred = model.predict(X_test)\n",
    "    f1_binary = f1_score(y_test, y_pred)\n",
    "    tune.report(\n",
    "        current_metric = f1_binary, \n",
    "        done = True\n",
    "    )"
   ]
  },
  {
   "cell_type": "code",
   "execution_count": 8,
   "id": "steady-briefs",
   "metadata": {},
   "outputs": [
    {
     "data": {
      "text/html": [
       "== Status ==<br>Memory usage on this node: 5.5/19.6 GiB<br>Using FIFO scheduling algorithm.<br>Resources requested: 0/8 CPUs, 0/2 GPUs, 0.0/8.79 GiB heap, 0.0/3.03 GiB objects (0/1.0 accelerator_type:T4)<br>Current best trial: 91267_00049 with current_metric=0.8097014925373135 and parameters={'max_depth': 98, 'num_leaves': 26, 'n_estimators': 3860, 'learning_rate': 0.01, 'random_state': 0, 'n_jobs': -1}<br>Result logdir: /home/msemezhov/ray_results/find_optimal_hyperparameters_2021-06-19_13-52-20<br>Number of trials: 300/300 (2 ERROR, 298 TERMINATED)<br>Number of errored trials: 2<br><table>\n",
       "<thead>\n",
       "<tr><th>Trial name                              </th><th style=\"text-align: right;\">  # failures</th><th>error file                                                                                                                                                                       </th></tr>\n",
       "</thead>\n",
       "<tbody>\n",
       "<tr><td>find_optimal_hyperparameters_91267_00010</td><td style=\"text-align: right;\">           1</td><td>/home/msemezhov/ray_results/find_optimal_hyperparameters_2021-06-19_13-52-20/find_optimal_hyperparameters_91267_00010_10_max_depth=79,num_leaves=1_2021-06-19_13-53-30/error.txt </td></tr>\n",
       "<tr><td>find_optimal_hyperparameters_91267_00166</td><td style=\"text-align: right;\">           1</td><td>/home/msemezhov/ray_results/find_optimal_hyperparameters_2021-06-19_13-52-20/find_optimal_hyperparameters_91267_00166_166_max_depth=24,num_leaves=1_2021-06-19_14-11-56/error.txt</td></tr>\n",
       "</tbody>\n",
       "</table><br>"
      ],
      "text/plain": [
       "<IPython.core.display.HTML object>"
      ]
     },
     "metadata": {},
     "output_type": "display_data"
    },
    {
     "ename": "TuneError",
     "evalue": "('Trials did not complete', [find_optimal_hyperparameters_91267_00010, find_optimal_hyperparameters_91267_00166])",
     "output_type": "error",
     "traceback": [
      "\u001b[0;31m---------------------------------------------------------------------------\u001b[0m",
      "\u001b[0;31mTuneError\u001b[0m                                 Traceback (most recent call last)",
      "\u001b[0;32m<timed exec>\u001b[0m in \u001b[0;36m<module>\u001b[0;34m\u001b[0m\n",
      "\u001b[0;32m/usr/local/lib/python3.6/dist-packages/ray/tune/tune.py\u001b[0m in \u001b[0;36mrun\u001b[0;34m(run_or_experiment, name, metric, mode, stop, time_budget_s, config, resources_per_trial, num_samples, local_dir, search_alg, scheduler, keep_checkpoints_num, checkpoint_score_attr, checkpoint_freq, checkpoint_at_end, verbose, progress_reporter, log_to_file, trial_name_creator, trial_dirname_creator, sync_config, export_formats, max_failures, fail_fast, restore, server_port, resume, queue_trials, reuse_actors, trial_executor, raise_on_failed_trial, callbacks, loggers, ray_auto_init, run_errored_only, global_checkpoint_period, with_server, upload_dir, sync_to_cloud, sync_to_driver, sync_on_checkpoint)\u001b[0m\n\u001b[1;32m    442\u001b[0m     \u001b[0;32mif\u001b[0m \u001b[0mincomplete_trials\u001b[0m\u001b[0;34m:\u001b[0m\u001b[0;34m\u001b[0m\u001b[0;34m\u001b[0m\u001b[0m\n\u001b[1;32m    443\u001b[0m         \u001b[0;32mif\u001b[0m \u001b[0mraise_on_failed_trial\u001b[0m\u001b[0;34m:\u001b[0m\u001b[0;34m\u001b[0m\u001b[0;34m\u001b[0m\u001b[0m\n\u001b[0;32m--> 444\u001b[0;31m             \u001b[0;32mraise\u001b[0m \u001b[0mTuneError\u001b[0m\u001b[0;34m(\u001b[0m\u001b[0;34m\"Trials did not complete\"\u001b[0m\u001b[0;34m,\u001b[0m \u001b[0mincomplete_trials\u001b[0m\u001b[0;34m)\u001b[0m\u001b[0;34m\u001b[0m\u001b[0;34m\u001b[0m\u001b[0m\n\u001b[0m\u001b[1;32m    445\u001b[0m         \u001b[0;32melse\u001b[0m\u001b[0;34m:\u001b[0m\u001b[0;34m\u001b[0m\u001b[0;34m\u001b[0m\u001b[0m\n\u001b[1;32m    446\u001b[0m             \u001b[0mlogger\u001b[0m\u001b[0;34m.\u001b[0m\u001b[0merror\u001b[0m\u001b[0;34m(\u001b[0m\u001b[0;34m\"Trials did not complete: %s\"\u001b[0m\u001b[0;34m,\u001b[0m \u001b[0mincomplete_trials\u001b[0m\u001b[0;34m)\u001b[0m\u001b[0;34m\u001b[0m\u001b[0;34m\u001b[0m\u001b[0m\n",
      "\u001b[0;31mTuneError\u001b[0m: ('Trials did not complete', [find_optimal_hyperparameters_91267_00010, find_optimal_hyperparameters_91267_00166])"
     ]
    }
   ],
   "source": [
    "%%time\n",
    "\n",
    "analysis = tune.run(\n",
    "    find_optimal_hyperparameters,\n",
    "    metric=\"current_metric\",\n",
    "    mode=\"max\",\n",
    "    config=config,\n",
    "    num_samples=300,\n",
    "    verbose=1\n",
    ")"
   ]
  },
  {
   "cell_type": "markdown",
   "id": "large-school",
   "metadata": {},
   "source": [
    "# Обучение модели"
   ]
  },
  {
   "cell_type": "code",
   "execution_count": 10,
   "id": "allied-cheat",
   "metadata": {},
   "outputs": [
    {
     "data": {
      "text/plain": [
       "<AxesSubplot:title={'center':'Metric during training'}, xlabel='Iterations', ylabel='binary_logloss'>"
      ]
     },
     "execution_count": 10,
     "metadata": {},
     "output_type": "execute_result"
    },
    {
     "data": {
      "image/png": "[encoded data removed]",
      "text/plain": [
       "<Figure size 432x288 with 1 Axes>"
      ]
     },
     "metadata": {
      "needs_background": "light"
     },
     "output_type": "display_data"
    }
   ],
   "source": [
    "model = lgb.LGBMClassifier(n_estimators=3860, learning_rate=0.01, \n",
    "                           max_depth=98, num_leaves=26,\n",
    "                           random_state=RANDOM_STATE, n_jobs=-1)\n",
    "model.fit(X_train, y_train, eval_set=(X_test,y_test), eval_metric='f1', verbose=False)\n",
    "\n",
    "lgb.plot_metric(model)"
   ]
  },
  {
   "cell_type": "markdown",
   "id": "logical-brake",
   "metadata": {},
   "source": [
    "# Cross validation"
   ]
  },
  {
   "cell_type": "code",
   "execution_count": 11,
   "id": "formal-moore",
   "metadata": {},
   "outputs": [
    {
     "name": "stdout",
     "output_type": "stream",
     "text": [
      "test_score: [0.80970149 0.7098831  0.56166792 0.75641828 0.74196511]\n",
      "mean test_score = 0.7159271816272292\n",
      "current best mean test_score = 0.7161425084850291\n"
     ]
    }
   ],
   "source": [
    "model = lgb.LGBMClassifier(n_estimators=3860, learning_rate=0.01, \n",
    "                           max_depth=98, num_leaves=26,\n",
    "                           random_state=RANDOM_STATE, n_jobs=-1)\n",
    "\n",
    "cv_result = cross_validate(model, X, y, cv=StratifiedKFold(), scoring='f1')\n",
    "\n",
    "print('test_score:', cv_result['test_score'])\n",
    "print('mean test_score =', cv_result['test_score'].mean())\n",
    "print('current best mean test_score = 0.7161425084850291')"
   ]
  },
  {
   "cell_type": "markdown",
   "id": "complex-cuisine",
   "metadata": {},
   "source": [
    "> подобранные параметры качество не улучшили..."
   ]
  }
 ],
 "metadata": {
  "kernelspec": {
   "display_name": "Python 3",
   "language": "python",
   "name": "python3"
  },
  "language_info": {
   "codemirror_mode": {
    "name": "ipython",
    "version": 3
   },
   "file_extension": ".py",
   "mimetype": "text/x-python",
   "name": "python",
   "nbconvert_exporter": "python",
   "pygments_lexer": "ipython3",
   "version": "3.6.9"
  }
 },
 "nbformat": 4,
 "nbformat_minor": 5
}
