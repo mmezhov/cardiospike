{
 "cells": [
  {
   "cell_type": "markdown",
   "id": "intense-annotation",
   "metadata": {},
   "source": [
    "# Гипотеза\n",
    "\n",
    "Добавление в окрестность не 4 а 6 точек вокруг и удаление из обучения ритмограммы № 107, 108, 109, 127 даст лучший скор.  \n",
    "Пока лучшее `mean test_score = 0.7161425084850291`"
   ]
  },
  {
   "cell_type": "markdown",
   "id": "exceptional-worker",
   "metadata": {},
   "source": [
    "> **итог**  \n",
    "> при добавлении пятой и шестой точки в окрестность дало улучшение сокора `mean test_score = 0.7718847140739808`  \n",
    "> при дополнительном удалении некорректных ритмограмм скор снизился `mean test_score = 0.7682827383694755`"
   ]
  },
  {
   "cell_type": "code",
   "execution_count": 6,
   "id": "noted-concentrate",
   "metadata": {},
   "outputs": [],
   "source": [
    "import pandas as pd\n",
    "import pickle\n",
    "import lightgbm as lgb\n",
    "import matplotlib.pyplot as plt\n",
    "import numpy as np\n",
    "\n",
    "from sklearn.preprocessing import StandardScaler\n",
    "from sklearn.model_selection import cross_validate, StratifiedKFold\n",
    "from sklearn.metrics import f1_score\n",
    "from scipy.stats import entropy"
   ]
  },
  {
   "cell_type": "code",
   "execution_count": 3,
   "id": "eleven-laundry",
   "metadata": {},
   "outputs": [
    {
     "name": "stdout",
     "output_type": "stream",
     "text": [
      "460 / 1155.6\n"
     ]
    }
   ],
   "source": [
    "# Const\n",
    "RANDOM_STATE = 0\n",
    "min_rr = 460\n",
    "max_rr = 963*1.2\n",
    "\n",
    "print(min_rr, '/', max_rr)"
   ]
  },
  {
   "cell_type": "markdown",
   "id": "ordered-voltage",
   "metadata": {},
   "source": [
    "# Полезные методы"
   ]
  },
  {
   "cell_type": "code",
   "execution_count": 15,
   "id": "surgical-center",
   "metadata": {},
   "outputs": [],
   "source": [
    "def make_XY(df):\n",
    "    \"\"\"\n",
    "    Подготовка признаков для обучения модели\n",
    "    df: dataset\n",
    "    return:\n",
    "    X: numpy array with features, values are scaled\n",
    "    y: numpy array of target labels\n",
    "    \"\"\"\n",
    "    X = df.drop(['y','id','time'], axis=1)\n",
    "    y = df.y.to_numpy()\n",
    "\n",
    "    scaler = StandardScaler().fit(X.to_numpy())\n",
    "    X = scaler.transform(X.to_numpy())\n",
    "\n",
    "    with open('scaler_hypothesis_8.pkl', 'wb') as f:\n",
    "        pickle.dump(scaler, f)\n",
    "        \n",
    "    print('scaler_hypothesis_8.pkl was saved in output directory')\n",
    "\n",
    "    return X, y\n",
    "\n",
    "\n",
    "def get_train_test_indexes(X,y):\n",
    "    \"\"\"\n",
    "    X,y: numpy arrays with features and target\n",
    "    return stratified indexes:\n",
    "        train_indexes: indexes for train data\n",
    "        test_indexes: indexes for test data\n",
    "    \"\"\"\n",
    "    skf = StratifiedKFold()\n",
    "    folds = dict()\n",
    "    for i, (train_indexes, test_indexes) in enumerate(skf.split(X,y)):\n",
    "        folds[i] = {\n",
    "            'train_indexes': train_indexes,\n",
    "            'test_indexes': test_indexes\n",
    "        }\n",
    "    return folds[0]['train_indexes'].tolist(), folds[0]['test_indexes'].tolist()\n",
    "\n",
    "\n",
    "def plot_RR(rr_ids, data):\n",
    "    \"\"\"\n",
    "    Рисует графики ритмограмм с разметкой аномальных участков\n",
    "    rr_ids: список идентификаторов ритмограмм\n",
    "    data: набор данных\n",
    "    \"\"\"\n",
    "    df = data.set_index('time').copy()\n",
    "    for rr_id in rr_ids:\n",
    "        fig = plt.figure(figsize=(20,5))\n",
    "        plt.title(f'R-R №{rr_id}')\n",
    "        plt.plot(df[df.id == rr_id].x, '-o', zorder=1)\n",
    "        df_anomaly = df[(df.id == rr_id)&(df.y == 1)].reset_index()\n",
    "        df_anomaly['time-diff'] = df_anomaly.time.diff()\n",
    "        split_indexes = df_anomaly[df_anomaly['time-diff'] > 1000].index\n",
    "        split_indexes = list(split_indexes)\n",
    "        split_indexes.append(0)\n",
    "        split_indexes.sort()\n",
    "        len_spl = len(split_indexes)\n",
    "        for i in range(len_spl):\n",
    "            if i == len_spl-1:\n",
    "                mask = (df_anomaly.index >= split_indexes[i])\n",
    "                plt.plot(df_anomaly[mask].time, df_anomaly[mask].x, '-o',\n",
    "                     label='аномальный участок', color='red', zorder=2)\n",
    "            else:\n",
    "                mask = (df_anomaly.index >= split_indexes[i])&(df_anomaly.index < split_indexes[i+1])\n",
    "                plt.plot(df_anomaly[mask].time, df_anomaly[mask].x, '-o',\n",
    "                         color='red', zorder=2)\n",
    "        plt.legend()\n",
    "        plt.xlabel('R-R timeline, ms')\n",
    "        plt.ylabel('R-R interval')\n",
    "        plt.show()\n",
    "        \n",
    "        \n",
    "def entropy1(labels, base=None):\n",
    "    _, counts = np.unique(labels, return_counts=True)\n",
    "    return entropy(counts, base=base)\n",
    "\n",
    "\n",
    "def make_dataset(data):\n",
    "    \"\"\"\n",
    "    Автоматизация подготовки датасета\n",
    "    \"\"\"\n",
    "    df = data.copy()\n",
    "    ids = df.id.unique()\n",
    "    for rr_id in ids:\n",
    "        mask = (df.id==rr_id)\n",
    "        df.loc[mask, 'entropy'] = df[mask].x.rolling(20).apply(entropy1).fillna(method='bfill')\n",
    "        df.loc[mask, 'x_diff'] = df[mask].x.diff()\n",
    "        df.fillna(method='bfill', inplace=True)\n",
    "        df.loc[mask, 'x_deviation_median'] = df[mask].x.median() - df[mask].x.values\n",
    "        for i in range(1,7):\n",
    "            # добавим в признаки 6 следующих точки\n",
    "            df.loc[mask, f'x+{i}'] = df[mask].x.shift(-i)\n",
    "            # и 6 предыдущие точки\n",
    "            df.loc[mask, f'x-{i}'] = df[mask].x.shift(i)\n",
    "        df.loc[mask, 'x-(x+1)'] = df[mask].x.values - df.loc[mask, 'x+1'].values\n",
    "        df.loc[mask, 'x-(x+2)'] = df[mask].x.values - df.loc[mask, 'x+2'].values\n",
    "        df.loc[mask, 'x-(x-2)'] = df[mask].x.values - df.loc[mask, 'x-2'].values\n",
    "        df.loc[mask, 'x-(x+3)'] = df[mask].x.values - df.loc[mask, 'x+3'].values\n",
    "        df.loc[mask, 'x-(x-3)'] = df[mask].x.values - df.loc[mask, 'x-3'].values\n",
    "        df.loc[mask, 'x-(x+4)'] = df[mask].x.values - df.loc[mask, 'x+4'].values\n",
    "        df.loc[mask, 'x-(x-4)'] = df[mask].x.values - df.loc[mask, 'x-4'].values\n",
    "        df.loc[mask, 'x-(x+5)'] = df[mask].x.values - df.loc[mask, 'x+5'].values\n",
    "        df.loc[mask, 'x-(x-5)'] = df[mask].x.values - df.loc[mask, 'x-5'].values\n",
    "        df.loc[mask, 'x-(x+6)'] = df[mask].x.values - df.loc[mask, 'x+6'].values\n",
    "        df.loc[mask, 'x-(x-6)'] = df[mask].x.values - df.loc[mask, 'x-6'].values\n",
    "        df.fillna(method='bfill', inplace=True)\n",
    "        df.fillna(method='ffill', inplace=True)\n",
    "        \n",
    "    return df"
   ]
  },
  {
   "cell_type": "markdown",
   "id": "social-nepal",
   "metadata": {},
   "source": [
    "# Данные"
   ]
  },
  {
   "cell_type": "code",
   "execution_count": 7,
   "id": "promotional-ethiopia",
   "metadata": {},
   "outputs": [
    {
     "name": "stdout",
     "output_type": "stream",
     "text": [
      "<class 'pandas.core.frame.DataFrame'>\n",
      "RangeIndex: 60487 entries, 0 to 60486\n",
      "Data columns (total 30 columns):\n",
      " #   Column              Non-Null Count  Dtype  \n",
      "---  ------              --------------  -----  \n",
      " 0   id                  60487 non-null  int64  \n",
      " 1   time                60487 non-null  int64  \n",
      " 2   x                   60487 non-null  int64  \n",
      " 3   y                   60487 non-null  int64  \n",
      " 4   entropy             60487 non-null  float64\n",
      " 5   x_diff              60487 non-null  float64\n",
      " 6   x_deviation_median  60487 non-null  float64\n",
      " 7   x+1                 60487 non-null  float64\n",
      " 8   x-1                 60487 non-null  float64\n",
      " 9   x+2                 60487 non-null  float64\n",
      " 10  x-2                 60487 non-null  float64\n",
      " 11  x+3                 60487 non-null  float64\n",
      " 12  x-3                 60487 non-null  float64\n",
      " 13  x+4                 60487 non-null  float64\n",
      " 14  x-4                 60487 non-null  float64\n",
      " 15  x+5                 60487 non-null  float64\n",
      " 16  x-5                 60487 non-null  float64\n",
      " 17  x+6                 60487 non-null  float64\n",
      " 18  x-6                 60487 non-null  float64\n",
      " 19  x-(x+1)             60487 non-null  float64\n",
      " 20  x-(x+2)             60487 non-null  float64\n",
      " 21  x-(x-2)             60487 non-null  float64\n",
      " 22  x-(x+3)             60487 non-null  float64\n",
      " 23  x-(x-3)             60487 non-null  float64\n",
      " 24  x-(x+4)             60487 non-null  float64\n",
      " 25  x-(x-4)             60487 non-null  float64\n",
      " 26  x-(x+5)             60487 non-null  float64\n",
      " 27  x-(x-5)             60487 non-null  float64\n",
      " 28  x-(x+6)             60487 non-null  float64\n",
      " 29  x-(x-6)             60487 non-null  float64\n",
      "dtypes: float64(26), int64(4)\n",
      "memory usage: 13.8 MB\n"
     ]
    }
   ],
   "source": [
    "data = pd.read_csv('../input/cardiospikecompetition/train.csv')\n",
    "df = make_dataset(data)\n",
    "df.info()"
   ]
  },
  {
   "cell_type": "markdown",
   "id": "supposed-neighbor",
   "metadata": {},
   "source": [
    "# Замена выбросов"
   ]
  },
  {
   "cell_type": "code",
   "execution_count": 8,
   "id": "lovely-berkeley",
   "metadata": {},
   "outputs": [
    {
     "name": "stdout",
     "output_type": "stream",
     "text": [
      "количество выбрасов выше 1155.6 = 1015\n",
      "количество выбрасов ниже 460 = 10220\n"
     ]
    }
   ],
   "source": [
    "print(f'количество выбрасов выше {max_rr} =', len(df[df.x > max_rr]))\n",
    "print(f'количество выбрасов ниже {min_rr} =', len(df[df.x < min_rr]))"
   ]
  },
  {
   "cell_type": "code",
   "execution_count": 9,
   "id": "rotary-context",
   "metadata": {},
   "outputs": [
    {
     "name": "stdout",
     "output_type": "stream",
     "text": [
      "количество NA после мьютирования = 11235\n",
      "выбросы замьютированы корректно\n"
     ]
    }
   ],
   "source": [
    "out_cnt = len(df[(df.x > max_rr)|(df.x < min_rr)].y)\n",
    "df.loc[df.x > max_rr, 'x'] = pd.NA\n",
    "df.loc[df.x < min_rr, 'x'] = pd.NA\n",
    "\n",
    "print('количество NA после мьютирования =', len(df[df.x.isna()]))\n",
    "if len(df[df.x.isna()]) == out_cnt:\n",
    "    print('выбросы замьютированы корректно')\n",
    "else:\n",
    "    print('мьютирование выбросов прошло некорректно...')"
   ]
  },
  {
   "cell_type": "code",
   "execution_count": 10,
   "id": "hundred-gossip",
   "metadata": {},
   "outputs": [],
   "source": [
    "# индексы, которые были выялены как выбросы\n",
    "out_ind = df[df.x.isna()].index"
   ]
  },
  {
   "cell_type": "code",
   "execution_count": 11,
   "id": "honey-dimension",
   "metadata": {},
   "outputs": [
    {
     "data": {
      "text/plain": [
       "20215    480\n",
       "20216    480\n",
       "Name: x, dtype: int64"
      ]
     },
     "metadata": {},
     "output_type": "display_data"
    },
    {
     "name": "stdout",
     "output_type": "stream",
     "text": [
      "\n",
      "Проверка прошла успешно! :)\n"
     ]
    }
   ],
   "source": [
    "# test\n",
    "df.x.ffill(inplace=True)\n",
    "# проверка на корректность мьютирования\n",
    "ind = np.random.randint(len(out_ind))\n",
    "display(df.loc[[out_ind[ind]-1, out_ind[ind]], 'x'])\n",
    "if df.loc[out_ind[ind]-1, 'x'] == df.loc[out_ind[ind], 'x']:\n",
    "    print('\\nПроверка прошла успешно! :)')\n",
    "else:\n",
    "    print('\\nДанные в соседних точках не совпадают... :(')"
   ]
  },
  {
   "cell_type": "code",
   "execution_count": 13,
   "id": "lined-medicine",
   "metadata": {},
   "outputs": [],
   "source": [
    "# сохраним датасет в с текущими признаками, предварительно удалив строки с пропусками\n",
    "with open('dataset_hypothesis_8.pkl', 'wb') as f:\n",
    "    pickle.dump(df, f)\n",
    "    \n",
    "df.to_csv('dataset_hypothesis_8.csv')"
   ]
  },
  {
   "cell_type": "markdown",
   "id": "honey-opinion",
   "metadata": {},
   "source": [
    "# X, y"
   ]
  },
  {
   "cell_type": "code",
   "execution_count": 16,
   "id": "tight-mediterranean",
   "metadata": {},
   "outputs": [
    {
     "name": "stdout",
     "output_type": "stream",
     "text": [
      "scaler_hypothesis_8.pkl was saved in output directory\n"
     ]
    }
   ],
   "source": [
    "# make X and y\n",
    "X,y = make_XY(df)"
   ]
  },
  {
   "cell_type": "markdown",
   "id": "agricultural-tactics",
   "metadata": {},
   "source": [
    "# Cross validation"
   ]
  },
  {
   "cell_type": "markdown",
   "id": "occasional-colors",
   "metadata": {},
   "source": [
    "## ver 1"
   ]
  },
  {
   "cell_type": "code",
   "execution_count": 17,
   "id": "stretch-machinery",
   "metadata": {},
   "outputs": [
    {
     "name": "stdout",
     "output_type": "stream",
     "text": [
      "test_score: [0.84874204 0.76762262 0.63091957 0.82703038 0.78510896]\n",
      "mean test_score = 0.7718847140739808\n",
      "current best mean test_score = 0.7161425084850291\n"
     ]
    }
   ],
   "source": [
    "model = lgb.LGBMClassifier(n_estimators=3860, learning_rate=0.01, random_state=RANDOM_STATE, n_jobs=-1)\n",
    "\n",
    "cv_result = cross_validate(model, X, y, cv=StratifiedKFold(), scoring='f1')\n",
    "\n",
    "print('test_score:', cv_result['test_score'])\n",
    "print('mean test_score =', cv_result['test_score'].mean())\n",
    "print('current best mean test_score = 0.7161425084850291')"
   ]
  },
  {
   "cell_type": "markdown",
   "id": "harmful-entry",
   "metadata": {},
   "source": [
    ">скор улучшился!"
   ]
  },
  {
   "cell_type": "markdown",
   "id": "variable-orchestra",
   "metadata": {},
   "source": [
    "## ver 2"
   ]
  },
  {
   "cell_type": "markdown",
   "id": "serious-december",
   "metadata": {},
   "source": [
    "Удалим некорректные ритмограммы: 107, 108, 109, 127"
   ]
  },
  {
   "cell_type": "code",
   "execution_count": 18,
   "id": "quick-istanbul",
   "metadata": {},
   "outputs": [
    {
     "data": {
      "text/plain": [
       "5087"
      ]
     },
     "execution_count": 18,
     "metadata": {},
     "output_type": "execute_result"
    }
   ],
   "source": [
    "# количество удаляемых точек\n",
    "len(df[(df.id==107)|(df.id==108)|(df.id==109)|(df.id==127)])"
   ]
  },
  {
   "cell_type": "code",
   "execution_count": 20,
   "id": "introductory-federation",
   "metadata": {},
   "outputs": [
    {
     "name": "stdout",
     "output_type": "stream",
     "text": [
      "Ок, всё корректно, можно отрезать :)\n"
     ]
    }
   ],
   "source": [
    "# test\n",
    "del_cnt = len(df[(df.id==107)|(df.id==108)|(df.id==109)|(df.id==127)])\n",
    "df_cut_len = len(df.drop(df[(df.id==107)|(df.id==108)|(df.id==109)|(df.id==127)].index))\n",
    "if df_cut_len == len(df)-del_cnt:\n",
    "    print('Ок, всё корректно, можно отрезать :)')\n",
    "else:\n",
    "    print('Что-то не так...')"
   ]
  },
  {
   "cell_type": "code",
   "execution_count": 21,
   "id": "regulated-result",
   "metadata": {},
   "outputs": [
    {
     "name": "stdout",
     "output_type": "stream",
     "text": [
      "Было 60487\n",
      "Стало 55400\n"
     ]
    }
   ],
   "source": [
    "if df_cut_len == len(df)-del_cnt:\n",
    "    print(f'Было {len(df)}')\n",
    "    df.drop(df[(df.id==107)|(df.id==108)|(df.id==109)|(df.id==127)].index, inplace=True)\n",
    "    print(f'Стало {len(df)}')"
   ]
  },
  {
   "cell_type": "code",
   "execution_count": 22,
   "id": "strategic-tobago",
   "metadata": {},
   "outputs": [
    {
     "name": "stdout",
     "output_type": "stream",
     "text": [
      "scaler_hypothesis_8.pkl was saved in output directory\n"
     ]
    }
   ],
   "source": [
    "X_v2, y_v2 = make_XY(df)"
   ]
  },
  {
   "cell_type": "code",
   "execution_count": 23,
   "id": "opened-richmond",
   "metadata": {},
   "outputs": [
    {
     "name": "stdout",
     "output_type": "stream",
     "text": [
      "test_score: [0.85705388 0.64327485 0.72302273 0.8424015  0.77566073]\n",
      "mean test_score = 0.7682827383694755\n",
      "current best mean test_score = 0.7718847140739808\n"
     ]
    }
   ],
   "source": [
    "model_v2 = lgb.LGBMClassifier(n_estimators=3860, learning_rate=0.01, random_state=RANDOM_STATE, n_jobs=-1)\n",
    "\n",
    "cv_result = cross_validate(model_v2, X_v2, y_v2, cv=StratifiedKFold(), scoring='f1')\n",
    "\n",
    "print('test_score:', cv_result['test_score'])\n",
    "print('mean test_score =', cv_result['test_score'].mean())\n",
    "print('current best mean test_score = 0.7718847140739808')"
   ]
  },
  {
   "cell_type": "code",
   "execution_count": null,
   "id": "coordinated-gateway",
   "metadata": {},
   "outputs": [],
   "source": []
  }
 ],
 "metadata": {
  "kernelspec": {
   "display_name": "Python 3",
   "language": "python",
   "name": "python3"
  },
  "language_info": {
   "codemirror_mode": {
    "name": "ipython",
    "version": 3
   },
   "file_extension": ".py",
   "mimetype": "text/x-python",
   "name": "python",
   "nbconvert_exporter": "python",
   "pygments_lexer": "ipython3",
   "version": "3.6.9"
  }
 },
 "nbformat": 4,
 "nbformat_minor": 5
}
