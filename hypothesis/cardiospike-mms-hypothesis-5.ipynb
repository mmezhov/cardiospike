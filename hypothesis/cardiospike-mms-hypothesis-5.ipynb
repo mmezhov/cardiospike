{
 "cells": [
  {
   "cell_type": "markdown",
   "id": "insured-january",
   "metadata": {},
   "source": [
    "# Гипотеза\n",
    "\n",
    "Если заменить выбросы в диапазоне  $460>𝑥>963*1.2$ на соответствующее минимальное или максимальное значение границы данного диапазона соответственно, то качество метрики может улучшиться.  \n",
    "Лучшее значение средней метрики f1 на кросс-валидации на текущий момент = 0.7161425084850291 (см. [cardiospike-mms-hypothesis-4](https://github.com/mmezhov/cardiospike/blob/main/hypothesis/cardiospike-mms-hypothesis-4.ipynb))  "
   ]
  },
  {
   "cell_type": "markdown",
   "id": "eligible-variance",
   "metadata": {},
   "source": [
    ">**итог**  \n",
    ">"
   ]
  },
  {
   "cell_type": "code",
   "execution_count": null,
   "id": "divine-jurisdiction",
   "metadata": {},
   "outputs": [],
   "source": []
  }
 ],
 "metadata": {
  "kernelspec": {
   "display_name": "Python 3",
   "language": "python",
   "name": "python3"
  },
  "language_info": {
   "codemirror_mode": {
    "name": "ipython",
    "version": 3
   },
   "file_extension": ".py",
   "mimetype": "text/x-python",
   "name": "python",
   "nbconvert_exporter": "python",
   "pygments_lexer": "ipython3",
   "version": "3.6.9"
  }
 },
 "nbformat": 4,
 "nbformat_minor": 5
}
