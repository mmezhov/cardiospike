{
 "cells": [
  {
   "cell_type": "markdown",
   "id": "breathing-davis",
   "metadata": {
    "papermill": {
     "duration": 0.0345,
     "end_time": "2021-06-18T05:49:24.731740",
     "exception": false,
     "start_time": "2021-06-18T05:49:24.697240",
     "status": "completed"
    },
    "tags": []
   },
   "source": [
    "# Связанные тетрадки\n",
    "- [EDA](https://www.kaggle.com/maximmezhov/cardiospike-eda)\n",
    "- [model_v3](https://www.kaggle.com/maximmezhov/cardiospike-baseline-tuning)"
   ]
  },
  {
   "cell_type": "markdown",
   "id": "rough-arena",
   "metadata": {
    "papermill": {
     "duration": 0.03189,
     "end_time": "2021-06-18T05:49:24.796170",
     "exception": false,
     "start_time": "2021-06-18T05:49:24.764280",
     "status": "completed"
    },
    "tags": []
   },
   "source": [
    "# Гипотеза\n",
    "Подготовленный следующим образом датасет даст лучшее значение метрики на модели v3:  \n",
    "- добавление в качестве признаков четвёртые точки до и после текущей, т.е x-4 и х+4, \n",
    "- а также отклонение для этих точект относительно х: х-(х-4), х-(х+4),\n",
    "- удаление точек выше 1000мс и ниже 400мс\n",
    "\n",
    "Лучшее на текущий момент значение метрики 0.9318277932842765"
   ]
  },
  {
   "cell_type": "code",
   "execution_count": 1,
   "id": "minor-lottery",
   "metadata": {
    "execution": {
     "iopub.execute_input": "2021-06-18T05:49:24.873076Z",
     "iopub.status.busy": "2021-06-18T05:49:24.872178Z",
     "iopub.status.idle": "2021-06-18T05:49:27.059459Z",
     "shell.execute_reply": "2021-06-18T05:49:27.060204Z",
     "shell.execute_reply.started": "2021-06-18T05:08:49.511326Z"
    },
    "papermill": {
     "duration": 2.231526,
     "end_time": "2021-06-18T05:49:27.060521",
     "exception": false,
     "start_time": "2021-06-18T05:49:24.828995",
     "status": "completed"
    },
    "tags": []
   },
   "outputs": [
    {
     "data": {
      "text/html": [
       "<style type='text/css'>\n",
       ".datatable table.frame { margin-bottom: 0; }\n",
       ".datatable table.frame thead { border-bottom: none; }\n",
       ".datatable table.frame tr.coltypes td {  color: #FFFFFF;  line-height: 6px;  padding: 0 0.5em;}\n",
       ".datatable .bool    { background: #DDDD99; }\n",
       ".datatable .object  { background: #565656; }\n",
       ".datatable .int     { background: #5D9E5D; }\n",
       ".datatable .float   { background: #4040CC; }\n",
       ".datatable .str     { background: #CC4040; }\n",
       ".datatable .row_index {  background: var(--jp-border-color3);  border-right: 1px solid var(--jp-border-color0);  color: var(--jp-ui-font-color3);  font-size: 9px;}\n",
       ".datatable .frame tr.coltypes .row_index {  background: var(--jp-border-color0);}\n",
       ".datatable th:nth-child(2) { padding-left: 12px; }\n",
       ".datatable .hellipsis {  color: var(--jp-cell-editor-border-color);}\n",
       ".datatable .vellipsis {  background: var(--jp-layout-color0);  color: var(--jp-cell-editor-border-color);}\n",
       ".datatable .na {  color: var(--jp-cell-editor-border-color);  font-size: 80%;}\n",
       ".datatable .footer { font-size: 9px; }\n",
       ".datatable .frame_dimensions {  background: var(--jp-border-color3);  border-top: 1px solid var(--jp-border-color0);  color: var(--jp-ui-font-color3);  display: inline-block;  opacity: 0.6;  padding: 1px 10px 1px 5px;}\n",
       "</style>\n"
      ],
      "text/plain": [
       "<IPython.core.display.HTML object>"
      ]
     },
     "metadata": {},
     "output_type": "display_data"
    }
   ],
   "source": [
    "import pandas as pd\n",
    "import pickle\n",
    "import lightgbm as lgb\n",
    "\n",
    "from sklearn.preprocessing import StandardScaler\n",
    "from sklearn.model_selection import cross_validate, StratifiedKFold\n",
    "from sklearn.metrics import f1_score"
   ]
  },
  {
   "cell_type": "code",
   "execution_count": 2,
   "id": "allied-karma",
   "metadata": {
    "execution": {
     "iopub.execute_input": "2021-06-18T05:49:27.134051Z",
     "iopub.status.busy": "2021-06-18T05:49:27.133426Z",
     "iopub.status.idle": "2021-06-18T05:49:27.136826Z",
     "shell.execute_reply": "2021-06-18T05:49:27.137308Z",
     "shell.execute_reply.started": "2021-06-18T04:18:13.428004Z"
    },
    "papermill": {
     "duration": 0.040655,
     "end_time": "2021-06-18T05:49:27.137478",
     "exception": false,
     "start_time": "2021-06-18T05:49:27.096823",
     "status": "completed"
    },
    "tags": []
   },
   "outputs": [],
   "source": [
    "# Const\n",
    "RANDOM_STATE = 0"
   ]
  },
  {
   "cell_type": "code",
   "execution_count": 3,
   "id": "defined-notification",
   "metadata": {
    "execution": {
     "iopub.execute_input": "2021-06-18T05:49:27.209920Z",
     "iopub.status.busy": "2021-06-18T05:49:27.209174Z",
     "iopub.status.idle": "2021-06-18T05:49:27.218517Z",
     "shell.execute_reply": "2021-06-18T05:49:27.219082Z",
     "shell.execute_reply.started": "2021-06-18T05:31:39.840930Z"
    },
    "papermill": {
     "duration": 0.047741,
     "end_time": "2021-06-18T05:49:27.219258",
     "exception": false,
     "start_time": "2021-06-18T05:49:27.171517",
     "status": "completed"
    },
    "tags": []
   },
   "outputs": [],
   "source": [
    "def make_XY(df):\n",
    "    \"\"\"\n",
    "    df: dataset\n",
    "    return:\n",
    "    X: numpy array with features, values are scaled\n",
    "    y: numpy array of target labels\n",
    "    \"\"\"\n",
    "    X = df.drop(['y','id','time'], axis=1)\n",
    "    y = df.y.to_numpy()\n",
    "\n",
    "    scaler = StandardScaler().fit(X.to_numpy())\n",
    "    X = scaler.transform(X.to_numpy())\n",
    "\n",
    "    with open('scaler_hypothesis_2.pkl', 'wb') as f:\n",
    "        pickle.dump(scaler, f)\n",
    "        \n",
    "    print('scaler_hypothesis_2.pkl was saved in output directory')\n",
    "\n",
    "    return X, y\n",
    "\n",
    "\n",
    "def get_train_test_indexes(X,y):\n",
    "    \"\"\"\n",
    "    X,y: numpy arrays with features and target\n",
    "    return stratified indexes:\n",
    "        train_indexes: indexes for train data\n",
    "        test_indexes: indexes for test data\n",
    "    \"\"\"\n",
    "    skf = StratifiedKFold()\n",
    "    folds = dict()\n",
    "    for i, (train_indexes, test_indexes) in enumerate(skf.split(X,y)):\n",
    "        folds[i] = {\n",
    "            'train_indexes': train_indexes,\n",
    "            'test_indexes': test_indexes\n",
    "        }\n",
    "    return folds[0]['train_indexes'].tolist(), folds[0]['test_indexes'].tolist()"
   ]
  },
  {
   "cell_type": "markdown",
   "id": "regional-antique",
   "metadata": {
    "papermill": {
     "duration": 0.033326,
     "end_time": "2021-06-18T05:49:27.286691",
     "exception": false,
     "start_time": "2021-06-18T05:49:27.253365",
     "status": "completed"
    },
    "tags": []
   },
   "source": [
    "# Подготовка датасета"
   ]
  },
  {
   "cell_type": "code",
   "execution_count": 4,
   "id": "vietnamese-antarctica",
   "metadata": {
    "execution": {
     "iopub.execute_input": "2021-06-18T05:49:27.359847Z",
     "iopub.status.busy": "2021-06-18T05:49:27.359050Z",
     "iopub.status.idle": "2021-06-18T05:49:32.547532Z",
     "shell.execute_reply": "2021-06-18T05:49:32.546791Z",
     "shell.execute_reply.started": "2021-06-18T04:18:13.459038Z"
    },
    "papermill": {
     "duration": 5.225776,
     "end_time": "2021-06-18T05:49:32.547703",
     "exception": false,
     "start_time": "2021-06-18T05:49:27.321927",
     "status": "completed"
    },
    "tags": []
   },
   "outputs": [],
   "source": [
    "df = pd.read_csv('../input/cardiospikecompetition/train.csv')\n",
    "ids = df.id.unique()\n",
    "for rr_id in ids:\n",
    "    mask = (df.id==rr_id)\n",
    "    df.loc[mask, 'x_diff'] = df[mask].x.diff()\n",
    "    df.loc[mask, 'x_deviation_median'] = df[mask].x.median() - df[mask].x.values\n",
    "    for i in range(1,5):\n",
    "        # добавим в признаки 4 следующие точки\n",
    "        df.loc[mask, f'x+{i}'] = df[mask].x.shift(-i)\n",
    "        # и 4 предыдущие точки\n",
    "        df.loc[mask, f'x-{i}'] = df[mask].x.shift(i)\n",
    "    df.loc[mask, 'x-(x+1)'] = df[mask].x.values - df.loc[mask, 'x+1'].values\n",
    "#     df.loc[mask, 'x-(x-1)'] = df[mask].x.values - df.loc[mask, 'x-1'].values\n",
    "    df.loc[mask, 'x-(x+2)'] = df[mask].x.values - df.loc[mask, 'x+2'].values\n",
    "    df.loc[mask, 'x-(x-2)'] = df[mask].x.values - df.loc[mask, 'x-2'].values\n",
    "    df.loc[mask, 'x-(x+3)'] = df[mask].x.values - df.loc[mask, 'x+3'].values\n",
    "    df.loc[mask, 'x-(x-3)'] = df[mask].x.values - df.loc[mask, 'x-3'].values\n",
    "    df.loc[mask, 'x-(x+4)'] = df[mask].x.values - df.loc[mask, 'x+4'].values\n",
    "    df.loc[mask, 'x-(x-4)'] = df[mask].x.values - df.loc[mask, 'x-4'].values"
   ]
  },
  {
   "cell_type": "code",
   "execution_count": 5,
   "id": "enhanced-coffee",
   "metadata": {
    "execution": {
     "iopub.execute_input": "2021-06-18T05:49:32.624943Z",
     "iopub.status.busy": "2021-06-18T05:49:32.624236Z",
     "iopub.status.idle": "2021-06-18T05:49:32.662256Z",
     "shell.execute_reply": "2021-06-18T05:49:32.662746Z",
     "shell.execute_reply.started": "2021-06-18T04:18:18.883352Z"
    },
    "papermill": {
     "duration": 0.081006,
     "end_time": "2021-06-18T05:49:32.662954",
     "exception": false,
     "start_time": "2021-06-18T05:49:32.581948",
     "status": "completed"
    },
    "tags": []
   },
   "outputs": [
    {
     "name": "stdout",
     "output_type": "stream",
     "text": [
      "TEST\n",
      "- всего ритмограмм в наборе данных 229 штук\n",
      "\n",
      "- в каждой ритмограмме первые и последние 4 строки \n",
      "будут с пропусками из-за отсутствия данных о прошлых и будущих точках для \n",
      "первых и последних 4 точек в радиограмме,\n",
      "следовательно строк с пропусками должно быть 1832 \n",
      "\n",
      "- финальный размер датасета должне быть 58655 \n",
      "\n",
      "смотрим, что получается по факту:\n",
      "df 60487\n",
      "df.dropna 58655\n",
      "разница 1832\n",
      "Итог: по размеру датасет соответствует ожидаемому, нужно ещё выбрать контрольный пример для оценки глазами\n",
      ":)\n"
     ]
    }
   ],
   "source": [
    "print('TEST')\n",
    "print('- всего ритмограмм в наборе данных', len(df.id.unique()), 'штук\\n')\n",
    "print('- в каждой ритмограмме первые и последние 4 строки \\n' \\\n",
    "       'будут с пропусками из-за отсутствия данных о прошлых и будущих точках для \\n' \\\n",
    "      'первых и последних 4 точек в радиограмме,\\n' \\\n",
    "      'следовательно строк с пропусками должно быть', len(df.id.unique())*8, '\\n')\n",
    "print('- финальный размер датасета должне быть', len(df)-len(df.id.unique())*8, '\\n')\n",
    "\n",
    "print('смотрим, что получается по факту:')\n",
    "print('df', len(df))\n",
    "print('df.dropna', len(df.dropna()))\n",
    "print('разница', len(df) - len(df.dropna()))\n",
    "if (len(df)-len(df.id.unique())*8 == len(df.dropna())):\n",
    "    print('Итог: по размеру датасет соответствует ожидаемому, ' \\\n",
    "          'нужно ещё выбрать контрольный пример для оценки глазами')\n",
    "    print(':)')\n",
    "else:\n",
    "    print('Итог: по размерности не сходится... ' \\\n",
    "          'надо проверить алгоритм добавления признаков')\n",
    "    print(':(')"
   ]
  },
  {
   "cell_type": "code",
   "execution_count": 6,
   "id": "stainless-necessity",
   "metadata": {
    "execution": {
     "iopub.execute_input": "2021-06-18T05:49:32.740643Z",
     "iopub.status.busy": "2021-06-18T05:49:32.740000Z",
     "iopub.status.idle": "2021-06-18T05:49:32.821007Z",
     "shell.execute_reply": "2021-06-18T05:49:32.820454Z",
     "shell.execute_reply.started": "2021-06-18T04:18:18.934649Z"
    },
    "papermill": {
     "duration": 0.12388,
     "end_time": "2021-06-18T05:49:32.821160",
     "exception": false,
     "start_time": "2021-06-18T05:49:32.697280",
     "status": "completed"
    },
    "tags": []
   },
   "outputs": [
    {
     "data": {
      "text/html": [
       "<div>\n",
       "<style scoped>\n",
       "    .dataframe tbody tr th:only-of-type {\n",
       "        vertical-align: middle;\n",
       "    }\n",
       "\n",
       "    .dataframe tbody tr th {\n",
       "        vertical-align: top;\n",
       "    }\n",
       "\n",
       "    .dataframe thead th {\n",
       "        text-align: right;\n",
       "    }\n",
       "</style>\n",
       "<table border=\"1\" class=\"dataframe\">\n",
       "  <thead>\n",
       "    <tr style=\"text-align: right;\">\n",
       "      <th></th>\n",
       "      <th>id</th>\n",
       "      <th>time</th>\n",
       "      <th>x</th>\n",
       "      <th>y</th>\n",
       "      <th>x_diff</th>\n",
       "      <th>x_deviation_median</th>\n",
       "      <th>x+1</th>\n",
       "      <th>x-1</th>\n",
       "      <th>x+2</th>\n",
       "      <th>x-2</th>\n",
       "      <th>...</th>\n",
       "      <th>x-3</th>\n",
       "      <th>x+4</th>\n",
       "      <th>x-4</th>\n",
       "      <th>x-(x+1)</th>\n",
       "      <th>x-(x+2)</th>\n",
       "      <th>x-(x-2)</th>\n",
       "      <th>x-(x+3)</th>\n",
       "      <th>x-(x-3)</th>\n",
       "      <th>x-(x+4)</th>\n",
       "      <th>x-(x-4)</th>\n",
       "    </tr>\n",
       "  </thead>\n",
       "  <tbody>\n",
       "    <tr>\n",
       "      <th>2096</th>\n",
       "      <td>3</td>\n",
       "      <td>0</td>\n",
       "      <td>760</td>\n",
       "      <td>0</td>\n",
       "      <td>NaN</td>\n",
       "      <td>28.0</td>\n",
       "      <td>784.0</td>\n",
       "      <td>NaN</td>\n",
       "      <td>772.0</td>\n",
       "      <td>NaN</td>\n",
       "      <td>...</td>\n",
       "      <td>NaN</td>\n",
       "      <td>768.0</td>\n",
       "      <td>NaN</td>\n",
       "      <td>-24.0</td>\n",
       "      <td>-12.0</td>\n",
       "      <td>NaN</td>\n",
       "      <td>0.0</td>\n",
       "      <td>NaN</td>\n",
       "      <td>-8.0</td>\n",
       "      <td>NaN</td>\n",
       "    </tr>\n",
       "    <tr>\n",
       "      <th>2097</th>\n",
       "      <td>3</td>\n",
       "      <td>784</td>\n",
       "      <td>784</td>\n",
       "      <td>0</td>\n",
       "      <td>24.0</td>\n",
       "      <td>4.0</td>\n",
       "      <td>772.0</td>\n",
       "      <td>760.0</td>\n",
       "      <td>760.0</td>\n",
       "      <td>NaN</td>\n",
       "      <td>...</td>\n",
       "      <td>NaN</td>\n",
       "      <td>776.0</td>\n",
       "      <td>NaN</td>\n",
       "      <td>12.0</td>\n",
       "      <td>24.0</td>\n",
       "      <td>NaN</td>\n",
       "      <td>16.0</td>\n",
       "      <td>NaN</td>\n",
       "      <td>8.0</td>\n",
       "      <td>NaN</td>\n",
       "    </tr>\n",
       "    <tr>\n",
       "      <th>2098</th>\n",
       "      <td>3</td>\n",
       "      <td>1556</td>\n",
       "      <td>772</td>\n",
       "      <td>0</td>\n",
       "      <td>-12.0</td>\n",
       "      <td>16.0</td>\n",
       "      <td>760.0</td>\n",
       "      <td>784.0</td>\n",
       "      <td>768.0</td>\n",
       "      <td>760.0</td>\n",
       "      <td>...</td>\n",
       "      <td>NaN</td>\n",
       "      <td>852.0</td>\n",
       "      <td>NaN</td>\n",
       "      <td>12.0</td>\n",
       "      <td>4.0</td>\n",
       "      <td>12.0</td>\n",
       "      <td>-4.0</td>\n",
       "      <td>NaN</td>\n",
       "      <td>-80.0</td>\n",
       "      <td>NaN</td>\n",
       "    </tr>\n",
       "    <tr>\n",
       "      <th>2099</th>\n",
       "      <td>3</td>\n",
       "      <td>2316</td>\n",
       "      <td>760</td>\n",
       "      <td>1</td>\n",
       "      <td>-12.0</td>\n",
       "      <td>28.0</td>\n",
       "      <td>768.0</td>\n",
       "      <td>772.0</td>\n",
       "      <td>776.0</td>\n",
       "      <td>784.0</td>\n",
       "      <td>...</td>\n",
       "      <td>760.0</td>\n",
       "      <td>728.0</td>\n",
       "      <td>NaN</td>\n",
       "      <td>-8.0</td>\n",
       "      <td>-16.0</td>\n",
       "      <td>-24.0</td>\n",
       "      <td>-92.0</td>\n",
       "      <td>0.0</td>\n",
       "      <td>32.0</td>\n",
       "      <td>NaN</td>\n",
       "    </tr>\n",
       "    <tr>\n",
       "      <th>2100</th>\n",
       "      <td>3</td>\n",
       "      <td>3084</td>\n",
       "      <td>768</td>\n",
       "      <td>1</td>\n",
       "      <td>8.0</td>\n",
       "      <td>20.0</td>\n",
       "      <td>776.0</td>\n",
       "      <td>760.0</td>\n",
       "      <td>852.0</td>\n",
       "      <td>772.0</td>\n",
       "      <td>...</td>\n",
       "      <td>784.0</td>\n",
       "      <td>800.0</td>\n",
       "      <td>760.0</td>\n",
       "      <td>-8.0</td>\n",
       "      <td>-84.0</td>\n",
       "      <td>-4.0</td>\n",
       "      <td>40.0</td>\n",
       "      <td>-16.0</td>\n",
       "      <td>-32.0</td>\n",
       "      <td>8.0</td>\n",
       "    </tr>\n",
       "    <tr>\n",
       "      <th>2101</th>\n",
       "      <td>3</td>\n",
       "      <td>3860</td>\n",
       "      <td>776</td>\n",
       "      <td>1</td>\n",
       "      <td>8.0</td>\n",
       "      <td>12.0</td>\n",
       "      <td>852.0</td>\n",
       "      <td>768.0</td>\n",
       "      <td>728.0</td>\n",
       "      <td>760.0</td>\n",
       "      <td>...</td>\n",
       "      <td>772.0</td>\n",
       "      <td>832.0</td>\n",
       "      <td>784.0</td>\n",
       "      <td>-76.0</td>\n",
       "      <td>48.0</td>\n",
       "      <td>16.0</td>\n",
       "      <td>-24.0</td>\n",
       "      <td>4.0</td>\n",
       "      <td>-56.0</td>\n",
       "      <td>-8.0</td>\n",
       "    </tr>\n",
       "    <tr>\n",
       "      <th>2102</th>\n",
       "      <td>3</td>\n",
       "      <td>4712</td>\n",
       "      <td>852</td>\n",
       "      <td>1</td>\n",
       "      <td>76.0</td>\n",
       "      <td>-64.0</td>\n",
       "      <td>728.0</td>\n",
       "      <td>776.0</td>\n",
       "      <td>800.0</td>\n",
       "      <td>768.0</td>\n",
       "      <td>...</td>\n",
       "      <td>760.0</td>\n",
       "      <td>808.0</td>\n",
       "      <td>772.0</td>\n",
       "      <td>124.0</td>\n",
       "      <td>52.0</td>\n",
       "      <td>84.0</td>\n",
       "      <td>20.0</td>\n",
       "      <td>92.0</td>\n",
       "      <td>44.0</td>\n",
       "      <td>80.0</td>\n",
       "    </tr>\n",
       "    <tr>\n",
       "      <th>2103</th>\n",
       "      <td>3</td>\n",
       "      <td>5440</td>\n",
       "      <td>728</td>\n",
       "      <td>1</td>\n",
       "      <td>-124.0</td>\n",
       "      <td>60.0</td>\n",
       "      <td>800.0</td>\n",
       "      <td>852.0</td>\n",
       "      <td>832.0</td>\n",
       "      <td>776.0</td>\n",
       "      <td>...</td>\n",
       "      <td>768.0</td>\n",
       "      <td>800.0</td>\n",
       "      <td>760.0</td>\n",
       "      <td>-72.0</td>\n",
       "      <td>-104.0</td>\n",
       "      <td>-48.0</td>\n",
       "      <td>-80.0</td>\n",
       "      <td>-40.0</td>\n",
       "      <td>-72.0</td>\n",
       "      <td>-32.0</td>\n",
       "    </tr>\n",
       "    <tr>\n",
       "      <th>2104</th>\n",
       "      <td>3</td>\n",
       "      <td>6240</td>\n",
       "      <td>800</td>\n",
       "      <td>1</td>\n",
       "      <td>72.0</td>\n",
       "      <td>-12.0</td>\n",
       "      <td>832.0</td>\n",
       "      <td>728.0</td>\n",
       "      <td>808.0</td>\n",
       "      <td>852.0</td>\n",
       "      <td>...</td>\n",
       "      <td>776.0</td>\n",
       "      <td>840.0</td>\n",
       "      <td>768.0</td>\n",
       "      <td>-32.0</td>\n",
       "      <td>-8.0</td>\n",
       "      <td>-52.0</td>\n",
       "      <td>0.0</td>\n",
       "      <td>24.0</td>\n",
       "      <td>-40.0</td>\n",
       "      <td>32.0</td>\n",
       "    </tr>\n",
       "    <tr>\n",
       "      <th>2105</th>\n",
       "      <td>3</td>\n",
       "      <td>7072</td>\n",
       "      <td>832</td>\n",
       "      <td>1</td>\n",
       "      <td>32.0</td>\n",
       "      <td>-44.0</td>\n",
       "      <td>808.0</td>\n",
       "      <td>800.0</td>\n",
       "      <td>800.0</td>\n",
       "      <td>728.0</td>\n",
       "      <td>...</td>\n",
       "      <td>852.0</td>\n",
       "      <td>808.0</td>\n",
       "      <td>776.0</td>\n",
       "      <td>24.0</td>\n",
       "      <td>32.0</td>\n",
       "      <td>104.0</td>\n",
       "      <td>-8.0</td>\n",
       "      <td>-20.0</td>\n",
       "      <td>24.0</td>\n",
       "      <td>56.0</td>\n",
       "    </tr>\n",
       "  </tbody>\n",
       "</table>\n",
       "<p>10 rows × 21 columns</p>\n",
       "</div>"
      ],
      "text/plain": [
       "      id  time    x  y  x_diff  x_deviation_median    x+1    x-1    x+2  \\\n",
       "2096   3     0  760  0     NaN                28.0  784.0    NaN  772.0   \n",
       "2097   3   784  784  0    24.0                 4.0  772.0  760.0  760.0   \n",
       "2098   3  1556  772  0   -12.0                16.0  760.0  784.0  768.0   \n",
       "2099   3  2316  760  1   -12.0                28.0  768.0  772.0  776.0   \n",
       "2100   3  3084  768  1     8.0                20.0  776.0  760.0  852.0   \n",
       "2101   3  3860  776  1     8.0                12.0  852.0  768.0  728.0   \n",
       "2102   3  4712  852  1    76.0               -64.0  728.0  776.0  800.0   \n",
       "2103   3  5440  728  1  -124.0                60.0  800.0  852.0  832.0   \n",
       "2104   3  6240  800  1    72.0               -12.0  832.0  728.0  808.0   \n",
       "2105   3  7072  832  1    32.0               -44.0  808.0  800.0  800.0   \n",
       "\n",
       "        x-2  ...    x-3    x+4    x-4  x-(x+1)  x-(x+2)  x-(x-2)  x-(x+3)  \\\n",
       "2096    NaN  ...    NaN  768.0    NaN    -24.0    -12.0      NaN      0.0   \n",
       "2097    NaN  ...    NaN  776.0    NaN     12.0     24.0      NaN     16.0   \n",
       "2098  760.0  ...    NaN  852.0    NaN     12.0      4.0     12.0     -4.0   \n",
       "2099  784.0  ...  760.0  728.0    NaN     -8.0    -16.0    -24.0    -92.0   \n",
       "2100  772.0  ...  784.0  800.0  760.0     -8.0    -84.0     -4.0     40.0   \n",
       "2101  760.0  ...  772.0  832.0  784.0    -76.0     48.0     16.0    -24.0   \n",
       "2102  768.0  ...  760.0  808.0  772.0    124.0     52.0     84.0     20.0   \n",
       "2103  776.0  ...  768.0  800.0  760.0    -72.0   -104.0    -48.0    -80.0   \n",
       "2104  852.0  ...  776.0  840.0  768.0    -32.0     -8.0    -52.0      0.0   \n",
       "2105  728.0  ...  852.0  808.0  776.0     24.0     32.0    104.0     -8.0   \n",
       "\n",
       "      x-(x-3)  x-(x+4)  x-(x-4)  \n",
       "2096      NaN     -8.0      NaN  \n",
       "2097      NaN      8.0      NaN  \n",
       "2098      NaN    -80.0      NaN  \n",
       "2099      0.0     32.0      NaN  \n",
       "2100    -16.0    -32.0      8.0  \n",
       "2101      4.0    -56.0     -8.0  \n",
       "2102     92.0     44.0     80.0  \n",
       "2103    -40.0    -72.0    -32.0  \n",
       "2104     24.0    -40.0     32.0  \n",
       "2105    -20.0     24.0     56.0  \n",
       "\n",
       "[10 rows x 21 columns]"
      ]
     },
     "metadata": {},
     "output_type": "display_data"
    },
    {
     "data": {
      "text/html": [
       "<div>\n",
       "<style scoped>\n",
       "    .dataframe tbody tr th:only-of-type {\n",
       "        vertical-align: middle;\n",
       "    }\n",
       "\n",
       "    .dataframe tbody tr th {\n",
       "        vertical-align: top;\n",
       "    }\n",
       "\n",
       "    .dataframe thead th {\n",
       "        text-align: right;\n",
       "    }\n",
       "</style>\n",
       "<table border=\"1\" class=\"dataframe\">\n",
       "  <thead>\n",
       "    <tr style=\"text-align: right;\">\n",
       "      <th></th>\n",
       "      <th>id</th>\n",
       "      <th>time</th>\n",
       "      <th>x</th>\n",
       "      <th>y</th>\n",
       "      <th>x_diff</th>\n",
       "      <th>x_deviation_median</th>\n",
       "      <th>x+1</th>\n",
       "      <th>x-1</th>\n",
       "      <th>x+2</th>\n",
       "      <th>x-2</th>\n",
       "      <th>...</th>\n",
       "      <th>x-3</th>\n",
       "      <th>x+4</th>\n",
       "      <th>x-4</th>\n",
       "      <th>x-(x+1)</th>\n",
       "      <th>x-(x+2)</th>\n",
       "      <th>x-(x-2)</th>\n",
       "      <th>x-(x+3)</th>\n",
       "      <th>x-(x-3)</th>\n",
       "      <th>x-(x+4)</th>\n",
       "      <th>x-(x-4)</th>\n",
       "    </tr>\n",
       "  </thead>\n",
       "  <tbody>\n",
       "    <tr>\n",
       "      <th>2191</th>\n",
       "      <td>3</td>\n",
       "      <td>74916</td>\n",
       "      <td>848</td>\n",
       "      <td>1</td>\n",
       "      <td>68.0</td>\n",
       "      <td>-60.0</td>\n",
       "      <td>736.0</td>\n",
       "      <td>780.0</td>\n",
       "      <td>768.0</td>\n",
       "      <td>808.0</td>\n",
       "      <td>...</td>\n",
       "      <td>792.0</td>\n",
       "      <td>780.0</td>\n",
       "      <td>808.0</td>\n",
       "      <td>112.0</td>\n",
       "      <td>80.0</td>\n",
       "      <td>40.0</td>\n",
       "      <td>52.0</td>\n",
       "      <td>56.0</td>\n",
       "      <td>68.0</td>\n",
       "      <td>40.0</td>\n",
       "    </tr>\n",
       "    <tr>\n",
       "      <th>2192</th>\n",
       "      <td>3</td>\n",
       "      <td>75652</td>\n",
       "      <td>736</td>\n",
       "      <td>1</td>\n",
       "      <td>-112.0</td>\n",
       "      <td>52.0</td>\n",
       "      <td>768.0</td>\n",
       "      <td>848.0</td>\n",
       "      <td>796.0</td>\n",
       "      <td>780.0</td>\n",
       "      <td>...</td>\n",
       "      <td>808.0</td>\n",
       "      <td>784.0</td>\n",
       "      <td>792.0</td>\n",
       "      <td>-32.0</td>\n",
       "      <td>-60.0</td>\n",
       "      <td>-44.0</td>\n",
       "      <td>-44.0</td>\n",
       "      <td>-72.0</td>\n",
       "      <td>-48.0</td>\n",
       "      <td>-56.0</td>\n",
       "    </tr>\n",
       "    <tr>\n",
       "      <th>2193</th>\n",
       "      <td>3</td>\n",
       "      <td>76420</td>\n",
       "      <td>768</td>\n",
       "      <td>1</td>\n",
       "      <td>32.0</td>\n",
       "      <td>20.0</td>\n",
       "      <td>796.0</td>\n",
       "      <td>736.0</td>\n",
       "      <td>780.0</td>\n",
       "      <td>848.0</td>\n",
       "      <td>...</td>\n",
       "      <td>780.0</td>\n",
       "      <td>796.0</td>\n",
       "      <td>808.0</td>\n",
       "      <td>-28.0</td>\n",
       "      <td>-12.0</td>\n",
       "      <td>-80.0</td>\n",
       "      <td>-16.0</td>\n",
       "      <td>-12.0</td>\n",
       "      <td>-28.0</td>\n",
       "      <td>-40.0</td>\n",
       "    </tr>\n",
       "    <tr>\n",
       "      <th>2194</th>\n",
       "      <td>3</td>\n",
       "      <td>77216</td>\n",
       "      <td>796</td>\n",
       "      <td>1</td>\n",
       "      <td>28.0</td>\n",
       "      <td>-8.0</td>\n",
       "      <td>780.0</td>\n",
       "      <td>768.0</td>\n",
       "      <td>784.0</td>\n",
       "      <td>736.0</td>\n",
       "      <td>...</td>\n",
       "      <td>848.0</td>\n",
       "      <td>772.0</td>\n",
       "      <td>780.0</td>\n",
       "      <td>16.0</td>\n",
       "      <td>12.0</td>\n",
       "      <td>60.0</td>\n",
       "      <td>0.0</td>\n",
       "      <td>-52.0</td>\n",
       "      <td>24.0</td>\n",
       "      <td>16.0</td>\n",
       "    </tr>\n",
       "    <tr>\n",
       "      <th>2195</th>\n",
       "      <td>3</td>\n",
       "      <td>77996</td>\n",
       "      <td>780</td>\n",
       "      <td>1</td>\n",
       "      <td>-16.0</td>\n",
       "      <td>8.0</td>\n",
       "      <td>784.0</td>\n",
       "      <td>796.0</td>\n",
       "      <td>796.0</td>\n",
       "      <td>768.0</td>\n",
       "      <td>...</td>\n",
       "      <td>736.0</td>\n",
       "      <td>804.0</td>\n",
       "      <td>848.0</td>\n",
       "      <td>-4.0</td>\n",
       "      <td>-16.0</td>\n",
       "      <td>12.0</td>\n",
       "      <td>8.0</td>\n",
       "      <td>44.0</td>\n",
       "      <td>-24.0</td>\n",
       "      <td>-68.0</td>\n",
       "    </tr>\n",
       "    <tr>\n",
       "      <th>2196</th>\n",
       "      <td>3</td>\n",
       "      <td>78780</td>\n",
       "      <td>784</td>\n",
       "      <td>1</td>\n",
       "      <td>4.0</td>\n",
       "      <td>4.0</td>\n",
       "      <td>796.0</td>\n",
       "      <td>780.0</td>\n",
       "      <td>772.0</td>\n",
       "      <td>796.0</td>\n",
       "      <td>...</td>\n",
       "      <td>768.0</td>\n",
       "      <td>796.0</td>\n",
       "      <td>736.0</td>\n",
       "      <td>-12.0</td>\n",
       "      <td>12.0</td>\n",
       "      <td>-12.0</td>\n",
       "      <td>-20.0</td>\n",
       "      <td>16.0</td>\n",
       "      <td>-12.0</td>\n",
       "      <td>48.0</td>\n",
       "    </tr>\n",
       "    <tr>\n",
       "      <th>2197</th>\n",
       "      <td>3</td>\n",
       "      <td>79576</td>\n",
       "      <td>796</td>\n",
       "      <td>0</td>\n",
       "      <td>12.0</td>\n",
       "      <td>-8.0</td>\n",
       "      <td>772.0</td>\n",
       "      <td>784.0</td>\n",
       "      <td>804.0</td>\n",
       "      <td>780.0</td>\n",
       "      <td>...</td>\n",
       "      <td>796.0</td>\n",
       "      <td>NaN</td>\n",
       "      <td>768.0</td>\n",
       "      <td>24.0</td>\n",
       "      <td>-8.0</td>\n",
       "      <td>16.0</td>\n",
       "      <td>0.0</td>\n",
       "      <td>0.0</td>\n",
       "      <td>NaN</td>\n",
       "      <td>28.0</td>\n",
       "    </tr>\n",
       "    <tr>\n",
       "      <th>2198</th>\n",
       "      <td>3</td>\n",
       "      <td>80348</td>\n",
       "      <td>772</td>\n",
       "      <td>0</td>\n",
       "      <td>-24.0</td>\n",
       "      <td>16.0</td>\n",
       "      <td>804.0</td>\n",
       "      <td>796.0</td>\n",
       "      <td>796.0</td>\n",
       "      <td>784.0</td>\n",
       "      <td>...</td>\n",
       "      <td>780.0</td>\n",
       "      <td>NaN</td>\n",
       "      <td>796.0</td>\n",
       "      <td>-32.0</td>\n",
       "      <td>-24.0</td>\n",
       "      <td>-12.0</td>\n",
       "      <td>NaN</td>\n",
       "      <td>-8.0</td>\n",
       "      <td>NaN</td>\n",
       "      <td>-24.0</td>\n",
       "    </tr>\n",
       "    <tr>\n",
       "      <th>2199</th>\n",
       "      <td>3</td>\n",
       "      <td>81152</td>\n",
       "      <td>804</td>\n",
       "      <td>0</td>\n",
       "      <td>32.0</td>\n",
       "      <td>-16.0</td>\n",
       "      <td>796.0</td>\n",
       "      <td>772.0</td>\n",
       "      <td>NaN</td>\n",
       "      <td>796.0</td>\n",
       "      <td>...</td>\n",
       "      <td>784.0</td>\n",
       "      <td>NaN</td>\n",
       "      <td>780.0</td>\n",
       "      <td>8.0</td>\n",
       "      <td>NaN</td>\n",
       "      <td>8.0</td>\n",
       "      <td>NaN</td>\n",
       "      <td>20.0</td>\n",
       "      <td>NaN</td>\n",
       "      <td>24.0</td>\n",
       "    </tr>\n",
       "    <tr>\n",
       "      <th>2200</th>\n",
       "      <td>3</td>\n",
       "      <td>81948</td>\n",
       "      <td>796</td>\n",
       "      <td>0</td>\n",
       "      <td>-8.0</td>\n",
       "      <td>-8.0</td>\n",
       "      <td>NaN</td>\n",
       "      <td>804.0</td>\n",
       "      <td>NaN</td>\n",
       "      <td>772.0</td>\n",
       "      <td>...</td>\n",
       "      <td>796.0</td>\n",
       "      <td>NaN</td>\n",
       "      <td>784.0</td>\n",
       "      <td>NaN</td>\n",
       "      <td>NaN</td>\n",
       "      <td>24.0</td>\n",
       "      <td>NaN</td>\n",
       "      <td>0.0</td>\n",
       "      <td>NaN</td>\n",
       "      <td>12.0</td>\n",
       "    </tr>\n",
       "  </tbody>\n",
       "</table>\n",
       "<p>10 rows × 21 columns</p>\n",
       "</div>"
      ],
      "text/plain": [
       "      id   time    x  y  x_diff  x_deviation_median    x+1    x-1    x+2  \\\n",
       "2191   3  74916  848  1    68.0               -60.0  736.0  780.0  768.0   \n",
       "2192   3  75652  736  1  -112.0                52.0  768.0  848.0  796.0   \n",
       "2193   3  76420  768  1    32.0                20.0  796.0  736.0  780.0   \n",
       "2194   3  77216  796  1    28.0                -8.0  780.0  768.0  784.0   \n",
       "2195   3  77996  780  1   -16.0                 8.0  784.0  796.0  796.0   \n",
       "2196   3  78780  784  1     4.0                 4.0  796.0  780.0  772.0   \n",
       "2197   3  79576  796  0    12.0                -8.0  772.0  784.0  804.0   \n",
       "2198   3  80348  772  0   -24.0                16.0  804.0  796.0  796.0   \n",
       "2199   3  81152  804  0    32.0               -16.0  796.0  772.0    NaN   \n",
       "2200   3  81948  796  0    -8.0                -8.0    NaN  804.0    NaN   \n",
       "\n",
       "        x-2  ...    x-3    x+4    x-4  x-(x+1)  x-(x+2)  x-(x-2)  x-(x+3)  \\\n",
       "2191  808.0  ...  792.0  780.0  808.0    112.0     80.0     40.0     52.0   \n",
       "2192  780.0  ...  808.0  784.0  792.0    -32.0    -60.0    -44.0    -44.0   \n",
       "2193  848.0  ...  780.0  796.0  808.0    -28.0    -12.0    -80.0    -16.0   \n",
       "2194  736.0  ...  848.0  772.0  780.0     16.0     12.0     60.0      0.0   \n",
       "2195  768.0  ...  736.0  804.0  848.0     -4.0    -16.0     12.0      8.0   \n",
       "2196  796.0  ...  768.0  796.0  736.0    -12.0     12.0    -12.0    -20.0   \n",
       "2197  780.0  ...  796.0    NaN  768.0     24.0     -8.0     16.0      0.0   \n",
       "2198  784.0  ...  780.0    NaN  796.0    -32.0    -24.0    -12.0      NaN   \n",
       "2199  796.0  ...  784.0    NaN  780.0      8.0      NaN      8.0      NaN   \n",
       "2200  772.0  ...  796.0    NaN  784.0      NaN      NaN     24.0      NaN   \n",
       "\n",
       "      x-(x-3)  x-(x+4)  x-(x-4)  \n",
       "2191     56.0     68.0     40.0  \n",
       "2192    -72.0    -48.0    -56.0  \n",
       "2193    -12.0    -28.0    -40.0  \n",
       "2194    -52.0     24.0     16.0  \n",
       "2195     44.0    -24.0    -68.0  \n",
       "2196     16.0    -12.0     48.0  \n",
       "2197      0.0      NaN     28.0  \n",
       "2198     -8.0      NaN    -24.0  \n",
       "2199     20.0      NaN     24.0  \n",
       "2200      0.0      NaN     12.0  \n",
       "\n",
       "[10 rows x 21 columns]"
      ]
     },
     "metadata": {},
     "output_type": "display_data"
    }
   ],
   "source": [
    "# контрольный пример для оценки глазами\n",
    "mask = (df.id==3)\n",
    "display(df[mask].head(10))\n",
    "display(df[mask].tail(10))"
   ]
  },
  {
   "cell_type": "code",
   "execution_count": 7,
   "id": "fiscal-option",
   "metadata": {
    "execution": {
     "iopub.execute_input": "2021-06-18T05:49:32.898291Z",
     "iopub.status.busy": "2021-06-18T05:49:32.897592Z",
     "iopub.status.idle": "2021-06-18T05:49:32.909419Z",
     "shell.execute_reply": "2021-06-18T05:49:32.909917Z",
     "shell.execute_reply.started": "2021-06-18T04:18:19.029477Z"
    },
    "papermill": {
     "duration": 0.053139,
     "end_time": "2021-06-18T05:49:32.910109",
     "exception": false,
     "start_time": "2021-06-18T05:49:32.856970",
     "status": "completed"
    },
    "tags": []
   },
   "outputs": [],
   "source": [
    "df.dropna(inplace=True)"
   ]
  },
  {
   "cell_type": "code",
   "execution_count": 8,
   "id": "beginning-effect",
   "metadata": {
    "execution": {
     "iopub.execute_input": "2021-06-18T05:49:32.987120Z",
     "iopub.status.busy": "2021-06-18T05:49:32.986304Z",
     "iopub.status.idle": "2021-06-18T05:49:32.997531Z",
     "shell.execute_reply": "2021-06-18T05:49:32.996954Z",
     "shell.execute_reply.started": "2021-06-18T04:18:19.045641Z"
    },
    "papermill": {
     "duration": 0.051447,
     "end_time": "2021-06-18T05:49:32.997681",
     "exception": false,
     "start_time": "2021-06-18T05:49:32.946234",
     "status": "completed"
    },
    "tags": []
   },
   "outputs": [
    {
     "data": {
      "text/plain": [
       "0    10249\n",
       "Name: y, dtype: int64"
      ]
     },
     "execution_count": 8,
     "metadata": {},
     "output_type": "execute_result"
    }
   ],
   "source": [
    "# проверим сколько точек будет удалено как выбросы и нет ли в них точек с у=1\n",
    "df[(df.x > 1030)|(df.x < 400)].y.value_counts()"
   ]
  },
  {
   "cell_type": "code",
   "execution_count": 9,
   "id": "bright-niagara",
   "metadata": {
    "execution": {
     "iopub.execute_input": "2021-06-18T05:49:33.076371Z",
     "iopub.status.busy": "2021-06-18T05:49:33.075363Z",
     "iopub.status.idle": "2021-06-18T05:49:33.096016Z",
     "shell.execute_reply": "2021-06-18T05:49:33.096533Z",
     "shell.execute_reply.started": "2021-06-18T04:18:19.066108Z"
    },
    "papermill": {
     "duration": 0.06222,
     "end_time": "2021-06-18T05:49:33.096704",
     "exception": false,
     "start_time": "2021-06-18T05:49:33.034484",
     "status": "completed"
    },
    "tags": []
   },
   "outputs": [
    {
     "name": "stdout",
     "output_type": "stream",
     "text": [
      "True\n"
     ]
    }
   ],
   "source": [
    "# test\n",
    "if (len(df) - len(df.drop(df[(df.x > 1030)|(df.x < 400)].index))) == 10249:\n",
    "    print('True')\n",
    "else:\n",
    "    print('False')"
   ]
  },
  {
   "cell_type": "code",
   "execution_count": 10,
   "id": "further-visitor",
   "metadata": {
    "execution": {
     "iopub.execute_input": "2021-06-18T05:49:33.178262Z",
     "iopub.status.busy": "2021-06-18T05:49:33.173232Z",
     "iopub.status.idle": "2021-06-18T05:49:33.186966Z",
     "shell.execute_reply": "2021-06-18T05:49:33.186190Z",
     "shell.execute_reply.started": "2021-06-18T04:18:19.091647Z"
    },
    "papermill": {
     "duration": 0.054897,
     "end_time": "2021-06-18T05:49:33.187121",
     "exception": false,
     "start_time": "2021-06-18T05:49:33.132224",
     "status": "completed"
    },
    "tags": []
   },
   "outputs": [],
   "source": [
    "# delete outliers\n",
    "df.drop(df[(df.x > 1030)|(df.x < 400)].index, inplace=True)"
   ]
  },
  {
   "cell_type": "code",
   "execution_count": 11,
   "id": "educated-evans",
   "metadata": {
    "execution": {
     "iopub.execute_input": "2021-06-18T05:49:33.264611Z",
     "iopub.status.busy": "2021-06-18T05:49:33.263973Z",
     "iopub.status.idle": "2021-06-18T05:49:33.280985Z",
     "shell.execute_reply": "2021-06-18T05:49:33.281505Z",
     "shell.execute_reply.started": "2021-06-18T04:18:19.110445Z"
    },
    "papermill": {
     "duration": 0.058456,
     "end_time": "2021-06-18T05:49:33.281679",
     "exception": false,
     "start_time": "2021-06-18T05:49:33.223223",
     "status": "completed"
    },
    "tags": []
   },
   "outputs": [
    {
     "name": "stdout",
     "output_type": "stream",
     "text": [
      "<class 'pandas.core.frame.DataFrame'>\n",
      "Int64Index: 48406 entries, 4 to 60482\n",
      "Data columns (total 21 columns):\n",
      " #   Column              Non-Null Count  Dtype  \n",
      "---  ------              --------------  -----  \n",
      " 0   id                  48406 non-null  int64  \n",
      " 1   time                48406 non-null  int64  \n",
      " 2   x                   48406 non-null  int64  \n",
      " 3   y                   48406 non-null  int64  \n",
      " 4   x_diff              48406 non-null  float64\n",
      " 5   x_deviation_median  48406 non-null  float64\n",
      " 6   x+1                 48406 non-null  float64\n",
      " 7   x-1                 48406 non-null  float64\n",
      " 8   x+2                 48406 non-null  float64\n",
      " 9   x-2                 48406 non-null  float64\n",
      " 10  x+3                 48406 non-null  float64\n",
      " 11  x-3                 48406 non-null  float64\n",
      " 12  x+4                 48406 non-null  float64\n",
      " 13  x-4                 48406 non-null  float64\n",
      " 14  x-(x+1)             48406 non-null  float64\n",
      " 15  x-(x+2)             48406 non-null  float64\n",
      " 16  x-(x-2)             48406 non-null  float64\n",
      " 17  x-(x+3)             48406 non-null  float64\n",
      " 18  x-(x-3)             48406 non-null  float64\n",
      " 19  x-(x+4)             48406 non-null  float64\n",
      " 20  x-(x-4)             48406 non-null  float64\n",
      "dtypes: float64(17), int64(4)\n",
      "memory usage: 8.1 MB\n"
     ]
    }
   ],
   "source": [
    "df.info()"
   ]
  },
  {
   "cell_type": "code",
   "execution_count": 12,
   "id": "blond-conversation",
   "metadata": {
    "execution": {
     "iopub.execute_input": "2021-06-18T05:49:33.360621Z",
     "iopub.status.busy": "2021-06-18T05:49:33.359488Z",
     "iopub.status.idle": "2021-06-18T05:49:34.297479Z",
     "shell.execute_reply": "2021-06-18T05:49:34.296856Z",
     "shell.execute_reply.started": "2021-06-18T04:18:19.135868Z"
    },
    "papermill": {
     "duration": 0.979509,
     "end_time": "2021-06-18T05:49:34.297618",
     "exception": false,
     "start_time": "2021-06-18T05:49:33.318109",
     "status": "completed"
    },
    "tags": []
   },
   "outputs": [],
   "source": [
    "# сохраним датасет в с текущими признаками, предварительно удалив строки с пропусками\n",
    "with open('dataset_v3.pkl', 'wb') as f:\n",
    "    pickle.dump(df, f)\n",
    "    \n",
    "df.to_csv('dataset_v3.csv')"
   ]
  },
  {
   "cell_type": "markdown",
   "id": "quantitative-david",
   "metadata": {
    "papermill": {
     "duration": 0.036919,
     "end_time": "2021-06-18T05:49:34.370474",
     "exception": false,
     "start_time": "2021-06-18T05:49:34.333555",
     "status": "completed"
    },
    "tags": []
   },
   "source": [
    "# X, y"
   ]
  },
  {
   "cell_type": "code",
   "execution_count": 13,
   "id": "altered-collective",
   "metadata": {
    "execution": {
     "iopub.execute_input": "2021-06-18T05:49:34.454611Z",
     "iopub.status.busy": "2021-06-18T05:49:34.453869Z",
     "iopub.status.idle": "2021-06-18T05:49:34.516301Z",
     "shell.execute_reply": "2021-06-18T05:49:34.515613Z",
     "shell.execute_reply.started": "2021-06-18T04:20:44.970354Z"
    },
    "papermill": {
     "duration": 0.107344,
     "end_time": "2021-06-18T05:49:34.516444",
     "exception": false,
     "start_time": "2021-06-18T05:49:34.409100",
     "status": "completed"
    },
    "tags": []
   },
   "outputs": [
    {
     "name": "stdout",
     "output_type": "stream",
     "text": [
      "scaler_hypothesis_2.pkl was saved in output directory\n",
      "train (38724, 18) (38724,)\n",
      "test (9682, 18) (9682,)\n"
     ]
    }
   ],
   "source": [
    "# make X and y\n",
    "X,y = make_XY(df)\n",
    "\n",
    "# make train and test datasets\n",
    "train_indexes, test_indexes = get_train_test_indexes(X,y)\n",
    "X_train = X[train_indexes]\n",
    "X_test = X[test_indexes]\n",
    "y_train = y[train_indexes]\n",
    "y_test = y[test_indexes]\n",
    "\n",
    "print('train', X_train.shape, y_train.shape)\n",
    "print('test', X_test.shape, y_test.shape)"
   ]
  },
  {
   "cell_type": "markdown",
   "id": "industrial-facing",
   "metadata": {
    "papermill": {
     "duration": 0.036125,
     "end_time": "2021-06-18T05:49:34.590078",
     "exception": false,
     "start_time": "2021-06-18T05:49:34.553953",
     "status": "completed"
    },
    "tags": []
   },
   "source": [
    "# Cross validation"
   ]
  },
  {
   "cell_type": "markdown",
   "id": "floppy-south",
   "metadata": {
    "papermill": {
     "duration": 0.037174,
     "end_time": "2021-06-18T05:49:34.664577",
     "exception": false,
     "start_time": "2021-06-18T05:49:34.627403",
     "status": "completed"
    },
    "tags": []
   },
   "source": [
    "## baseline params"
   ]
  },
  {
   "cell_type": "code",
   "execution_count": 14,
   "id": "monetary-melissa",
   "metadata": {
    "execution": {
     "iopub.execute_input": "2021-06-18T05:49:34.744970Z",
     "iopub.status.busy": "2021-06-18T05:49:34.744256Z",
     "iopub.status.idle": "2021-06-18T05:49:40.270489Z",
     "shell.execute_reply": "2021-06-18T05:49:40.271083Z",
     "shell.execute_reply.started": "2021-06-18T04:29:59.602231Z"
    },
    "papermill": {
     "duration": 5.570354,
     "end_time": "2021-06-18T05:49:40.271286",
     "exception": false,
     "start_time": "2021-06-18T05:49:34.700932",
     "status": "completed"
    },
    "tags": []
   },
   "outputs": [
    {
     "name": "stdout",
     "output_type": "stream",
     "text": [
      "test_score: [0.9368932  0.82687739 0.83338498 0.91777709 0.9174672 ]\n",
      "mean test_score = 0.8864799732836716\n"
     ]
    }
   ],
   "source": [
    "# baseline on new dataset version 3\n",
    "baseline = lgb.LGBMClassifier(random_state=RANDOM_STATE, n_jobs=-1, n_estimators=268)\n",
    "\n",
    "cv_result = cross_validate(baseline, X, y, cv=StratifiedKFold(), scoring='f1_micro')\n",
    "\n",
    "print('test_score:', cv_result['test_score'])\n",
    "print('mean test_score =', cv_result['test_score'].mean())"
   ]
  },
  {
   "cell_type": "code",
   "execution_count": 15,
   "id": "opened-merchant",
   "metadata": {
    "execution": {
     "iopub.execute_input": "2021-06-18T05:49:40.353635Z",
     "iopub.status.busy": "2021-06-18T05:49:40.352905Z",
     "iopub.status.idle": "2021-06-18T05:49:42.742744Z",
     "shell.execute_reply": "2021-06-18T05:49:42.743339Z",
     "shell.execute_reply.started": "2021-06-18T04:30:18.881057Z"
    },
    "papermill": {
     "duration": 2.433627,
     "end_time": "2021-06-18T05:49:42.743535",
     "exception": false,
     "start_time": "2021-06-18T05:49:40.309908",
     "status": "completed"
    },
    "tags": []
   },
   "outputs": [
    {
     "name": "stdout",
     "output_type": "stream",
     "text": [
      "test_score: [0.93565379 0.8372069  0.83617395 0.9174672  0.91777709]\n",
      "mean test_score = 0.8888557865139852\n"
     ]
    }
   ],
   "source": [
    "# LGBMClassifier with default params\n",
    "baseline = lgb.LGBMClassifier(random_state=RANDOM_STATE, n_jobs=-1)\n",
    "\n",
    "cv_result = cross_validate(baseline, X, y, cv=StratifiedKFold(), scoring='f1_micro')\n",
    "\n",
    "print('test_score:', cv_result['test_score'])\n",
    "print('mean test_score =', cv_result['test_score'].mean())"
   ]
  },
  {
   "cell_type": "markdown",
   "id": "revolutionary-suspect",
   "metadata": {
    "papermill": {
     "duration": 0.037692,
     "end_time": "2021-06-18T05:49:42.820161",
     "exception": false,
     "start_time": "2021-06-18T05:49:42.782469",
     "status": "completed"
    },
    "tags": []
   },
   "source": [
    "> качество на кросс-валидации первоначального [бэйзлайна](https://www.kaggle.com/maximmezhov/cardiospike-baseline) с параметрами по-умолчанию было следующим:  \n",
    "> `test_score: [0.93030534, 0.88065635, 0.83329104, 0.91380477, 0.92023346]`  \n",
    "> mean test_score = 0.895658192"
   ]
  },
  {
   "cell_type": "markdown",
   "id": "involved-selling",
   "metadata": {
    "papermill": {
     "duration": 0.038208,
     "end_time": "2021-06-18T05:49:42.897562",
     "exception": false,
     "start_time": "2021-06-18T05:49:42.859354",
     "status": "completed"
    },
    "tags": []
   },
   "source": [
    "> Таким образом, подход, когда в датасете включены 4 точки до и после, удалены точки выше 1030 и ниже 400 даёт в среднем качество чуть хуже, чем 3 точки до и после и без удаления выбрасов."
   ]
  },
  {
   "cell_type": "markdown",
   "id": "inclusive-economics",
   "metadata": {
    "papermill": {
     "duration": 0.036581,
     "end_time": "2021-06-18T05:49:42.971833",
     "exception": false,
     "start_time": "2021-06-18T05:49:42.935252",
     "status": "completed"
    },
    "tags": []
   },
   "source": [
    "# Попробуем оставить 4 точки до и после, но не удалять выбросы"
   ]
  },
  {
   "cell_type": "markdown",
   "id": "collaborative-landscape",
   "metadata": {
    "papermill": {
     "duration": 0.03795,
     "end_time": "2021-06-18T05:49:43.046435",
     "exception": false,
     "start_time": "2021-06-18T05:49:43.008485",
     "status": "completed"
    },
    "tags": []
   },
   "source": [
    "## Подготовка датасета"
   ]
  },
  {
   "cell_type": "code",
   "execution_count": 16,
   "id": "sustained-applicant",
   "metadata": {
    "execution": {
     "iopub.execute_input": "2021-06-18T05:49:43.134193Z",
     "iopub.status.busy": "2021-06-18T05:49:43.133439Z",
     "iopub.status.idle": "2021-06-18T05:49:48.319791Z",
     "shell.execute_reply": "2021-06-18T05:49:48.319187Z",
     "shell.execute_reply.started": "2021-06-18T04:44:57.031387Z"
    },
    "papermill": {
     "duration": 5.234524,
     "end_time": "2021-06-18T05:49:48.319938",
     "exception": false,
     "start_time": "2021-06-18T05:49:43.085414",
     "status": "completed"
    },
    "tags": []
   },
   "outputs": [],
   "source": [
    "df = pd.read_csv('../input/cardiospikecompetition/train.csv')\n",
    "ids = df.id.unique()\n",
    "for rr_id in ids:\n",
    "    mask = (df.id==rr_id)\n",
    "    df.loc[mask, 'x_diff'] = df[mask].x.diff()\n",
    "    df.loc[mask, 'x_deviation_median'] = df[mask].x.median() - df[mask].x.values\n",
    "    for i in range(1,5):\n",
    "        # добавим в признаки 4 следующие точки\n",
    "        df.loc[mask, f'x+{i}'] = df[mask].x.shift(-i)\n",
    "        # и 4 предыдущие точки\n",
    "        df.loc[mask, f'x-{i}'] = df[mask].x.shift(i)\n",
    "    df.loc[mask, 'x-(x+1)'] = df[mask].x.values - df.loc[mask, 'x+1'].values\n",
    "#     df.loc[mask, 'x-(x-1)'] = df[mask].x.values - df.loc[mask, 'x-1'].values\n",
    "    df.loc[mask, 'x-(x+2)'] = df[mask].x.values - df.loc[mask, 'x+2'].values\n",
    "    df.loc[mask, 'x-(x-2)'] = df[mask].x.values - df.loc[mask, 'x-2'].values\n",
    "    df.loc[mask, 'x-(x+3)'] = df[mask].x.values - df.loc[mask, 'x+3'].values\n",
    "    df.loc[mask, 'x-(x-3)'] = df[mask].x.values - df.loc[mask, 'x-3'].values\n",
    "    df.loc[mask, 'x-(x+4)'] = df[mask].x.values - df.loc[mask, 'x+4'].values\n",
    "    df.loc[mask, 'x-(x-4)'] = df[mask].x.values - df.loc[mask, 'x-4'].values  "
   ]
  },
  {
   "cell_type": "code",
   "execution_count": 17,
   "id": "organizational-stockholm",
   "metadata": {
    "execution": {
     "iopub.execute_input": "2021-06-18T05:49:48.406468Z",
     "iopub.status.busy": "2021-06-18T05:49:48.405734Z",
     "iopub.status.idle": "2021-06-18T05:49:48.439548Z",
     "shell.execute_reply": "2021-06-18T05:49:48.438918Z",
     "shell.execute_reply.started": "2021-06-18T04:45:37.260077Z"
    },
    "jupyter": {
     "source_hidden": true
    },
    "papermill": {
     "duration": 0.079438,
     "end_time": "2021-06-18T05:49:48.439696",
     "exception": false,
     "start_time": "2021-06-18T05:49:48.360258",
     "status": "completed"
    },
    "tags": []
   },
   "outputs": [
    {
     "name": "stdout",
     "output_type": "stream",
     "text": [
      "TEST\n",
      "- всего ритмограмм в наборе данных 229 штук\n",
      "\n",
      "- в каждой ритмограмме первые и последние 4 строки \n",
      "будут с пропусками из-за отсутствия данных о прошлых и будущих точках для \n",
      "первых и последних 4 точек в радиограмме,\n",
      "следовательно строк с пропусками должно быть 1832 \n",
      "\n",
      "- финальный размер датасета должне быть 58655 \n",
      "\n",
      "смотрим, что получается по факту:\n",
      "df 60487\n",
      "df.dropna 58655\n",
      "разница 1832\n",
      "Итог: по размеру датасет соответствует ожидаемому\n",
      ":)\n"
     ]
    }
   ],
   "source": [
    "print('TEST')\n",
    "print('- всего ритмограмм в наборе данных', len(df.id.unique()), 'штук\\n')\n",
    "print('- в каждой ритмограмме первые и последние 4 строки \\n' \\\n",
    "       'будут с пропусками из-за отсутствия данных о прошлых и будущих точках для \\n' \\\n",
    "      'первых и последних 4 точек в радиограмме,\\n' \\\n",
    "      'следовательно строк с пропусками должно быть', len(df.id.unique())*8, '\\n')\n",
    "print('- финальный размер датасета должне быть', len(df)-len(df.id.unique())*8, '\\n')\n",
    "\n",
    "print('смотрим, что получается по факту:')\n",
    "print('df', len(df))\n",
    "print('df.dropna', len(df.dropna()))\n",
    "print('разница', len(df) - len(df.dropna()))\n",
    "if (len(df)-len(df.id.unique())*8 == len(df.dropna())):\n",
    "    print('Итог: по размеру датасет соответствует ожидаемому')\n",
    "    print(':)')\n",
    "else:\n",
    "    print('Итог: по размерности не сходится... ' \\\n",
    "          'надо проверить алгоритм добавления признаков')\n",
    "    print(':(')"
   ]
  },
  {
   "cell_type": "code",
   "execution_count": 18,
   "id": "developed-respect",
   "metadata": {
    "execution": {
     "iopub.execute_input": "2021-06-18T05:49:48.521007Z",
     "iopub.status.busy": "2021-06-18T05:49:48.520334Z",
     "iopub.status.idle": "2021-06-18T05:49:48.545369Z",
     "shell.execute_reply": "2021-06-18T05:49:48.545932Z",
     "shell.execute_reply.started": "2021-06-18T04:46:24.653833Z"
    },
    "papermill": {
     "duration": 0.068284,
     "end_time": "2021-06-18T05:49:48.546117",
     "exception": false,
     "start_time": "2021-06-18T05:49:48.477833",
     "status": "completed"
    },
    "tags": []
   },
   "outputs": [
    {
     "name": "stdout",
     "output_type": "stream",
     "text": [
      "<class 'pandas.core.frame.DataFrame'>\n",
      "Int64Index: 58655 entries, 4 to 60482\n",
      "Data columns (total 21 columns):\n",
      " #   Column              Non-Null Count  Dtype  \n",
      "---  ------              --------------  -----  \n",
      " 0   id                  58655 non-null  int64  \n",
      " 1   time                58655 non-null  int64  \n",
      " 2   x                   58655 non-null  int64  \n",
      " 3   y                   58655 non-null  int64  \n",
      " 4   x_diff              58655 non-null  float64\n",
      " 5   x_deviation_median  58655 non-null  float64\n",
      " 6   x+1                 58655 non-null  float64\n",
      " 7   x-1                 58655 non-null  float64\n",
      " 8   x+2                 58655 non-null  float64\n",
      " 9   x-2                 58655 non-null  float64\n",
      " 10  x+3                 58655 non-null  float64\n",
      " 11  x-3                 58655 non-null  float64\n",
      " 12  x+4                 58655 non-null  float64\n",
      " 13  x-4                 58655 non-null  float64\n",
      " 14  x-(x+1)             58655 non-null  float64\n",
      " 15  x-(x+2)             58655 non-null  float64\n",
      " 16  x-(x-2)             58655 non-null  float64\n",
      " 17  x-(x+3)             58655 non-null  float64\n",
      " 18  x-(x-3)             58655 non-null  float64\n",
      " 19  x-(x+4)             58655 non-null  float64\n",
      " 20  x-(x-4)             58655 non-null  float64\n",
      "dtypes: float64(17), int64(4)\n",
      "memory usage: 9.8 MB\n"
     ]
    }
   ],
   "source": [
    "df.dropna(inplace=True)\n",
    "df.info()"
   ]
  },
  {
   "cell_type": "code",
   "execution_count": 19,
   "id": "expressed-uruguay",
   "metadata": {
    "execution": {
     "iopub.execute_input": "2021-06-18T05:49:48.632222Z",
     "iopub.status.busy": "2021-06-18T05:49:48.631404Z",
     "iopub.status.idle": "2021-06-18T05:49:48.697494Z",
     "shell.execute_reply": "2021-06-18T05:49:48.698193Z",
     "shell.execute_reply.started": "2021-06-18T04:48:11.260108Z"
    },
    "papermill": {
     "duration": 0.11463,
     "end_time": "2021-06-18T05:49:48.698433",
     "exception": false,
     "start_time": "2021-06-18T05:49:48.583803",
     "status": "completed"
    },
    "tags": []
   },
   "outputs": [
    {
     "name": "stdout",
     "output_type": "stream",
     "text": [
      "scaler_hypothesis_2.pkl was saved in output directory\n",
      "train (46924, 18) (46924,)\n",
      "test (11731, 18) (11731,)\n"
     ]
    }
   ],
   "source": [
    "# make X and y\n",
    "X,y = make_XY(df)\n",
    "\n",
    "# make train and test datasets\n",
    "train_indexes, test_indexes = get_train_test_indexes(X,y)\n",
    "X_train = X[train_indexes]\n",
    "X_test = X[test_indexes]\n",
    "y_train = y[train_indexes]\n",
    "y_test = y[test_indexes]\n",
    "\n",
    "print('train', X_train.shape, y_train.shape)\n",
    "print('test', X_test.shape, y_test.shape)"
   ]
  },
  {
   "cell_type": "markdown",
   "id": "exciting-numbers",
   "metadata": {
    "papermill": {
     "duration": 0.038281,
     "end_time": "2021-06-18T05:49:48.775474",
     "exception": false,
     "start_time": "2021-06-18T05:49:48.737193",
     "status": "completed"
    },
    "tags": []
   },
   "source": [
    "## Cross validation"
   ]
  },
  {
   "cell_type": "code",
   "execution_count": 20,
   "id": "south-deposit",
   "metadata": {
    "execution": {
     "iopub.execute_input": "2021-06-18T05:49:48.859248Z",
     "iopub.status.busy": "2021-06-18T05:49:48.858547Z",
     "iopub.status.idle": "2021-06-18T05:49:51.534039Z",
     "shell.execute_reply": "2021-06-18T05:49:51.535108Z",
     "shell.execute_reply.started": "2021-06-18T04:48:22.771008Z"
    },
    "papermill": {
     "duration": 2.720878,
     "end_time": "2021-06-18T05:49:51.535327",
     "exception": false,
     "start_time": "2021-06-18T05:49:48.814449",
     "status": "completed"
    },
    "tags": []
   },
   "outputs": [
    {
     "name": "stdout",
     "output_type": "stream",
     "text": [
      "test_score: [0.94331259 0.90299207 0.85320945 0.93376524 0.92856534]\n",
      "mean test_score = 0.912368937004518\n"
     ]
    }
   ],
   "source": [
    "# LGBMClassifier with default params\n",
    "baseline = lgb.LGBMClassifier(random_state=RANDOM_STATE, n_jobs=-1)\n",
    "\n",
    "cv_result = cross_validate(baseline, X, y, cv=StratifiedKFold(), scoring='f1_micro')\n",
    "\n",
    "print('test_score:', cv_result['test_score'])\n",
    "print('mean test_score =', cv_result['test_score'].mean())"
   ]
  },
  {
   "cell_type": "markdown",
   "id": "compatible-monster",
   "metadata": {
    "papermill": {
     "duration": 0.038882,
     "end_time": "2021-06-18T05:49:51.613251",
     "exception": false,
     "start_time": "2021-06-18T05:49:51.574369",
     "status": "completed"
    },
    "tags": []
   },
   "source": [
    "baseline mean test_score = 0.895658192 (3 точки до и после)  \n",
    "baseline mean test_score = 0.912368937004518 (4 точки до и после)  "
   ]
  },
  {
   "cell_type": "markdown",
   "id": "primary-nerve",
   "metadata": {
    "papermill": {
     "duration": 0.037706,
     "end_time": "2021-06-18T05:49:51.689281",
     "exception": false,
     "start_time": "2021-06-18T05:49:51.651575",
     "status": "completed"
    },
    "tags": []
   },
   "source": [
    ">Таким образом, добавление 4-ой точки до и после в качестве признака улучшило скор."
   ]
  },
  {
   "cell_type": "markdown",
   "id": "fleet-memorial",
   "metadata": {
    "papermill": {
     "duration": 0.037606,
     "end_time": "2021-06-18T05:49:51.765451",
     "exception": false,
     "start_time": "2021-06-18T05:49:51.727845",
     "status": "completed"
    },
    "tags": []
   },
   "source": [
    "# model v4"
   ]
  },
  {
   "cell_type": "code",
   "execution_count": 21,
   "id": "familiar-worship",
   "metadata": {
    "execution": {
     "iopub.execute_input": "2021-06-18T05:49:51.849078Z",
     "iopub.status.busy": "2021-06-18T05:49:51.848408Z",
     "iopub.status.idle": "2021-06-18T05:49:56.650423Z",
     "shell.execute_reply": "2021-06-18T05:49:56.649687Z",
     "shell.execute_reply.started": "2021-06-18T05:08:57.840989Z"
    },
    "papermill": {
     "duration": 4.847053,
     "end_time": "2021-06-18T05:49:56.650565",
     "exception": false,
     "start_time": "2021-06-18T05:49:51.803512",
     "status": "completed"
    },
    "tags": []
   },
   "outputs": [
    {
     "name": "stdout",
     "output_type": "stream",
     "text": [
      "previous best score = 0.9318277932842765\n",
      "model_v4 score = 0.9452732077401756\n"
     ]
    },
    {
     "data": {
      "image/png": "[encoded data removed]",
      "text/plain": [
       "<Figure size 432x288 with 1 Axes>"
      ]
     },
     "metadata": {
      "needs_background": "light"
     },
     "output_type": "display_data"
    }
   ],
   "source": [
    "model_v4 = lgb.LGBMClassifier(n_estimators=1000, random_state=RANDOM_STATE, n_jobs=-1)\n",
    "model_v4.fit(X_train, y_train, eval_set=(X_test, y_test), verbose=False)\n",
    "lgb.plot_metric(model_v4);\n",
    "\n",
    "y_pred = model_v4.predict(X_test)\n",
    "print('previous best score =', 0.9318277932842765)\n",
    "print('model_v4 score =', f1_score(y_test, y_pred, average='micro'))"
   ]
  },
  {
   "cell_type": "code",
   "execution_count": 22,
   "id": "electrical-affair",
   "metadata": {
    "execution": {
     "iopub.execute_input": "2021-06-18T05:49:56.736064Z",
     "iopub.status.busy": "2021-06-18T05:49:56.735388Z",
     "iopub.status.idle": "2021-06-18T05:49:56.738426Z",
     "shell.execute_reply": "2021-06-18T05:49:56.739346Z",
     "shell.execute_reply.started": "2021-06-18T05:07:51.823725Z"
    },
    "papermill": {
     "duration": 0.049473,
     "end_time": "2021-06-18T05:49:56.739576",
     "exception": false,
     "start_time": "2021-06-18T05:49:56.690103",
     "status": "completed"
    },
    "tags": []
   },
   "outputs": [
    {
     "name": "stdout",
     "output_type": "stream",
     "text": [
      "None\n",
      "defaultdict(<class 'collections.OrderedDict'>, {'valid_0': OrderedDict([('binary_logloss', 0.17187529455268036)])})\n"
     ]
    }
   ],
   "source": [
    "print(model_v4.best_iteration_)\n",
    "print(model_v4.best_score_)"
   ]
  },
  {
   "cell_type": "code",
   "execution_count": 23,
   "id": "medieval-journalism",
   "metadata": {
    "execution": {
     "iopub.execute_input": "2021-06-18T05:49:56.825565Z",
     "iopub.status.busy": "2021-06-18T05:49:56.824898Z",
     "iopub.status.idle": "2021-06-18T05:49:59.057287Z",
     "shell.execute_reply": "2021-06-18T05:49:59.057778Z",
     "shell.execute_reply.started": "2021-06-18T05:09:40.420556Z"
    },
    "papermill": {
     "duration": 2.277038,
     "end_time": "2021-06-18T05:49:59.057956",
     "exception": false,
     "start_time": "2021-06-18T05:49:56.780918",
     "status": "completed"
    },
    "tags": []
   },
   "outputs": [
    {
     "name": "stdout",
     "output_type": "stream",
     "text": [
      "previous best score = 0.9318277932842765\n",
      "model_v4 score = 0.9448469866166567\n"
     ]
    },
    {
     "data": {
      "image/png": "[encoded data removed]",
      "text/plain": [
       "<Figure size 432x288 with 1 Axes>"
      ]
     },
     "metadata": {
      "needs_background": "light"
     },
     "output_type": "display_data"
    }
   ],
   "source": [
    "model_v4 = lgb.LGBMClassifier(n_estimators=650, random_state=RANDOM_STATE, n_jobs=-1)\n",
    "model_v4.fit(X_train, y_train, eval_set=(X_test, y_test), verbose=False, early_stopping_rounds=100)\n",
    "lgb.plot_metric(model_v4);\n",
    "\n",
    "y_pred = model_v4.predict(X_test)\n",
    "print('previous best score =', 0.9318277932842765)\n",
    "print('model_v4 score =', f1_score(y_test, y_pred, average='micro'))"
   ]
  },
  {
   "cell_type": "code",
   "execution_count": 24,
   "id": "laughing-introduction",
   "metadata": {
    "execution": {
     "iopub.execute_input": "2021-06-18T05:49:59.149738Z",
     "iopub.status.busy": "2021-06-18T05:49:59.148988Z",
     "iopub.status.idle": "2021-06-18T05:49:59.153277Z",
     "shell.execute_reply": "2021-06-18T05:49:59.152728Z",
     "shell.execute_reply.started": "2021-06-18T05:10:18.680446Z"
    },
    "papermill": {
     "duration": 0.051471,
     "end_time": "2021-06-18T05:49:59.153412",
     "exception": false,
     "start_time": "2021-06-18T05:49:59.101941",
     "status": "completed"
    },
    "tags": []
   },
   "outputs": [
    {
     "name": "stdout",
     "output_type": "stream",
     "text": [
      "309\n",
      "defaultdict(<class 'collections.OrderedDict'>, {'valid_0': OrderedDict([('binary_logloss', 0.16482338930650406)])})\n"
     ]
    }
   ],
   "source": [
    "print(model_v4.best_iteration_)\n",
    "print(model_v4.best_score_)"
   ]
  },
  {
   "cell_type": "code",
   "execution_count": 25,
   "id": "separated-produce",
   "metadata": {
    "execution": {
     "iopub.execute_input": "2021-06-18T05:49:59.240234Z",
     "iopub.status.busy": "2021-06-18T05:49:59.239579Z",
     "iopub.status.idle": "2021-06-18T05:50:04.874996Z",
     "shell.execute_reply": "2021-06-18T05:50:04.874414Z",
     "shell.execute_reply.started": "2021-06-18T05:12:50.155226Z"
    },
    "papermill": {
     "duration": 5.680285,
     "end_time": "2021-06-18T05:50:04.875161",
     "exception": false,
     "start_time": "2021-06-18T05:49:59.194876",
     "status": "completed"
    },
    "tags": []
   },
   "outputs": [
    {
     "name": "stdout",
     "output_type": "stream",
     "text": [
      "previous best score = 0.9448469866166567\n",
      "model_v5 score = 0.945869917313102\n"
     ]
    },
    {
     "data": {
      "image/png": "[encoded data removed]",
      "text/plain": [
       "<Figure size 432x288 with 1 Axes>"
      ]
     },
     "metadata": {
      "needs_background": "light"
     },
     "output_type": "display_data"
    }
   ],
   "source": [
    "model_v5 = lgb.LGBMClassifier(n_estimators=1000, learning_rate=0.01, random_state=RANDOM_STATE, n_jobs=-1)\n",
    "model_v5.fit(X_train, y_train, eval_set=(X_test, y_test), verbose=False)\n",
    "lgb.plot_metric(model_v5);\n",
    "\n",
    "y_pred = model_v5.predict(X_test)\n",
    "print('previous best score =', 0.9448469866166567)\n",
    "print('model_v5 score =', f1_score(y_test, y_pred, average='micro'))"
   ]
  },
  {
   "cell_type": "code",
   "execution_count": 26,
   "id": "printable-correction",
   "metadata": {
    "execution": {
     "iopub.execute_input": "2021-06-18T05:50:04.967228Z",
     "iopub.status.busy": "2021-06-18T05:50:04.966543Z",
     "iopub.status.idle": "2021-06-18T05:50:34.712558Z",
     "shell.execute_reply": "2021-06-18T05:50:34.713325Z",
     "shell.execute_reply.started": "2021-06-18T05:17:41.710161Z"
    },
    "papermill": {
     "duration": 29.795292,
     "end_time": "2021-06-18T05:50:34.713546",
     "exception": false,
     "start_time": "2021-06-18T05:50:04.918254",
     "status": "completed"
    },
    "tags": []
   },
   "outputs": [
    {
     "name": "stdout",
     "output_type": "stream",
     "text": [
      "previous best score = 0.945869917313102\n",
      "model_v5 score = 0.9463813826613247\n"
     ]
    },
    {
     "data": {
      "image/png": "[encoded data removed]",
      "text/plain": [
       "<Figure size 432x288 with 1 Axes>"
      ]
     },
     "metadata": {
      "needs_background": "light"
     },
     "output_type": "display_data"
    }
   ],
   "source": [
    "model_v5 = lgb.LGBMClassifier(n_estimators=6000, learning_rate=0.01, random_state=RANDOM_STATE, n_jobs=-1)\n",
    "model_v5.fit(X_train, y_train, eval_set=(X_test, y_test), verbose=False)\n",
    "lgb.plot_metric(model_v5);\n",
    "\n",
    "y_pred = model_v5.predict(X_test)\n",
    "print('previous best score =', 0.945869917313102)\n",
    "print('model_v5 score =', f1_score(y_test, y_pred, average='micro'))"
   ]
  },
  {
   "cell_type": "code",
   "execution_count": 27,
   "id": "criminal-female",
   "metadata": {
    "execution": {
     "iopub.execute_input": "2021-06-18T05:50:34.808206Z",
     "iopub.status.busy": "2021-06-18T05:50:34.807546Z",
     "iopub.status.idle": "2021-06-18T05:50:34.811062Z",
     "shell.execute_reply": "2021-06-18T05:50:34.810420Z",
     "shell.execute_reply.started": "2021-06-18T05:18:59.537227Z"
    },
    "papermill": {
     "duration": 0.053725,
     "end_time": "2021-06-18T05:50:34.811215",
     "exception": false,
     "start_time": "2021-06-18T05:50:34.757490",
     "status": "completed"
    },
    "tags": []
   },
   "outputs": [
    {
     "name": "stdout",
     "output_type": "stream",
     "text": [
      "None\n",
      "defaultdict(<class 'collections.OrderedDict'>, {'valid_0': OrderedDict([('binary_logloss', 0.1610930823851455)])})\n"
     ]
    }
   ],
   "source": [
    "print(model_v5.best_iteration_)\n",
    "print(model_v5.best_score_)"
   ]
  },
  {
   "cell_type": "code",
   "execution_count": 28,
   "id": "intelligent-reservation",
   "metadata": {
    "execution": {
     "iopub.execute_input": "2021-06-18T05:50:34.906321Z",
     "iopub.status.busy": "2021-06-18T05:50:34.905650Z",
     "iopub.status.idle": "2021-06-18T05:50:56.982300Z",
     "shell.execute_reply": "2021-06-18T05:50:56.982893Z",
     "shell.execute_reply.started": "2021-06-18T05:20:31.670514Z"
    },
    "papermill": {
     "duration": 22.127915,
     "end_time": "2021-06-18T05:50:56.983075",
     "exception": false,
     "start_time": "2021-06-18T05:50:34.855160",
     "status": "completed"
    },
    "tags": []
   },
   "outputs": [
    {
     "name": "stdout",
     "output_type": "stream",
     "text": [
      "previous best score = 0.9463813826613247\n",
      "model_v5 score = 0.9473190691330662\n",
      "best_iteration_ 3860\n"
     ]
    },
    {
     "data": {
      "image/png": "[encoded data removed]",
      "text/plain": [
       "<Figure size 432x288 with 1 Axes>"
      ]
     },
     "metadata": {
      "needs_background": "light"
     },
     "output_type": "display_data"
    }
   ],
   "source": [
    "model_v5 = lgb.LGBMClassifier(n_estimators=6000, learning_rate=0.01, random_state=RANDOM_STATE, n_jobs=-1)\n",
    "model_v5.fit(X_train, y_train, eval_set=(X_test, y_test), verbose=False, early_stopping_rounds=500)\n",
    "lgb.plot_metric(model_v5);\n",
    "\n",
    "y_pred = model_v5.predict(X_test)\n",
    "print('previous best score =', 0.9463813826613247)\n",
    "print('model_v5 score =', f1_score(y_test, y_pred, average='micro'))\n",
    "print('best_iteration_', model_v5.best_iteration_)"
   ]
  },
  {
   "cell_type": "code",
   "execution_count": 29,
   "id": "dimensional-forest",
   "metadata": {
    "execution": {
     "iopub.execute_input": "2021-06-18T05:50:57.084133Z",
     "iopub.status.busy": "2021-06-18T05:50:57.083368Z",
     "iopub.status.idle": "2021-06-18T05:51:20.239815Z",
     "shell.execute_reply": "2021-06-18T05:51:20.239305Z",
     "shell.execute_reply.started": "2021-06-18T05:22:50.174661Z"
    },
    "papermill": {
     "duration": 23.209416,
     "end_time": "2021-06-18T05:51:20.239964",
     "exception": false,
     "start_time": "2021-06-18T05:50:57.030548",
     "status": "completed"
    },
    "tags": []
   },
   "outputs": [
    {
     "name": "stdout",
     "output_type": "stream",
     "text": [
      "previous best score = 0.9473190691330662\n",
      "model_v6 score = 0.9457846730883983\n"
     ]
    },
    {
     "data": {
      "image/png": "[encoded data removed]",
      "text/plain": [
       "<Figure size 432x288 with 1 Axes>"
      ]
     },
     "metadata": {
      "needs_background": "light"
     },
     "output_type": "display_data"
    }
   ],
   "source": [
    "model_v6 = lgb.LGBMClassifier(n_estimators=3860, learning_rate=0.01, max_depth=14, num_leaves=50, \n",
    "                              random_state=RANDOM_STATE, n_jobs=-1)\n",
    "model_v6.fit(X_train, y_train, eval_set=(X_test, y_test), verbose=False)\n",
    "lgb.plot_metric(model_v6);\n",
    "\n",
    "y_pred = model_v6.predict(X_test)\n",
    "print('previous best score =', 0.9473190691330662)\n",
    "print('model_v6 score =', f1_score(y_test, y_pred, average='micro'))"
   ]
  },
  {
   "cell_type": "code",
   "execution_count": 30,
   "id": "simple-tracy",
   "metadata": {
    "execution": {
     "iopub.execute_input": "2021-06-18T05:51:20.341458Z",
     "iopub.status.busy": "2021-06-18T05:51:20.340744Z",
     "iopub.status.idle": "2021-06-18T05:51:43.937833Z",
     "shell.execute_reply": "2021-06-18T05:51:43.937277Z",
     "shell.execute_reply.started": "2021-06-18T05:47:21.620722Z"
    },
    "papermill": {
     "duration": 23.650093,
     "end_time": "2021-06-18T05:51:43.937985",
     "exception": false,
     "start_time": "2021-06-18T05:51:20.287892",
     "status": "completed"
    },
    "tags": []
   },
   "outputs": [
    {
     "name": "stdout",
     "output_type": "stream",
     "text": [
      "model_v5 score = 0.9473190691330662\n",
      "model score = 0.9473190691330662\n"
     ]
    },
    {
     "data": {
      "image/png": "[encoded data removed]",
      "text/plain": [
       "<Figure size 432x288 with 1 Axes>"
      ]
     },
     "metadata": {
      "needs_background": "light"
     },
     "output_type": "display_data"
    }
   ],
   "source": [
    "model = lgb.LGBMClassifier(n_estimators=3860, learning_rate=0.01, random_state=RANDOM_STATE, n_jobs=-1)\n",
    "model.fit(X_train, y_train, eval_set=(X_test, y_test), verbose=False)\n",
    "lgb.plot_metric(model);\n",
    "\n",
    "print('model_v5 score =', f1_score(y_test, model_v5.predict(X_test), average='micro'))\n",
    "print('model score =', f1_score(y_test, model.predict(X_test), average='micro'))"
   ]
  },
  {
   "cell_type": "code",
   "execution_count": 31,
   "id": "crazy-browse",
   "metadata": {
    "execution": {
     "iopub.execute_input": "2021-06-18T05:51:44.049840Z",
     "iopub.status.busy": "2021-06-18T05:51:44.048734Z",
     "iopub.status.idle": "2021-06-18T05:51:44.492452Z",
     "shell.execute_reply": "2021-06-18T05:51:44.492996Z",
     "shell.execute_reply.started": "2021-06-18T05:48:42.990432Z"
    },
    "papermill": {
     "duration": 0.506957,
     "end_time": "2021-06-18T05:51:44.493201",
     "exception": false,
     "start_time": "2021-06-18T05:51:43.986244",
     "status": "completed"
    },
    "tags": []
   },
   "outputs": [],
   "source": [
    "# save model\n",
    "with open('model_hypothesis_2.pkl', 'wb') as f:\n",
    "    pickle.dump(model, f)"
   ]
  },
  {
   "cell_type": "markdown",
   "id": "architectural-runner",
   "metadata": {
    "papermill": {
     "duration": 0.047425,
     "end_time": "2021-06-18T05:51:44.588155",
     "exception": false,
     "start_time": "2021-06-18T05:51:44.540730",
     "status": "completed"
    },
    "tags": []
   },
   "source": [
    "# Итог\n",
    "\n",
    "По итогу модель model_v5 с параметрами `n_estimators=3860, learning_rate=0.01` дала лучший результат из проверенных моделей,  \n",
    "`f1_micro = 0.9473190691330662`"
   ]
  }
 ],
 "metadata": {
  "kernelspec": {
   "display_name": "Python 3",
   "language": "python",
   "name": "python3"
  },
  "language_info": {
   "codemirror_mode": {
    "name": "ipython",
    "version": 3
   },
   "file_extension": ".py",
   "mimetype": "text/x-python",
   "name": "python",
   "nbconvert_exporter": "python",
   "pygments_lexer": "ipython3",
   "version": "3.6.9"
  },
  "papermill": {
   "default_parameters": {},
   "duration": 150.049168,
   "end_time": "2021-06-18T05:51:46.119292",
   "environment_variables": {},
   "exception": null,
   "input_path": "__notebook__.ipynb",
   "output_path": "__notebook__.ipynb",
   "parameters": {},
   "start_time": "2021-06-18T05:49:16.070124",
   "version": "2.3.3"
  }
 },
 "nbformat": 4,
 "nbformat_minor": 5
}
